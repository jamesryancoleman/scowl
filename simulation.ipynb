{
 "cells": [
  {
   "cell_type": "markdown",
   "id": "62875f44",
   "metadata": {},
   "source": [
    "# Scowl Simulated Deployment\n",
    "\n",
    "The objective of this notebook is to:\n",
    "1. Define the goals of the simulation run\n",
    "2. Declare the methods of running the simulation\n",
    "3. Visualize the simulation parameters\n",
    "4. Run the simulations\n",
    "5. Process the log data\n",
    "6. Visualize the results"
   ]
  },
  {
   "cell_type": "markdown",
   "id": "b6d4dcf8",
   "metadata": {},
   "source": [
    "## What is the scope of the simulation?\n",
    "\n",
    "1. Confirm the simulation parameters\n",
    "    1. `Peer` mix (generator, consumer, superpeer/storage)\n",
    "    2. Supply/Demand ratio\n",
    "    3. `Peer` to `Tracker` network latency\n",
    "    \n",
    "2. The evaluation should answer:\n",
    "    1. How many peers were rebalanced (independant variable) and how fast was the tracker able to rebalance its peers (dependant variable – in Hz)?\n",
    "    2. What was the limiting resource? (e.g., network, cpu, memory, etc.)\n",
    "    3. At what scale of peers did the limiting factor occur?\n",
    "    4. How long was the average peer \"starved\" for electricity?\n",
    "    5. When demand exceeded supply, did a black out occur?\n",
    "    6. When should the system be sharded?\n",
    "    7. When the network partitioned, did peers operating in SOC mode cause a black out in their region?\n",
    "    8. *Stretch Goal* How small of a partition can the grid operate under?"
   ]
  },
  {
   "cell_type": "markdown",
   "id": "adf602e8",
   "metadata": {},
   "source": [
    "# Simulation \"Run Sheet\"\n",
    "\n",
    "The simulation should have (2) main parts:\n",
    "1. **Electrical stress test under a healthy network** – There are imbalances between supply and demand, but the network remains up. `Trackers` attempt to pair `Consumers` with `Generators` that have additional capacity, the goal is to re-build the *ephemeral distribution trees* as fast as possible, so that `Consumer` starvation is minimized.\n",
    "2. **Electrical stress test under a partitioned network** – Communication between the tracker and the peers is broken. Each `Consumer` is operating as a self optimizing consumer (soc). Each `Generator` is a self-optimizing generator (sog). `Generators` can **only** warn SOCs of an impending black out by sending a `capacity_low` rpc to their partition. This is analagous to real-world electricity consumers feeling the voltage sag of a brown-out, in advance of a black out. The warned consumers respond by self-imposing a call to `DemandResponse()`, until the `Generator` unchokes them <sup>1</sup>. The key metric here is how many `capacity_low` messages are sent, and how much *deferred consumption* consumers experience (i.e., this messaged in time and kWhs).\n",
    "\n",
    "The energy mix will be based on the current the energy mix of New York State, and renewables will experience the same fluctations. The same \"day\" will be simulated for both the healthy network day (scowl) and the partitioned network day (soc/sog).\n",
    "\n",
    "***\n",
    "<sup>1</sup> This behaviour mimics the TCP congestion control algorithm, with a similar expectation that backing off demand will result in data (electricity) flowing again."
   ]
  },
  {
   "cell_type": "code",
   "execution_count": 1,
   "id": "22c10e0f",
   "metadata": {},
   "outputs": [],
   "source": [
    "import pandas as pd\n",
    "import numpy as np\n",
    "import matplotlib.pyplot as plt"
   ]
  },
  {
   "cell_type": "markdown",
   "id": "3e39d72f",
   "metadata": {},
   "source": [
    "## Electricity Generation Mix NY State (2020)"
   ]
  },
  {
   "cell_type": "code",
   "execution_count": 669,
   "id": "aada708d",
   "metadata": {},
   "outputs": [
    {
     "data": {
      "text/html": [
       "<div>\n",
       "<style scoped>\n",
       "    .dataframe tbody tr th:only-of-type {\n",
       "        vertical-align: middle;\n",
       "    }\n",
       "\n",
       "    .dataframe tbody tr th {\n",
       "        vertical-align: top;\n",
       "    }\n",
       "\n",
       "    .dataframe thead th {\n",
       "        text-align: right;\n",
       "    }\n",
       "</style>\n",
       "<table border=\"1\" class=\"dataframe\">\n",
       "  <thead>\n",
       "    <tr style=\"text-align: right;\">\n",
       "      <th></th>\n",
       "      <th>mwh</th>\n",
       "      <th>portion</th>\n",
       "      <th>renewable</th>\n",
       "    </tr>\n",
       "    <tr>\n",
       "      <th>type</th>\n",
       "      <th></th>\n",
       "      <th></th>\n",
       "      <th></th>\n",
       "    </tr>\n",
       "  </thead>\n",
       "  <tbody>\n",
       "    <tr>\n",
       "      <th>natural gas-fired</th>\n",
       "      <td>7530000</td>\n",
       "      <td>0.585810</td>\n",
       "      <td>False</td>\n",
       "    </tr>\n",
       "    <tr>\n",
       "      <th>nuclear</th>\n",
       "      <td>2380000</td>\n",
       "      <td>0.185156</td>\n",
       "      <td>False</td>\n",
       "    </tr>\n",
       "    <tr>\n",
       "      <th>hydroelectric</th>\n",
       "      <td>2234000</td>\n",
       "      <td>0.173798</td>\n",
       "      <td>True</td>\n",
       "    </tr>\n",
       "    <tr>\n",
       "      <th>land-based wind</th>\n",
       "      <td>383000</td>\n",
       "      <td>0.029796</td>\n",
       "      <td>True</td>\n",
       "    </tr>\n",
       "    <tr>\n",
       "      <th>utility-scale solar</th>\n",
       "      <td>287000</td>\n",
       "      <td>0.022328</td>\n",
       "      <td>True</td>\n",
       "    </tr>\n",
       "    <tr>\n",
       "      <th>petroleum-fired</th>\n",
       "      <td>40000</td>\n",
       "      <td>0.003112</td>\n",
       "      <td>False</td>\n",
       "    </tr>\n",
       "    <tr>\n",
       "      <th>offshore wind</th>\n",
       "      <td>0</td>\n",
       "      <td>0.000000</td>\n",
       "      <td>True</td>\n",
       "    </tr>\n",
       "    <tr>\n",
       "      <th>distributed solar</th>\n",
       "      <td>0</td>\n",
       "      <td>0.000000</td>\n",
       "      <td>True</td>\n",
       "    </tr>\n",
       "  </tbody>\n",
       "</table>\n",
       "</div>"
      ],
      "text/plain": [
       "                         mwh   portion  renewable\n",
       "type                                             \n",
       "natural gas-fired    7530000  0.585810      False\n",
       "nuclear              2380000  0.185156      False\n",
       "hydroelectric        2234000  0.173798       True\n",
       "land-based wind       383000  0.029796       True\n",
       "utility-scale solar   287000  0.022328       True\n",
       "petroleum-fired        40000  0.003112      False\n",
       "offshore wind              0  0.000000       True\n",
       "distributed solar          0  0.000000       True"
      ]
     },
     "execution_count": 669,
     "metadata": {},
     "output_type": "execute_result"
    }
   ],
   "source": [
    "g22 = pd.read_csv(\"data/2022_elec_gen_mix.csv\")\n",
    "g22.set_index(\"type\", inplace= True)\n",
    "g22['portion'] = g22.mwh / (g22.mwh.sum())\n",
    "g22.sort_values('mwh', ascending=False, inplace=True)\n",
    "g22['renewable'] = [False, False, True, True, True, False, True, True]\n",
    "g22"
   ]
  },
  {
   "cell_type": "code",
   "execution_count": 670,
   "id": "697c3aa2",
   "metadata": {},
   "outputs": [],
   "source": [
    "# pd.concat([g22,pd.DataFrame(g22.sum()).T]).rename(index={0: '2022 Total'})"
   ]
  },
  {
   "cell_type": "code",
   "execution_count": 671,
   "id": "ac985d66",
   "metadata": {},
   "outputs": [],
   "source": [
    "# Assigning consistent colors for graphs\n",
    "import matplotlib.colors as mcolors\n",
    "mcolors.TABLEAU_COLORS\n",
    "\n",
    "colors = []\n",
    "for i, v in enumerate(g22.index):\n",
    "    colors.append([v, list(mcolors.TABLEAU_COLORS.items())[i][0]])\n",
    "colors = pd.DataFrame(colors, columns=[\"type\", \"color\"]).set_index(\"type\")\n",
    "\n",
    "# using either is fine\n",
    "g22 = pd.concat([g22,colors], axis = 1)\n",
    "color_dict = g22.color.to_dict()"
   ]
  },
  {
   "cell_type": "markdown",
   "id": "32db2c8d",
   "metadata": {},
   "source": [
    "***"
   ]
  },
  {
   "cell_type": "markdown",
   "id": "1bf23d35",
   "metadata": {},
   "source": [
    "## Electricity Generation Mix NY State (2030)"
   ]
  },
  {
   "cell_type": "code",
   "execution_count": 672,
   "id": "461a4269",
   "metadata": {},
   "outputs": [
    {
     "data": {
      "text/html": [
       "<div>\n",
       "<style scoped>\n",
       "    .dataframe tbody tr th:only-of-type {\n",
       "        vertical-align: middle;\n",
       "    }\n",
       "\n",
       "    .dataframe tbody tr th {\n",
       "        vertical-align: top;\n",
       "    }\n",
       "\n",
       "    .dataframe thead th {\n",
       "        text-align: right;\n",
       "    }\n",
       "</style>\n",
       "<table border=\"1\" class=\"dataframe\">\n",
       "  <thead>\n",
       "    <tr style=\"text-align: right;\">\n",
       "      <th></th>\n",
       "      <th>mwh</th>\n",
       "      <th>portion</th>\n",
       "      <th>renewable</th>\n",
       "      <th>color</th>\n",
       "    </tr>\n",
       "    <tr>\n",
       "      <th>type</th>\n",
       "      <th></th>\n",
       "      <th></th>\n",
       "      <th></th>\n",
       "      <th></th>\n",
       "    </tr>\n",
       "  </thead>\n",
       "  <tbody>\n",
       "    <tr>\n",
       "      <th>hydroelectric</th>\n",
       "      <td>3252480</td>\n",
       "      <td>0.302400</td>\n",
       "      <td>True</td>\n",
       "      <td>tab:green</td>\n",
       "    </tr>\n",
       "    <tr>\n",
       "      <th>nuclear</th>\n",
       "      <td>2380000</td>\n",
       "      <td>0.221281</td>\n",
       "      <td>False</td>\n",
       "      <td>tab:orange</td>\n",
       "    </tr>\n",
       "    <tr>\n",
       "      <th>natural gas-fired</th>\n",
       "      <td>1276889</td>\n",
       "      <td>0.118719</td>\n",
       "      <td>False</td>\n",
       "      <td>tab:blue</td>\n",
       "    </tr>\n",
       "    <tr>\n",
       "      <th>offshore wind</th>\n",
       "      <td>1258400</td>\n",
       "      <td>0.117000</td>\n",
       "      <td>True</td>\n",
       "      <td>tab:pink</td>\n",
       "    </tr>\n",
       "    <tr>\n",
       "      <th>utility-scale solar</th>\n",
       "      <td>1132560</td>\n",
       "      <td>0.105300</td>\n",
       "      <td>True</td>\n",
       "      <td>tab:purple</td>\n",
       "    </tr>\n",
       "    <tr>\n",
       "      <th>distributed solar</th>\n",
       "      <td>761493</td>\n",
       "      <td>0.070800</td>\n",
       "      <td>True</td>\n",
       "      <td>tab:gray</td>\n",
       "    </tr>\n",
       "    <tr>\n",
       "      <th>land-based wind</th>\n",
       "      <td>693733</td>\n",
       "      <td>0.064500</td>\n",
       "      <td>True</td>\n",
       "      <td>tab:red</td>\n",
       "    </tr>\n",
       "    <tr>\n",
       "      <th>petroleum-fired</th>\n",
       "      <td>0</td>\n",
       "      <td>0.000000</td>\n",
       "      <td>False</td>\n",
       "      <td>tab:brown</td>\n",
       "    </tr>\n",
       "  </tbody>\n",
       "</table>\n",
       "</div>"
      ],
      "text/plain": [
       "                         mwh   portion  renewable       color\n",
       "type                                                         \n",
       "hydroelectric        3252480  0.302400       True   tab:green\n",
       "nuclear              2380000  0.221281      False  tab:orange\n",
       "natural gas-fired    1276889  0.118719      False    tab:blue\n",
       "offshore wind        1258400  0.117000       True    tab:pink\n",
       "utility-scale solar  1132560  0.105300       True  tab:purple\n",
       "distributed solar     761493  0.070800       True    tab:gray\n",
       "land-based wind       693733  0.064500       True     tab:red\n",
       "petroleum-fired            0  0.000000      False   tab:brown"
      ]
     },
     "execution_count": 672,
     "metadata": {},
     "output_type": "execute_result"
    }
   ],
   "source": [
    "g30 = pd.read_csv(\"data/2030_elec_gen_mix.csv\")\n",
    "g30.set_index(\"type\", inplace= True)\n",
    "g30['portion'] = g30.mwh / (g30.mwh.sum())\n",
    "g30.sort_values('mwh', ascending=False, inplace=True)\n",
    "g22 = g22.reindex(g30.index.to_list()) # make g22 use same index order as g30\n",
    "g30['renewable'] = g22['renewable']\n",
    "g30['color'] = g22['color']\n",
    "g30\n",
    "# pd.concat([g30,pd.DataFrame(g30.sum()).T]).rename(index={0: '2023 Total'})"
   ]
  },
  {
   "cell_type": "markdown",
   "id": "413ab6f1",
   "metadata": {},
   "source": [
    "## Electricity Mix 2022 and 2030"
   ]
  },
  {
   "cell_type": "code",
   "execution_count": 677,
   "id": "87218658",
   "metadata": {},
   "outputs": [
    {
     "data": {
      "image/png": "[encoded data removed]",
      "text/plain": [
       "<Figure size 825x330 with 2 Axes>"
      ]
     },
     "metadata": {},
     "output_type": "display_data"
    }
   ],
   "source": [
    "fig = plt.figure(figsize=(7.5,3), dpi=110)\n",
    "\n",
    "ax1 = fig.add_subplot(121)\n",
    "ax1.pie(np.round(g22[g22.portion > 0].portion*100,1), labels=g22[g22.portion > 0].index,autopct='%.1f%%', textprops={'fontsize': 8}, colors=g22[g22.portion > 0].color)\n",
    "ax1.title.set_text('Electricity generation by source\\nNew York State (2022)')\n",
    "ax1.title.set_size(9)\n",
    "\n",
    "ax2 = fig.add_subplot(122)\n",
    "ax2.pie(np.round(g30[g30.portion > 0].portion*100,1), labels=g30[g30.portion > 0].index,autopct='%.1f%%', textprops={'fontsize': 8}, colors=g30[g30.portion > 0].color)\n",
    "ax2.title.set_text('Electricity generation by source\\nNew York State (2030)')\n",
    "ax2.title.set_size(9)\n",
    "\n",
    "plt.show()"
   ]
  },
  {
   "cell_type": "markdown",
   "id": "61a3487b",
   "metadata": {},
   "source": [
    "## Electricity Generation by Month"
   ]
  },
  {
   "cell_type": "code",
   "execution_count": 8,
   "id": "bef34a8b",
   "metadata": {
    "scrolled": false
   },
   "outputs": [
    {
     "data": {
      "text/html": [
       "<div>\n",
       "<style scoped>\n",
       "    .dataframe tbody tr th:only-of-type {\n",
       "        vertical-align: middle;\n",
       "    }\n",
       "\n",
       "    .dataframe tbody tr th {\n",
       "        vertical-align: top;\n",
       "    }\n",
       "\n",
       "    .dataframe thead th {\n",
       "        text-align: right;\n",
       "    }\n",
       "</style>\n",
       "<table border=\"1\" class=\"dataframe\">\n",
       "  <thead>\n",
       "    <tr style=\"text-align: right;\">\n",
       "      <th></th>\n",
       "      <th>hydroelectric</th>\n",
       "      <th>other_renewables</th>\n",
       "      <th>year</th>\n",
       "    </tr>\n",
       "  </thead>\n",
       "  <tbody>\n",
       "    <tr>\n",
       "      <th>Jan</th>\n",
       "      <td>2017.0</td>\n",
       "      <td>154.0</td>\n",
       "      <td>2001</td>\n",
       "    </tr>\n",
       "    <tr>\n",
       "      <th>Feb</th>\n",
       "      <td>2013.0</td>\n",
       "      <td>141.0</td>\n",
       "      <td>2001</td>\n",
       "    </tr>\n",
       "    <tr>\n",
       "      <th>Mar</th>\n",
       "      <td>2203.0</td>\n",
       "      <td>156.0</td>\n",
       "      <td>2001</td>\n",
       "    </tr>\n",
       "    <tr>\n",
       "      <th>Apr</th>\n",
       "      <td>2043.0</td>\n",
       "      <td>141.0</td>\n",
       "      <td>2001</td>\n",
       "    </tr>\n",
       "    <tr>\n",
       "      <th>May</th>\n",
       "      <td>2053.0</td>\n",
       "      <td>159.0</td>\n",
       "      <td>2001</td>\n",
       "    </tr>\n",
       "    <tr>\n",
       "      <th>Jun</th>\n",
       "      <td>1921.0</td>\n",
       "      <td>154.0</td>\n",
       "      <td>2001</td>\n",
       "    </tr>\n",
       "    <tr>\n",
       "      <th>Jul</th>\n",
       "      <td>1801.0</td>\n",
       "      <td>153.0</td>\n",
       "      <td>2001</td>\n",
       "    </tr>\n",
       "    <tr>\n",
       "      <th>Aug</th>\n",
       "      <td>1698.0</td>\n",
       "      <td>159.0</td>\n",
       "      <td>2001</td>\n",
       "    </tr>\n",
       "    <tr>\n",
       "      <th>Sep</th>\n",
       "      <td>1575.0</td>\n",
       "      <td>147.0</td>\n",
       "      <td>2001</td>\n",
       "    </tr>\n",
       "    <tr>\n",
       "      <th>Oct</th>\n",
       "      <td>1740.0</td>\n",
       "      <td>138.0</td>\n",
       "      <td>2001</td>\n",
       "    </tr>\n",
       "    <tr>\n",
       "      <th>Nov</th>\n",
       "      <td>1909.0</td>\n",
       "      <td>145.0</td>\n",
       "      <td>2001</td>\n",
       "    </tr>\n",
       "    <tr>\n",
       "      <th>Dec</th>\n",
       "      <td>2110.0</td>\n",
       "      <td>154.0</td>\n",
       "      <td>2001</td>\n",
       "    </tr>\n",
       "  </tbody>\n",
       "</table>\n",
       "</div>"
      ],
      "text/plain": [
       "     hydroelectric  other_renewables  year\n",
       "Jan         2017.0             154.0  2001\n",
       "Feb         2013.0             141.0  2001\n",
       "Mar         2203.0             156.0  2001\n",
       "Apr         2043.0             141.0  2001\n",
       "May         2053.0             159.0  2001\n",
       "Jun         1921.0             154.0  2001\n",
       "Jul         1801.0             153.0  2001\n",
       "Aug         1698.0             159.0  2001\n",
       "Sep         1575.0             147.0  2001\n",
       "Oct         1740.0             138.0  2001\n",
       "Nov         1909.0             145.0  2001\n",
       "Dec         2110.0             154.0  2001"
      ]
     },
     "execution_count": 8,
     "metadata": {},
     "output_type": "execute_result"
    }
   ],
   "source": [
    "monthly_elec = pd.read_csv(\"data/ny_electricity_by_month.csv\", skiprows=4)\n",
    "monthly_elec.drop([\"units\",\"source key\"], axis=1,inplace=True)\n",
    "monthly_elec.set_index(\"description\", inplace=True)\n",
    "monthly_elec = monthly_elec.T\n",
    "monthly_elec.drop([\"New York\", \"New York : all fuels (utility-scale)\"], axis=1,inplace=True)\n",
    "monthly_elec.columns = [\"hydroelectric\", \"other_renewables\"]\n",
    "\n",
    "month_years = [i.split(\"-\") for i in monthly_elec.index.to_list()]\n",
    "months = [i[0] for i in month_years]\n",
    "years = [int(i[1]) for i in month_years]\n",
    "\n",
    "monthly_elec.index = months\n",
    "monthly_elec['year'] = np.array(years) + 2000\n",
    "\n",
    "monthly_elec.head(12)"
   ]
  },
  {
   "cell_type": "code",
   "execution_count": 177,
   "id": "2ea7956a",
   "metadata": {},
   "outputs": [
    {
     "data": {
      "image/png": "[encoded data removed]",
      "text/plain": [
       "<Figure size 825x330 with 1 Axes>"
      ]
     },
     "metadata": {
      "needs_background": "light"
     },
     "output_type": "display_data"
    }
   ],
   "source": [
    "hydro_mwh = []\n",
    "for month in monthly_elec.index.unique():\n",
    "    hydro_mwh.append(monthly_elec.hydroelectric[monthly_elec.index == month].values)\n",
    "\n",
    "hydro_mins = pd.DataFrame(hydro_mwh).T.min()\n",
    "hydro_maxs = pd.DataFrame(hydro_mwh).T.max()\n",
    "hydro_meds = pd.DataFrame(hydro_mwh).T.median()\n",
    "\n",
    "fig, ax1 = plt.subplots(figsize=(7.5,3), dpi=110)\n",
    "\n",
    "parts1 = ax1.violinplot(hydro_mwh, showmedians=False, showextrema=False)\n",
    "ax1.set_title('Hydroelectric generation by month\\n2001-2022')\n",
    "ax1.set_xticks(np.arange(1, len(months) + 1))\n",
    "ax1.set_ylabel(\"mWh\")\n",
    "ax1.set_xlabel(\"month\")\n",
    "\n",
    "for pc in parts1['bodies']:\n",
    "    pc.set_ec('tab:blue')\n",
    "    pc.set_facecolor('tab:blue')\n",
    "    pc.set_alpha(0.5)\n",
    "    \n",
    "# ax1.scatter([1]*len(months), monthly_elec.hydroelectric, marker='o', color='k', s=15, alpha=.1,zorder=3)\n",
    "ax1.scatter(range(1,len(months)+1), hydro_meds, marker='o', color='k', s=30, alpha=1,zorder=3)\n",
    "ax1.vlines(range(1,len(months)+1), hydro_mins, hydro_maxs, color='k', linestyle='-', lw=0.75)\n",
    "\n",
    "plt.show()"
   ]
  },
  {
   "cell_type": "code",
   "execution_count": 179,
   "id": "442e417d",
   "metadata": {},
   "outputs": [
    {
     "data": {
      "image/png": "[encoded data removed]",
      "text/plain": [
       "<Figure size 825x330 with 1 Axes>"
      ]
     },
     "metadata": {
      "needs_background": "light"
     },
     "output_type": "display_data"
    }
   ],
   "source": [
    "other_mwh = []\n",
    "for month in monthly_elec.index.unique():\n",
    "    other_mwh.append(monthly_elec.other_renewables[monthly_elec.index == month].values)\n",
    "\n",
    "other_mins = pd.DataFrame(other_mwh).T.min()\n",
    "other_maxs = pd.DataFrame(other_mwh).T.max()\n",
    "other_meds = pd.DataFrame(other_mwh).T.median()\n",
    "\n",
    "fig, ax1 = plt.subplots(figsize=(7.5,3), dpi=110)\n",
    "\n",
    "parts1 = ax1.violinplot(other_mwh, showmedians=False, showextrema=False)\n",
    "ax1.set_title('Solar and wind generation by month\\n2001-2022')\n",
    "ax1.set_xticks(np.arange(1, len(months) + 1))\n",
    "ax1.set_ylabel(\"mWh\")\n",
    "ax1.set_xlabel(\"month\")\n",
    "\n",
    "for pc in parts1['bodies']:\n",
    "    pc.set_ec('gold')\n",
    "    pc.set_facecolor('gold')\n",
    "    pc.set_alpha(0.5)\n",
    "    \n",
    "# ax1.scatter([1]*len(months), monthly_elec.hydroelectric, marker='o', color='k', s=15, alpha=.1,zorder=3)\n",
    "ax1.scatter(range(1,len(months)+1), other_meds, marker='o', color='k', s=30, alpha=1,zorder=3)\n",
    "ax1.vlines(range(1,len(months)+1), other_mins, other_maxs, color='k', linestyle='-', lw=0.75)\n",
    "\n",
    "plt.show()"
   ]
  },
  {
   "cell_type": "markdown",
   "id": "d524a14f",
   "metadata": {},
   "source": [
    "***"
   ]
  },
  {
   "cell_type": "markdown",
   "id": "50138026",
   "metadata": {},
   "source": [
    "## Understanding DERs in 2022"
   ]
  },
  {
   "cell_type": "code",
   "execution_count": 224,
   "id": "ca744172",
   "metadata": {},
   "outputs": [
    {
     "data": {
      "text/html": [
       "<div>\n",
       "<style scoped>\n",
       "    .dataframe tbody tr th:only-of-type {\n",
       "        vertical-align: middle;\n",
       "    }\n",
       "\n",
       "    .dataframe tbody tr th {\n",
       "        vertical-align: top;\n",
       "    }\n",
       "\n",
       "    .dataframe thead th {\n",
       "        text-align: right;\n",
       "    }\n",
       "</style>\n",
       "<table border=\"1\" class=\"dataframe\">\n",
       "  <thead>\n",
       "    <tr style=\"text-align: right;\">\n",
       "      <th></th>\n",
       "      <th>quantity</th>\n",
       "      <th>generation</th>\n",
       "      <th>fuel</th>\n",
       "      <th>storage_type</th>\n",
       "      <th>storage_subtype</th>\n",
       "      <th>storage_capacity</th>\n",
       "      <th>cooling_storage_capacity</th>\n",
       "    </tr>\n",
       "  </thead>\n",
       "  <tbody>\n",
       "    <tr>\n",
       "      <th>0</th>\n",
       "      <td>1</td>\n",
       "      <td>318.99</td>\n",
       "      <td>Solar</td>\n",
       "      <td>NaN</td>\n",
       "      <td>NaN</td>\n",
       "      <td>NaN</td>\n",
       "      <td>NaN</td>\n",
       "    </tr>\n",
       "    <tr>\n",
       "      <th>1</th>\n",
       "      <td>2</td>\n",
       "      <td>75.00</td>\n",
       "      <td>Natural Gas</td>\n",
       "      <td>NaN</td>\n",
       "      <td>NaN</td>\n",
       "      <td>NaN</td>\n",
       "      <td>NaN</td>\n",
       "    </tr>\n",
       "    <tr>\n",
       "      <th>2</th>\n",
       "      <td>1</td>\n",
       "      <td>65.00</td>\n",
       "      <td>Natural Gas</td>\n",
       "      <td>NaN</td>\n",
       "      <td>NaN</td>\n",
       "      <td>NaN</td>\n",
       "      <td>NaN</td>\n",
       "    </tr>\n",
       "    <tr>\n",
       "      <th>3</th>\n",
       "      <td>1</td>\n",
       "      <td>2507.67</td>\n",
       "      <td>Solar</td>\n",
       "      <td>NaN</td>\n",
       "      <td>NaN</td>\n",
       "      <td>NaN</td>\n",
       "      <td>NaN</td>\n",
       "    </tr>\n",
       "    <tr>\n",
       "      <th>4</th>\n",
       "      <td>1</td>\n",
       "      <td>2152.08</td>\n",
       "      <td>Solar</td>\n",
       "      <td>NaN</td>\n",
       "      <td>NaN</td>\n",
       "      <td>NaN</td>\n",
       "      <td>NaN</td>\n",
       "    </tr>\n",
       "  </tbody>\n",
       "</table>\n",
       "</div>"
      ],
      "text/plain": [
       "   quantity  generation         fuel storage_type storage_subtype  \\\n",
       "0         1      318.99        Solar          NaN             NaN   \n",
       "1         2       75.00  Natural Gas          NaN             NaN   \n",
       "2         1       65.00  Natural Gas          NaN             NaN   \n",
       "3         1     2507.67        Solar          NaN             NaN   \n",
       "4         1     2152.08        Solar          NaN             NaN   \n",
       "\n",
       "   storage_capacity  cooling_storage_capacity  \n",
       "0               NaN                       NaN  \n",
       "1               NaN                       NaN  \n",
       "2               NaN                       NaN  \n",
       "3               NaN                       NaN  \n",
       "4               NaN                       NaN  "
      ]
     },
     "execution_count": 224,
     "metadata": {},
     "output_type": "execute_result"
    }
   ],
   "source": [
    "cols = [\n",
    "    'Number of Devices',\n",
    "    'Rated Electric Generation Per Device (kW)',\n",
    "    'Primary Fuel',\n",
    "    'ESS Type',\n",
    "    'ESS Subtype',\n",
    "    'Rated Electric Storage Capacity Per Device (kWh)',\n",
    "    'Equivalent Electrical Storage Capacity Per Device from Cooling Sources (kWh)',\n",
    "]\n",
    "\n",
    "short_cols = [\n",
    "    'quantity',\n",
    "    'generation',\n",
    "    'fuel',\n",
    "    'storage_type',\n",
    "    'storage_subtype',\n",
    "    'storage_capacity',\n",
    "    'cooling_storage_capacity',\n",
    "]\n",
    "\n",
    "ders = pd.read_excel('data/nys_der_metrics.xlsx', sheet_name='DE Resources')\n",
    "ders = ders[cols]\n",
    "ders.columns = short_cols\n",
    "ders.head()"
   ]
  },
  {
   "cell_type": "code",
   "execution_count": 225,
   "id": "0baf6c3a",
   "metadata": {},
   "outputs": [],
   "source": [
    "total_gen = ders.generation.sum()\n",
    "total_electric_storage = ders.storage_capacity.sum()\n",
    "total_cooling_storage = ders.storage_capacity.sum()"
   ]
  },
  {
   "cell_type": "markdown",
   "id": "169d882b",
   "metadata": {},
   "source": [
    "### DER Growth Assumptions \n",
    "\n",
    "Per state motor vehicle registrations in 2017, there **4%** of all cars in the US are registered in NYS.\n",
    "\n",
    "[EEI](https://www.eei.org/News/news/All/eei-projects-26-million-electric-vehicles-will-be-on-us-roads-in-2030#:~:text=The%20number%20of%20EVs%20on,on%20U.S.%20roads%20in%202030.) projects that there will be 26.4M electric cars on the road, meaning 4% of those will be in NYS.\n",
    "\n",
    "Per [Car and Driver](https://www.caranddriver.com/features/g36278968/best-selling-evs-of-2021/) the number one selling electric car in 2021 was the Tesla Model Y with a battery size of ~80kWhs [source](https://www.caranddriver.com/tesla/model-y/specs).\n",
    "\n",
    "So let's assume that there's a total of 1056000 electric vehicles (26.4M vehicles * 4% in NYS) with a total storage capacity of 84,480,000 kWhs or 84,480 MWhs of ***additional*** electric storage capacity will be available in 2030.\n",
    "\n",
    "Let's double the adoption of cooling storage..."
   ]
  },
  {
   "cell_type": "code",
   "execution_count": 295,
   "id": "10c9bdab",
   "metadata": {},
   "outputs": [
    {
     "name": "stdout",
     "output_type": "stream",
     "text": [
      "DER Capacities by type\n"
     ]
    },
    {
     "data": {
      "text/html": [
       "<div>\n",
       "<style scoped>\n",
       "    .dataframe tbody tr th:only-of-type {\n",
       "        vertical-align: middle;\n",
       "    }\n",
       "\n",
       "    .dataframe tbody tr th {\n",
       "        vertical-align: top;\n",
       "    }\n",
       "\n",
       "    .dataframe thead th {\n",
       "        text-align: right;\n",
       "    }\n",
       "</style>\n",
       "<table border=\"1\" class=\"dataframe\">\n",
       "  <thead>\n",
       "    <tr style=\"text-align: right;\">\n",
       "      <th></th>\n",
       "      <th>elec_gen</th>\n",
       "      <th>elec_storage</th>\n",
       "      <th>cooling_storage</th>\n",
       "    </tr>\n",
       "    <tr>\n",
       "      <th>year</th>\n",
       "      <th></th>\n",
       "      <th></th>\n",
       "      <th></th>\n",
       "    </tr>\n",
       "  </thead>\n",
       "  <tbody>\n",
       "    <tr>\n",
       "      <th>2022</th>\n",
       "      <td>2200.199577</td>\n",
       "      <td>358.442</td>\n",
       "      <td>358.442</td>\n",
       "    </tr>\n",
       "    <tr>\n",
       "      <th>2030</th>\n",
       "      <td>5500.498943</td>\n",
       "      <td>84838.442</td>\n",
       "      <td>716.884</td>\n",
       "    </tr>\n",
       "  </tbody>\n",
       "</table>\n",
       "</div>"
      ],
      "text/plain": [
       "         elec_gen  elec_storage  cooling_storage\n",
       "year                                            \n",
       "2022  2200.199577       358.442          358.442\n",
       "2030  5500.498943     84838.442          716.884"
      ]
     },
     "execution_count": 295,
     "metadata": {},
     "output_type": "execute_result"
    }
   ],
   "source": [
    "# All in MWh\n",
    "der_stats = [\n",
    "        {'year': 2022, 'elec_gen': total_gen/1000, 'elec_storage': total_electric_storage/1000, 'cooling_storage': total_electric_storage/1000},\n",
    "        {'year': 2030, 'elec_gen': total_gen*2.5/1000, 'elec_storage': (total_electric_storage/1000) + 84480, 'cooling_storage': total_electric_storage*2/1000}\n",
    "    ]\n",
    "\n",
    "print(\"DER Capacities by type\")\n",
    "der_stats = pd.DataFrame(der_stats)\n",
    "der_stats.set_index(\"year\", inplace=True)\n",
    "der_stats"
   ]
  },
  {
   "cell_type": "code",
   "execution_count": 350,
   "id": "78660a44",
   "metadata": {},
   "outputs": [
    {
     "name": "stdout",
     "output_type": "stream",
     "text": [
      "Operational DER Resources (2022)\n",
      "\n",
      "Total electric generation (MW): 2200.199577\n",
      "Total electric storage (MWh):    358.442\n",
      "Total cooling storage (MWh):     358.442\n",
      "\n",
      "\n",
      "Estimated DER Resources (2030)\n",
      "\n",
      "Total electric generation (MW): 5500.4989425\n",
      "Total electric storage (MWh):   84838.442\n",
      "Total cooling storage (MWh):     716.884\n"
     ]
    },
    {
     "data": {
      "image/png": "[encoded data removed]",
      "text/plain": [
       "<Figure size 432x288 with 1 Axes>"
      ]
     },
     "metadata": {
      "needs_background": "light"
     },
     "output_type": "display_data"
    }
   ],
   "source": [
    "print(\"Operational DER Resources (2022)\\n\")\n",
    "print(\"Total electric generation (MW): {}\".format(total_gen/1000))\n",
    "print(\"Total electric storage (MWh):    {}\".format(total_electric_storage/1000))\n",
    "print(\"Total cooling storage (MWh):     {}\".format(total_electric_storage/1000))\n",
    "\n",
    "print(\"\\n\\nEstimated DER Resources (2030)\\n\")\n",
    "print(\"Total electric generation (MW): {}\".format(total_gen*2.5/1000))\n",
    "print(\"Total electric storage (MWh):   {}\".format((total_electric_storage/1000) + 84480))\n",
    "print(\"Total cooling storage (MWh):     {}\".format(total_electric_storage*2/1000))\n",
    "\n",
    "der_stats.plot.bar(zorder=5)\n",
    "plt.yscale('log') # or \"log\"\n",
    "plt.ylabel(\"MWh (log scale)\")\n",
    "plt.grid(which='major', zorder=3, color='k', linewidth=1) # color='r', linestyle='-', linewidth=2\n",
    "plt.grid(which='minor', zorder=4, linewidth=0.5)\n",
    "plt.title(\"Expected growth in NY State DERs\\n2022 - 2030\")\n",
    "plt.show()"
   ]
  },
  {
   "cell_type": "markdown",
   "id": "70118d19",
   "metadata": {},
   "source": [
    "## Simulating a dymanic electricity market\n",
    "\n",
    "To raise the stakes that **ScOWL** must content with, we'll have an aggregate supply that is always chasing the demand curve. In order to prevent blackouts, and minimize brownouts, we'll have to rapidly recalcuate the *ephermal distribution trees* for each `Generateor` presently available.\n",
    "\n",
    "#### In short,\n",
    "\n",
    "- When we have an excess of supply, our storage resources should kick in.\n",
    "- When we have an too much demand, a `Generator` should signal to each `Consumer` in their distribution tree to reduce demand (via a `low_capacity` RPC).\n",
    "- If a `Consumer` does not back off fast enough, it could blackout their whole tree.\n",
    "- When a `Consumers` region is blackedout, the `Tracker` tries to pair its consumption with another `Generator` and add it to their tree. If it cannot find a `Generator` with available capacity. That `Consumer` gets ***starved***. \n",
    "- `Consumer` starvation is a key metric for evaluation."
   ]
  },
  {
   "cell_type": "code",
   "execution_count": 353,
   "id": "da503b6c",
   "metadata": {},
   "outputs": [
    {
     "data": {
      "image/png": "[encoded data removed]",
      "text/plain": [
       "<Figure size 825x330 with 1 Axes>"
      ]
     },
     "metadata": {
      "needs_background": "light"
     },
     "output_type": "display_data"
    }
   ],
   "source": [
    "time = np.arange(0,8*np.pi,0.1)\n",
    "supply = np.cos(time) + g30.mwh.sum()\n",
    "demand = np.sin(time) + g30.mwh.sum()\n",
    "data = {\n",
    "    \"supply\": supply,\n",
    "    \"demand\": demand\n",
    "}\n",
    "df = pd.DataFrame(data, index=time)\n",
    "\n",
    "fig, ax1 = plt.subplots(figsize=(7.5,3), dpi=110)\n",
    "\n",
    "ax1.plot(df['supply'], color=\"black\")\n",
    "ax1.plot(df['demand'], color=\"tab:red\")            \n",
    "ax1.set_ylabel(\"MWh\")\n",
    "ax1.set_title(\"Available Supply vs. Desired Demand\")\n",
    "plt.legend([\"supply\",\"demand\"])\n",
    "\n",
    "plt.show()"
   ]
  },
  {
   "cell_type": "markdown",
   "id": "2f20c125",
   "metadata": {},
   "source": [
    "## How many generators are online today?\n",
    "\n",
    "State codes:\n",
    "\n",
    "|state|code|\n",
    "|---|---|\n",
    "|NY | 36|\n",
    "|PA | 42|\n",
    "|MA | 25|\n",
    "|NJ | 34|"
   ]
  },
  {
   "cell_type": "code",
   "execution_count": 426,
   "id": "467ae15d",
   "metadata": {},
   "outputs": [
    {
     "data": {
      "text/html": [
       "<div>\n",
       "<style scoped>\n",
       "    .dataframe tbody tr th:only-of-type {\n",
       "        vertical-align: middle;\n",
       "    }\n",
       "\n",
       "    .dataframe tbody tr th {\n",
       "        vertical-align: top;\n",
       "    }\n",
       "\n",
       "    .dataframe thead th {\n",
       "        text-align: right;\n",
       "    }\n",
       "</style>\n",
       "<table border=\"1\" class=\"dataframe\">\n",
       "  <thead>\n",
       "    <tr style=\"text-align: right;\">\n",
       "      <th></th>\n",
       "      <th>Owner, Operator, and/or Billing Organization</th>\n",
       "      <th>station unit</th>\n",
       "      <th>zone</th>\n",
       "      <th>PTID</th>\n",
       "      <th>town</th>\n",
       "      <th>county</th>\n",
       "      <th>st</th>\n",
       "      <th>In-Service Date</th>\n",
       "      <th>Name Plate Rating (V) MW</th>\n",
       "      <th>cris_summer</th>\n",
       "      <th>cris_winter</th>\n",
       "      <th>cap_summer</th>\n",
       "      <th>cap_winter</th>\n",
       "      <th>D U A L</th>\n",
       "      <th>Unit Type</th>\n",
       "      <th>Type 1</th>\n",
       "      <th>Type 2</th>\n",
       "      <th>gwh</th>\n",
       "      <th>Notes</th>\n",
       "    </tr>\n",
       "  </thead>\n",
       "  <tbody>\n",
       "    <tr>\n",
       "      <th>0</th>\n",
       "      <td>Arkwright Summit Wind Farm</td>\n",
       "      <td>Arkwright Summit Wind Farm</td>\n",
       "      <td>A</td>\n",
       "      <td>323751</td>\n",
       "      <td>Arkwright</td>\n",
       "      <td>13</td>\n",
       "      <td>36</td>\n",
       "      <td>9/1/18</td>\n",
       "      <td>78.4</td>\n",
       "      <td>78.4</td>\n",
       "      <td>78.4</td>\n",
       "      <td>78.4</td>\n",
       "      <td>78.4</td>\n",
       "      <td>NaN</td>\n",
       "      <td>WT</td>\n",
       "      <td>WND</td>\n",
       "      <td>NaN</td>\n",
       "      <td>255.8</td>\n",
       "      <td>NaN</td>\n",
       "    </tr>\n",
       "    <tr>\n",
       "      <th>1</th>\n",
       "      <td>Astoria Energy II, LLC</td>\n",
       "      <td>Astoria Energy 2 - CC3</td>\n",
       "      <td>J</td>\n",
       "      <td>323677</td>\n",
       "      <td>Queens</td>\n",
       "      <td>81</td>\n",
       "      <td>36</td>\n",
       "      <td>7/1/11</td>\n",
       "      <td>330.0</td>\n",
       "      <td>288.0</td>\n",
       "      <td>376.3</td>\n",
       "      <td>285.7</td>\n",
       "      <td>329.5</td>\n",
       "      <td>YES</td>\n",
       "      <td>CC</td>\n",
       "      <td>NG</td>\n",
       "      <td>FO2</td>\n",
       "      <td>2899.9</td>\n",
       "      <td>(G)</td>\n",
       "    </tr>\n",
       "    <tr>\n",
       "      <th>2</th>\n",
       "      <td>Astoria Energy II, LLC</td>\n",
       "      <td>Astoria Energy 2 - CC4</td>\n",
       "      <td>J</td>\n",
       "      <td>323678</td>\n",
       "      <td>Queens</td>\n",
       "      <td>81</td>\n",
       "      <td>36</td>\n",
       "      <td>7/1/11</td>\n",
       "      <td>330.0</td>\n",
       "      <td>288.0</td>\n",
       "      <td>376.3</td>\n",
       "      <td>285.7</td>\n",
       "      <td>329.5</td>\n",
       "      <td>YES</td>\n",
       "      <td>CC</td>\n",
       "      <td>NG</td>\n",
       "      <td>FO2</td>\n",
       "      <td>0.0</td>\n",
       "      <td>NaN</td>\n",
       "    </tr>\n",
       "  </tbody>\n",
       "</table>\n",
       "</div>"
      ],
      "text/plain": [
       "  Owner, Operator, and/or Billing Organization                station unit  \\\n",
       "0                   Arkwright Summit Wind Farm  Arkwright Summit Wind Farm   \n",
       "1                       Astoria Energy II, LLC      Astoria Energy 2 - CC3   \n",
       "2                       Astoria Energy II, LLC      Astoria Energy 2 - CC4   \n",
       "\n",
       "  zone    PTID       town  county  st In-Service Date  \\\n",
       "0    A  323751  Arkwright      13  36          9/1/18   \n",
       "1    J  323677     Queens      81  36          7/1/11   \n",
       "2    J  323678     Queens      81  36          7/1/11   \n",
       "\n",
       "   Name Plate Rating (V) MW  cris_summer  cris_winter  cap_summer  cap_winter  \\\n",
       "0                      78.4         78.4         78.4        78.4        78.4   \n",
       "1                     330.0        288.0        376.3       285.7       329.5   \n",
       "2                     330.0        288.0        376.3       285.7       329.5   \n",
       "\n",
       "  D U A L Unit Type Type 1 Type 2     gwh Notes  \n",
       "0     NaN        WT    WND    NaN   255.8   NaN  \n",
       "1     YES        CC     NG    FO2  2899.9   (G)  \n",
       "2     YES        CC     NG    FO2     0.0   NaN  "
      ]
     },
     "execution_count": 426,
     "metadata": {},
     "output_type": "execute_result"
    }
   ],
   "source": [
    "gen_facilities = pd.read_csv('data/2021_generation_facilities.csv',skiprows=1)\n",
    "gen_facilities.head(3)"
   ]
  },
  {
   "cell_type": "code",
   "execution_count": 435,
   "id": "c5d8e902",
   "metadata": {},
   "outputs": [
    {
     "data": {
      "image/png": "[encoded data removed]",
      "text/plain": [
       "<Figure size 432x288 with 1 Axes>"
      ]
     },
     "metadata": {
      "needs_background": "light"
     },
     "output_type": "display_data"
    }
   ],
   "source": [
    "# many hydro facilities produced no electricity in 2021, maybe they are old?\n",
    "fig = gen_facilities[gen_facilities.gwh > 0][\"Type 1\"].value_counts().plot.bar()\n",
    "fig.set_title(\"NYISO Facility Counts (2021)\")\n",
    "fig.set_ylabel(\"number of facilities\")\n",
    "fig.set_xlabel(\"generation type\")\n",
    "plt.show()"
   ]
  },
  {
   "cell_type": "code",
   "execution_count": 445,
   "id": "5dda116e",
   "metadata": {},
   "outputs": [
    {
     "data": {
      "image/png": "[encoded data removed]",
      "text/plain": [
       "<Figure size 432x288 with 1 Axes>"
      ]
     },
     "metadata": {
      "needs_background": "light"
     },
     "output_type": "display_data"
    }
   ],
   "source": [
    "fig = gen_facilities.groupby(\"Type 1\").sum()[\"Name Plate Rating (V) MW\"].plot.bar()\n",
    "fig.set_title(\"NYISO Facility Nominal Capacity (2021)\")\n",
    "fig.set_ylabel(\"output (MW)\")\n",
    "fig.set_xlabel(\"generation type\")\n",
    "plt.show()"
   ]
  },
  {
   "cell_type": "code",
   "execution_count": 444,
   "id": "5fe9ef03",
   "metadata": {},
   "outputs": [
    {
     "data": {
      "image/png": "[encoded data removed]",
      "text/plain": [
       "<Figure size 432x288 with 1 Axes>"
      ]
     },
     "metadata": {
      "needs_background": "light"
     },
     "output_type": "display_data"
    }
   ],
   "source": [
    "fig = gen_facilities.groupby(\"Type 1\").sum()[\"gwh\"].plot.bar()\n",
    "fig.set_title(\"NYISO Facility Generation (2021)\")\n",
    "fig.set_ylabel(\"GWh\")\n",
    "fig.set_xlabel(\"generation type\")\n",
    "plt.show()"
   ]
  },
  {
   "cell_type": "markdown",
   "id": "d4a469ed",
   "metadata": {},
   "source": [
    "### Average output by facility type"
   ]
  },
  {
   "cell_type": "code",
   "execution_count": 475,
   "id": "1931599a",
   "metadata": {},
   "outputs": [
    {
     "data": {
      "text/plain": [
       "BIT    655\n",
       "FO2     30\n",
       "FO6    547\n",
       "KER     34\n",
       "MTE      8\n",
       "NG     188\n",
       "REF     30\n",
       "SUN     56\n",
       "UR     975\n",
       "WAT    140\n",
       "WND     57\n",
       "dtype: int64"
      ]
     },
     "execution_count": 475,
     "metadata": {},
     "output_type": "execute_result"
    }
   ],
   "source": [
    "num_facilities = gen_facilities[gen_facilities.gwh > 0][\"Type 1\"].value_counts()\n",
    "nominal_capacity = gen_facilities.groupby(\"Type 1\").sum()[\"Name Plate Rating (V) MW\"]\n",
    "avg_facility_cap = nominal_capacity / num_facilities\n",
    "avg_facility_cap = np.round(avg_facility_cap[avg_facility_cap > 0]).astype(int)\n",
    "avg_facility_cap"
   ]
  },
  {
   "cell_type": "markdown",
   "id": "2f214380",
   "metadata": {},
   "source": [
    "***"
   ]
  },
  {
   "cell_type": "markdown",
   "id": "302a7bea",
   "metadata": {},
   "source": [
    "# Testbed Parameters"
   ]
  },
  {
   "cell_type": "markdown",
   "id": "58aaa664",
   "metadata": {},
   "source": [
    "## Part 1: Instantiating peers\n",
    "\n",
    "### Generators\n",
    "\n",
    "Drawing from the stats above, we will instate generators proportional to:\n",
    "1. Total generation capacity\n",
    "2. Generation capacity by unit type\n",
    "3. Number of units as function of average unit size\n",
    "\n",
    "Per the 2021 \"Gold Book\" the forecasted total capacity is expected to be: **41,071 MW**\n",
    "\n",
    "Per the 2021 \"Gold Book\" the forecasted Summer Peak Demand to be: **32,121 MW**\n",
    "\n",
    "Per the 2021 \"Gold Book\" the forecasted Winter Peak Demand to be: **25,275 MW**\n"
   ]
  },
  {
   "cell_type": "code",
   "execution_count": 564,
   "id": "3dac6d27",
   "metadata": {},
   "outputs": [],
   "source": [
    "# total capacity (MW)\n",
    "nominal_cap = 41071\n",
    "# Summer peak demand (MW)\n",
    "summer_peak = 32121\n",
    "# Winter peak demand (MW)\n",
    "winter_peak = 25275"
   ]
  },
  {
   "cell_type": "code",
   "execution_count": 565,
   "id": "81111df6",
   "metadata": {},
   "outputs": [],
   "source": [
    "std_index_counts = {\n",
    "    \"hydroelectric\": [\"WAT\"],\n",
    "    \"nuclear\": [\"UR\"],\n",
    "    \"natural gas-fired\": [\"NG\",\"MTE\"],\n",
    "    \"utility-scale solar\": [\"SUN\"],\n",
    "    \"land-based wind\": [\"WND\"],\n",
    "    \"petroleum-fired\": [\"BIT\",\"KER\",\"FO2\",\"FO6\",\"REF\"]\n",
    "}"
   ]
  },
  {
   "cell_type": "code",
   "execution_count": 753,
   "id": "eeb77f20",
   "metadata": {},
   "outputs": [],
   "source": [
    "# # uncomment to view exact number of facilities, by sub-type\n",
    "# gen_facilities[gen_facilities.gwh > 0][\"Type 1\"].value_counts()"
   ]
  },
  {
   "cell_type": "code",
   "execution_count": 757,
   "id": "058c3a8f",
   "metadata": {},
   "outputs": [
    {
     "name": "stdout",
     "output_type": "stream",
     "text": [
      "True Count of Generation Facilities by Type\n"
     ]
    },
    {
     "data": {
      "text/html": [
       "<div>\n",
       "<style scoped>\n",
       "    .dataframe tbody tr th:only-of-type {\n",
       "        vertical-align: middle;\n",
       "    }\n",
       "\n",
       "    .dataframe tbody tr th {\n",
       "        vertical-align: top;\n",
       "    }\n",
       "\n",
       "    .dataframe thead th {\n",
       "        text-align: right;\n",
       "    }\n",
       "</style>\n",
       "<table border=\"1\" class=\"dataframe\">\n",
       "  <thead>\n",
       "    <tr style=\"text-align: right;\">\n",
       "      <th></th>\n",
       "      <th>counts</th>\n",
       "    </tr>\n",
       "    <tr>\n",
       "      <th>type</th>\n",
       "      <th></th>\n",
       "    </tr>\n",
       "  </thead>\n",
       "  <tbody>\n",
       "    <tr>\n",
       "      <th>hydroelectric</th>\n",
       "      <td>48</td>\n",
       "    </tr>\n",
       "    <tr>\n",
       "      <th>nuclear</th>\n",
       "      <td>6</td>\n",
       "    </tr>\n",
       "    <tr>\n",
       "      <th>natural gas-fired</th>\n",
       "      <td>126</td>\n",
       "    </tr>\n",
       "    <tr>\n",
       "      <th>utility-scale solar</th>\n",
       "      <td>1</td>\n",
       "    </tr>\n",
       "    <tr>\n",
       "      <th>land-based wind</th>\n",
       "      <td>24</td>\n",
       "    </tr>\n",
       "    <tr>\n",
       "      <th>petroleum-fired</th>\n",
       "      <td>120</td>\n",
       "    </tr>\n",
       "  </tbody>\n",
       "</table>\n",
       "</div>"
      ],
      "text/plain": [
       "                     counts\n",
       "type                       \n",
       "hydroelectric            48\n",
       "nuclear                   6\n",
       "natural gas-fired       126\n",
       "utility-scale solar       1\n",
       "land-based wind          24\n",
       "petroleum-fired         120"
      ]
     },
     "execution_count": 757,
     "metadata": {},
     "output_type": "execute_result"
    }
   ],
   "source": [
    "def sumAndReindex(data, indexes):\n",
    "    reformatted_data = []\n",
    "    for t in indexes:\n",
    "        reformatted_data.append([t, data[indexes[t]].sum()]) \n",
    "    return reformatted_data\n",
    "\n",
    "facil_counts = sumAndReindex(gen_facilities[gen_facilities.gwh > 0][\"Type 1\"].value_counts(), std_index_counts)\n",
    "facil_counts = pd.DataFrame(facil_counts, columns=[\"type\",\"counts\"]).set_index(\"type\")\n",
    "print(\"True Count of Generation Facilities by Type\")\n",
    "facil_counts"
   ]
  },
  {
   "cell_type": "code",
   "execution_count": 745,
   "id": "910453f2",
   "metadata": {},
   "outputs": [
    {
     "name": "stdout",
     "output_type": "stream",
     "text": [
      "Average Nominal Generation Facility Capacity (MW)\n"
     ]
    },
    {
     "data": {
      "text/html": [
       "<div>\n",
       "<style scoped>\n",
       "    .dataframe tbody tr th:only-of-type {\n",
       "        vertical-align: middle;\n",
       "    }\n",
       "\n",
       "    .dataframe tbody tr th {\n",
       "        vertical-align: top;\n",
       "    }\n",
       "\n",
       "    .dataframe thead th {\n",
       "        text-align: right;\n",
       "    }\n",
       "</style>\n",
       "<table border=\"1\" class=\"dataframe\">\n",
       "  <thead>\n",
       "    <tr style=\"text-align: right;\">\n",
       "      <th></th>\n",
       "      <th>capacity_mw</th>\n",
       "    </tr>\n",
       "    <tr>\n",
       "      <th>type</th>\n",
       "      <th></th>\n",
       "    </tr>\n",
       "  </thead>\n",
       "  <tbody>\n",
       "    <tr>\n",
       "      <th>hydroelectric</th>\n",
       "      <td>140.0</td>\n",
       "    </tr>\n",
       "    <tr>\n",
       "      <th>nuclear</th>\n",
       "      <td>975.0</td>\n",
       "    </tr>\n",
       "    <tr>\n",
       "      <th>natural gas-fired</th>\n",
       "      <td>98.0</td>\n",
       "    </tr>\n",
       "    <tr>\n",
       "      <th>utility-scale solar</th>\n",
       "      <td>56.0</td>\n",
       "    </tr>\n",
       "    <tr>\n",
       "      <th>land-based wind</th>\n",
       "      <td>57.0</td>\n",
       "    </tr>\n",
       "    <tr>\n",
       "      <th>petroleum-fired</th>\n",
       "      <td>259.2</td>\n",
       "    </tr>\n",
       "  </tbody>\n",
       "</table>\n",
       "</div>"
      ],
      "text/plain": [
       "                     capacity_mw\n",
       "type                            \n",
       "hydroelectric              140.0\n",
       "nuclear                    975.0\n",
       "natural gas-fired           98.0\n",
       "utility-scale solar         56.0\n",
       "land-based wind             57.0\n",
       "petroleum-fired            259.2"
      ]
     },
     "execution_count": 745,
     "metadata": {},
     "output_type": "execute_result"
    }
   ],
   "source": [
    "def avgAndReindex(data, indexes):\n",
    "    reformatted_data = []\n",
    "    for t in indexes:\n",
    "        reformatted_data.append([t, data[indexes[t]].mean()]) \n",
    "    return reformatted_data\n",
    "\n",
    "avg_gen = avgAndReindex(avg_facility_cap, std_index_counts)\n",
    "avg_gen = pd.DataFrame(avg_gen, columns=[\"type\",\"capacity_mw\"]).set_index(\"type\")\n",
    "print(\"Average Nominal Generation Facility Capacity (MW)\")\n",
    "avg_gen"
   ]
  },
  {
   "cell_type": "markdown",
   "id": "ae36ab87",
   "metadata": {},
   "source": [
    "## Compute number of generation facilities to instantiate \n",
    "\n",
    "\\<facility_type\\><sub>total</sub> = total_generation<sub>nominal</sub> / generation_per_facility<sub>average</sub>"
   ]
  },
  {
   "cell_type": "code",
   "execution_count": 727,
   "id": "6b2de89c",
   "metadata": {},
   "outputs": [
    {
     "data": {
      "text/html": [
       "<div>\n",
       "<style scoped>\n",
       "    .dataframe tbody tr th:only-of-type {\n",
       "        vertical-align: middle;\n",
       "    }\n",
       "\n",
       "    .dataframe tbody tr th {\n",
       "        vertical-align: top;\n",
       "    }\n",
       "\n",
       "    .dataframe thead th {\n",
       "        text-align: right;\n",
       "    }\n",
       "</style>\n",
       "<table border=\"1\" class=\"dataframe\">\n",
       "  <thead>\n",
       "    <tr style=\"text-align: right;\">\n",
       "      <th></th>\n",
       "      <th>counts</th>\n",
       "    </tr>\n",
       "    <tr>\n",
       "      <th>type</th>\n",
       "      <th></th>\n",
       "    </tr>\n",
       "  </thead>\n",
       "  <tbody>\n",
       "    <tr>\n",
       "      <th>natural gas-fired</th>\n",
       "      <td>246.0</td>\n",
       "    </tr>\n",
       "    <tr>\n",
       "      <th>hydroelectric</th>\n",
       "      <td>51.0</td>\n",
       "    </tr>\n",
       "    <tr>\n",
       "      <th>land-based wind</th>\n",
       "      <td>21.0</td>\n",
       "    </tr>\n",
       "    <tr>\n",
       "      <th>utility-scale solar</th>\n",
       "      <td>16.0</td>\n",
       "    </tr>\n",
       "    <tr>\n",
       "      <th>nuclear</th>\n",
       "      <td>8.0</td>\n",
       "    </tr>\n",
       "    <tr>\n",
       "      <th>petroleum-fired</th>\n",
       "      <td>0.0</td>\n",
       "    </tr>\n",
       "    <tr>\n",
       "      <th>distributed solar</th>\n",
       "      <td>NaN</td>\n",
       "    </tr>\n",
       "    <tr>\n",
       "      <th>offshore wind</th>\n",
       "      <td>NaN</td>\n",
       "    </tr>\n",
       "  </tbody>\n",
       "</table>\n",
       "</div>"
      ],
      "text/plain": [
       "                     counts\n",
       "type                       \n",
       "natural gas-fired     246.0\n",
       "hydroelectric          51.0\n",
       "land-based wind        21.0\n",
       "utility-scale solar    16.0\n",
       "nuclear                 8.0\n",
       "petroleum-fired         0.0\n",
       "distributed solar       NaN\n",
       "offshore wind           NaN"
      ]
     },
     "execution_count": 727,
     "metadata": {},
     "output_type": "execute_result"
    }
   ],
   "source": [
    "# add better notes HERE for parametric facilities counts\n",
    "facil_counts = np.round((nominal_cap * g22.portion / avg_gen.T))\n",
    "facil_counts = facil_counts.T.sort_values('counts', ascending=False)\n",
    "facil_counts"
   ]
  },
  {
   "cell_type": "code",
   "execution_count": 752,
   "id": "4c71659b",
   "metadata": {},
   "outputs": [
    {
     "data": {
      "image/png": "[encoded data removed]",
      "text/plain": [
       "<Figure size 432x288 with 1 Axes>"
      ]
     },
     "metadata": {
      "needs_background": "light"
     },
     "output_type": "display_data"
    }
   ],
   "source": [
    "plt.bar(facil_counts.index, facil_counts.counts.values, color=colors.color[facil_counts.index].values)\n",
    "plt.ylabel(\"number of generators\")\n",
    "plt.xticks(rotation=90)\n",
    "# plt.title(\"number of generators\")\n",
    "plt.show()"
   ]
  },
  {
   "cell_type": "code",
   "execution_count": 761,
   "id": "fca0b461",
   "metadata": {},
   "outputs": [
    {
     "data": {
      "text/html": [
       "<div>\n",
       "<style scoped>\n",
       "    .dataframe tbody tr th:only-of-type {\n",
       "        vertical-align: middle;\n",
       "    }\n",
       "\n",
       "    .dataframe tbody tr th {\n",
       "        vertical-align: top;\n",
       "    }\n",
       "\n",
       "    .dataframe thead th {\n",
       "        text-align: right;\n",
       "    }\n",
       "</style>\n",
       "<table border=\"1\" class=\"dataframe\">\n",
       "  <thead>\n",
       "    <tr style=\"text-align: right;\">\n",
       "      <th></th>\n",
       "      <th>counts</th>\n",
       "      <th>capacity_mw</th>\n",
       "    </tr>\n",
       "    <tr>\n",
       "      <th>type</th>\n",
       "      <th></th>\n",
       "      <th></th>\n",
       "    </tr>\n",
       "  </thead>\n",
       "  <tbody>\n",
       "    <tr>\n",
       "      <th>hydroelectric</th>\n",
       "      <td>48</td>\n",
       "      <td>140.0</td>\n",
       "    </tr>\n",
       "    <tr>\n",
       "      <th>nuclear</th>\n",
       "      <td>6</td>\n",
       "      <td>975.0</td>\n",
       "    </tr>\n",
       "    <tr>\n",
       "      <th>natural gas-fired</th>\n",
       "      <td>126</td>\n",
       "      <td>98.0</td>\n",
       "    </tr>\n",
       "    <tr>\n",
       "      <th>utility-scale solar</th>\n",
       "      <td>1</td>\n",
       "      <td>56.0</td>\n",
       "    </tr>\n",
       "    <tr>\n",
       "      <th>land-based wind</th>\n",
       "      <td>24</td>\n",
       "      <td>57.0</td>\n",
       "    </tr>\n",
       "    <tr>\n",
       "      <th>petroleum-fired</th>\n",
       "      <td>120</td>\n",
       "      <td>259.2</td>\n",
       "    </tr>\n",
       "  </tbody>\n",
       "</table>\n",
       "</div>"
      ],
      "text/plain": [
       "                     counts  capacity_mw\n",
       "type                                    \n",
       "hydroelectric            48        140.0\n",
       "nuclear                   6        975.0\n",
       "natural gas-fired       126         98.0\n",
       "utility-scale solar       1         56.0\n",
       "land-based wind          24         57.0\n",
       "petroleum-fired         120        259.2"
      ]
     },
     "execution_count": 761,
     "metadata": {},
     "output_type": "execute_result"
    }
   ],
   "source": [
    "final_gen_stats = pd.concat([facil_counts, avg_gen], axis=1)\n",
    "final_gen_stats"
   ]
  },
  {
   "cell_type": "markdown",
   "id": "c97a3644",
   "metadata": {},
   "source": [
    "***"
   ]
  },
  {
   "cell_type": "markdown",
   "id": "43217acc",
   "metadata": {},
   "source": [
    "### Consumers\n",
    "\n",
    "The most recently published dataset is from 2018. We'll base our portion of consumers based on that."
   ]
  },
  {
   "cell_type": "code",
   "execution_count": 804,
   "id": "7c07b90a",
   "metadata": {},
   "outputs": [],
   "source": [
    "elec_customers = pd.read_csv('data/electricity_sales_by_customer_GWh.csv').set_index(\"Year\").drop(\"Grand Total\", axis=1)\n",
    "portion_elec_customers = elec_customers.loc[2018] / elec_customers.loc[2018].sum() "
   ]
  },
  {
   "cell_type": "code",
   "execution_count": 805,
   "id": "e863fb05",
   "metadata": {},
   "outputs": [
    {
     "data": {
      "image/png": "[encoded data removed]",
      "text/plain": [
       "<Figure size 432x288 with 1 Axes>"
      ]
     },
     "metadata": {},
     "output_type": "display_data"
    }
   ],
   "source": [
    "plt.pie(portion_elec_customers, labels=portion_elec_customers.index, autopct='%.1f%%')\n",
    "plt.title(\"Portion of Electricity Use by Customer Type\")\n",
    "plt.show()"
   ]
  },
  {
   "cell_type": "markdown",
   "id": "5160c2fd",
   "metadata": {},
   "source": [
    "According to [Census.gov](https://www.census.gov/quickfacts/NY), there are **8,531,063 housing units** in New York State, as of 2021."
   ]
  },
  {
   "cell_type": "markdown",
   "id": "ae0c5167",
   "metadata": {},
   "source": [
    "According to the [NYSERDA commercial baseline study](https://www.nyserda.ny.gov/about/publications/building-stock-and-potential-studies/commercial-statewide-baseline-study), there are **367,223 commercial buildings** in New York State. (Vol 1., pg.13)\n",
    "\n",
    "For simplicity, we'll assume that **transportation** and **industrial** end uses have ***fixed*** energy consumption."
   ]
  },
  {
   "cell_type": "code",
   "execution_count": 795,
   "id": "0635571f",
   "metadata": {},
   "outputs": [],
   "source": [
    "res_units = 8531063 \n",
    "com_units = 367223"
   ]
  },
  {
   "cell_type": "code",
   "execution_count": 802,
   "id": "14e2d8d5",
   "metadata": {},
   "outputs": [
    {
     "data": {
      "text/plain": [
       "32121"
      ]
     },
     "execution_count": 802,
     "metadata": {},
     "output_type": "execute_result"
    }
   ],
   "source": [
    "summer_peak"
   ]
  },
  {
   "cell_type": "code",
   "execution_count": 808,
   "id": "7b4fa0f5",
   "metadata": {},
   "outputs": [
    {
     "data": {
      "text/plain": [
       "Commercial        16441.956826\n",
       "Industrial         3872.841925\n",
       "Residential       11173.332131\n",
       "Transportation      632.869118\n",
       "Name: 2018, dtype: float64"
      ]
     },
     "execution_count": 808,
     "metadata": {},
     "output_type": "execute_result"
    }
   ],
   "source": [
    "# Average consumption by unit type (MW)\n",
    "consump_by_cust_type = summer_peak * portion_elec_customers\n",
    "consump_by_cust_type"
   ]
  },
  {
   "cell_type": "code",
   "execution_count": 821,
   "id": "98feeac5",
   "metadata": {},
   "outputs": [
    {
     "name": "stdout",
     "output_type": "stream",
     "text": [
      "Residential Units:          8531063\n",
      "Avg. res unit consumption:  0.00131 MW\n",
      "Commercial Units:           367223\n",
      "Avg. com. unit consumption: 0.04477 MW\n"
     ]
    }
   ],
   "source": [
    "res_unit_consump = consump_by_cust_type[\"Residential\"] / res_units\n",
    "com_unit_consump = consump_by_cust_type[\"Commercial\"] / com_units\n",
    "print(\"Residential Units:          {}\".format(res_units))\n",
    "print(\"Avg. res unit consumption:  {} MW\".format(np.round(res_unit_consump, 5)))\n",
    "print(\"Commercial Units:           {}\".format(com_units))\n",
    "print(\"Avg. com. unit consumption: {} MW\".format(np.round(com_unit_consump, 5)))"
   ]
  },
  {
   "cell_type": "markdown",
   "id": "356def59",
   "metadata": {},
   "source": [
    "***"
   ]
  },
  {
   "cell_type": "code",
   "execution_count": null,
   "id": "78798ea6",
   "metadata": {},
   "outputs": [],
   "source": []
  },
  {
   "cell_type": "code",
   "execution_count": null,
   "id": "b03fcf66",
   "metadata": {},
   "outputs": [],
   "source": [
    "# plt.pie(np.round(g30[g30.portion > 0].portion*100,1), labels=g30[g30.portion > 0].index,autopct='%.1f%%')\n",
    "# plt.title(\"Electricity generation by source\\nNew York State (2030)\")\n",
    "# plt.show()"
   ]
  },
  {
   "cell_type": "code",
   "execution_count": null,
   "id": "e4c4d6ca",
   "metadata": {
    "scrolled": false
   },
   "outputs": [],
   "source": [
    "# plt.pie(np.round(g22[g22.portion > 0].portion*100,1), labels=g22[g22.portion > 0].index,autopct='%.1f%%')\n",
    "# plt.title(\"Electricity generation by source\\nNew York State (2022)\")\n",
    "# plt.show()"
   ]
  },
  {
   "cell_type": "code",
   "execution_count": 9,
   "id": "717909d9",
   "metadata": {},
   "outputs": [
    {
     "data": {
      "image/png": "[encoded data removed]",
      "text/plain": [
       "<Figure size 432x288 with 1 Axes>"
      ]
     },
     "metadata": {
      "needs_background": "light"
     },
     "output_type": "display_data"
    }
   ],
   "source": [
    "# Monthly electric generation Hydro\n",
    "plt.scatter(monthly_elec.index, monthly_elec.hydroelectric)\n",
    "plt.show()"
   ]
  },
  {
   "cell_type": "code",
   "execution_count": 10,
   "id": "1bf190df",
   "metadata": {},
   "outputs": [
    {
     "data": {
      "image/png": "[encoded data removed]",
      "text/plain": [
       "<Figure size 432x288 with 1 Axes>"
      ]
     },
     "metadata": {
      "needs_background": "light"
     },
     "output_type": "display_data"
    }
   ],
   "source": [
    "# Monthly electric generation Solar and Wind\n",
    "plt.scatter(monthly_elec.index, monthly_elec.other_renewables, color=\"gold\")\n",
    "plt.show()"
   ]
  }
 ],
 "metadata": {
  "kernelspec": {
   "display_name": "Python 3 (ipykernel)",
   "language": "python",
   "name": "python3"
  },
  "language_info": {
   "codemirror_mode": {
    "name": "ipython",
    "version": 3
   },
   "file_extension": ".py",
   "mimetype": "text/x-python",
   "name": "python",
   "nbconvert_exporter": "python",
   "pygments_lexer": "ipython3",
   "version": "3.9.7"
  }
 },
 "nbformat": 4,
 "nbformat_minor": 5
}
