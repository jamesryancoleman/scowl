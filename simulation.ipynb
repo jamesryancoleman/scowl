{
 "cells": [
  {
   "cell_type": "markdown",
   "id": "62875f44",
   "metadata": {},
   "source": [
    "# Scowl Simulated Deployment\n",
    "\n",
    "The objective of this notebook is to:\n",
    "1. Define the goals of the simulation run\n",
    "2. Declare the methods of running the simulation\n",
    "3. Visualize the simulation parameters\n",
    "4. Run the simulations\n",
    "5. Process the log data\n",
    "6. Visualize the results"
   ]
  },
  {
   "cell_type": "markdown",
   "id": "b6d4dcf8",
   "metadata": {},
   "source": [
    "## What is the scope of the simulation?\n",
    "\n",
    "1. Confirm the simulation parameters\n",
    "    1. `Peer` mix (generator, consumer, superpeer/storage)\n",
    "    2. Supply/Demand ratio\n",
    "    3. `Peer` to `Tracker` network latency\n",
    "    \n",
    "2. The evaluation should answer:\n",
    "    1. How many peers were rebalanced (independant variable) and how fast was the tracker able to rebalance its peers (dependant variable – in Hz)?\n",
    "    2. What was the limiting resource? (e.g., network, cpu, memory, etc.)\n",
    "    3. At what scale of peers did the limiting factor occur?\n",
    "    4. How long was the average peer \"starved\" for electricity?\n",
    "    5. When demand exceeded supply, did a black out occur?\n",
    "    6. When should the system be sharded?\n",
    "    7. When the network partitioned, did peers operating in SOC mode cause a black out in their region?\n",
    "    8. *Stretch Goal* How small of a partition can the grid operate under?"
   ]
  },
  {
   "cell_type": "markdown",
   "id": "adf602e8",
   "metadata": {},
   "source": [
    "# Simulation \"Run Sheet\"\n",
    "\n",
    "The simulation should have (2) main parts:\n",
    "1. **Electrical stress test under a healthy network** – There are imbalances between supply and demand, but the network remains up. `Trackers` attempt to pair `Consumers` with `Generators` that have additional capacity, the goal is to re-build the *ephemeral distribution trees* as fast as possible, so that `Consumer` starvation is minimized.\n",
    "2. **Electrical stress test under a partitioned network** – Communication between the tracker and the peers is broken. Each `Consumer` is operating as a self optimizing consumer (soc). Each `Generator` is a self-optimizing generator (sog). `Generators` can **only** warn SOCs of an impending black out by sending a `capacity_low` rpc to their partition. This is analagous to real-world electricity consumers feeling the voltage sag of a brown-out, in advance of a black out. The warned consumers respond by self-imposing a call to `DemandResponse()`, until the `Generator` unchokes them <sup>1</sup>. The key metric here is how many `capacity_low` messages are sent, and how much *deferred consumption* consumers experience (i.e., this messaged in time and kWhs).\n",
    "\n",
    "The energy mix will be based on the current the energy mix of New York State, and renewables will experience the same fluctations. The same \"day\" will be simulated for both the healthy network day (scowl) and the partitioned network day (soc/sog).\n",
    "\n",
    "***\n",
    "<sup>1</sup> This behaviour mimics the TCP congestion control algorithm, with a similar expectation that backing off demand will result in data (electricity) flowing again."
   ]
  },
  {
   "cell_type": "code",
   "execution_count": 2,
   "id": "22c10e0f",
   "metadata": {},
   "outputs": [],
   "source": [
    "import pandas as pd\n",
    "import numpy as np\n",
    "import matplotlib.pyplot as plt"
   ]
  },
  {
   "cell_type": "markdown",
   "id": "3e39d72f",
   "metadata": {},
   "source": [
    "## Electricity Generation Mix NY State (2020)"
   ]
  },
  {
   "cell_type": "code",
   "execution_count": 3,
   "id": "aada708d",
   "metadata": {},
   "outputs": [
    {
     "data": {
      "text/html": [
       "<div>\n",
       "<style scoped>\n",
       "    .dataframe tbody tr th:only-of-type {\n",
       "        vertical-align: middle;\n",
       "    }\n",
       "\n",
       "    .dataframe tbody tr th {\n",
       "        vertical-align: top;\n",
       "    }\n",
       "\n",
       "    .dataframe thead th {\n",
       "        text-align: right;\n",
       "    }\n",
       "</style>\n",
       "<table border=\"1\" class=\"dataframe\">\n",
       "  <thead>\n",
       "    <tr style=\"text-align: right;\">\n",
       "      <th></th>\n",
       "      <th>mwh</th>\n",
       "      <th>portion</th>\n",
       "      <th>renewable</th>\n",
       "    </tr>\n",
       "    <tr>\n",
       "      <th>type</th>\n",
       "      <th></th>\n",
       "      <th></th>\n",
       "      <th></th>\n",
       "    </tr>\n",
       "  </thead>\n",
       "  <tbody>\n",
       "    <tr>\n",
       "      <th>natural gas-fired</th>\n",
       "      <td>7530000</td>\n",
       "      <td>0.585810</td>\n",
       "      <td>False</td>\n",
       "    </tr>\n",
       "    <tr>\n",
       "      <th>nuclear</th>\n",
       "      <td>2380000</td>\n",
       "      <td>0.185156</td>\n",
       "      <td>False</td>\n",
       "    </tr>\n",
       "    <tr>\n",
       "      <th>hydroelectric</th>\n",
       "      <td>2234000</td>\n",
       "      <td>0.173798</td>\n",
       "      <td>True</td>\n",
       "    </tr>\n",
       "    <tr>\n",
       "      <th>land-based wind</th>\n",
       "      <td>383000</td>\n",
       "      <td>0.029796</td>\n",
       "      <td>True</td>\n",
       "    </tr>\n",
       "    <tr>\n",
       "      <th>utility-scale solar</th>\n",
       "      <td>287000</td>\n",
       "      <td>0.022328</td>\n",
       "      <td>True</td>\n",
       "    </tr>\n",
       "    <tr>\n",
       "      <th>petroleum-fired</th>\n",
       "      <td>40000</td>\n",
       "      <td>0.003112</td>\n",
       "      <td>False</td>\n",
       "    </tr>\n",
       "    <tr>\n",
       "      <th>offshore wind</th>\n",
       "      <td>0</td>\n",
       "      <td>0.000000</td>\n",
       "      <td>True</td>\n",
       "    </tr>\n",
       "    <tr>\n",
       "      <th>distributed solar</th>\n",
       "      <td>0</td>\n",
       "      <td>0.000000</td>\n",
       "      <td>True</td>\n",
       "    </tr>\n",
       "  </tbody>\n",
       "</table>\n",
       "</div>"
      ],
      "text/plain": [
       "                         mwh   portion  renewable\n",
       "type                                             \n",
       "natural gas-fired    7530000  0.585810      False\n",
       "nuclear              2380000  0.185156      False\n",
       "hydroelectric        2234000  0.173798       True\n",
       "land-based wind       383000  0.029796       True\n",
       "utility-scale solar   287000  0.022328       True\n",
       "petroleum-fired        40000  0.003112      False\n",
       "offshore wind              0  0.000000       True\n",
       "distributed solar          0  0.000000       True"
      ]
     },
     "execution_count": 3,
     "metadata": {},
     "output_type": "execute_result"
    }
   ],
   "source": [
    "g22 = pd.read_csv(\"data/2022_elec_gen_mix.csv\")\n",
    "g22.set_index(\"type\", inplace= True)\n",
    "g22['portion'] = g22.mwh / (g22.mwh.sum())\n",
    "g22.sort_values('mwh', ascending=False, inplace=True)\n",
    "g22['renewable'] = [False, False, True, True, True, False, True, True]\n",
    "g22"
   ]
  },
  {
   "cell_type": "code",
   "execution_count": 4,
   "id": "61b43e5e",
   "metadata": {},
   "outputs": [],
   "source": [
    "# pd.concat([g22,pd.DataFrame(g22.sum()).T]).rename(index={0: '2022 Total'})"
   ]
  },
  {
   "cell_type": "code",
   "execution_count": 5,
   "id": "5e48bb06",
   "metadata": {},
   "outputs": [],
   "source": [
    "# Assigning consistent colors for graphs\n",
    "import matplotlib.colors as mcolors\n",
    "mcolors.TABLEAU_COLORS\n",
    "\n",
    "colors = []\n",
    "for i, v in enumerate(g22.index):\n",
    "    colors.append([v, list(mcolors.TABLEAU_COLORS.items())[i][0]])\n",
    "colors = pd.DataFrame(colors, columns=[\"type\", \"color\"]).set_index(\"type\")\n",
    "\n",
    "# using either is fine\n",
    "g22 = pd.concat([g22,colors], axis = 1)\n",
    "color_dict = g22.color.to_dict()"
   ]
  },
  {
   "cell_type": "markdown",
   "id": "f598b978",
   "metadata": {},
   "source": [
    "***"
   ]
  },
  {
   "cell_type": "markdown",
   "id": "e3926ab5",
   "metadata": {},
   "source": [
    "## Electricity Generation Mix NY State (2030)"
   ]
  },
  {
   "cell_type": "code",
   "execution_count": 6,
   "id": "5788a164",
   "metadata": {},
   "outputs": [
    {
     "data": {
      "text/html": [
       "<div>\n",
       "<style scoped>\n",
       "    .dataframe tbody tr th:only-of-type {\n",
       "        vertical-align: middle;\n",
       "    }\n",
       "\n",
       "    .dataframe tbody tr th {\n",
       "        vertical-align: top;\n",
       "    }\n",
       "\n",
       "    .dataframe thead th {\n",
       "        text-align: right;\n",
       "    }\n",
       "</style>\n",
       "<table border=\"1\" class=\"dataframe\">\n",
       "  <thead>\n",
       "    <tr style=\"text-align: right;\">\n",
       "      <th></th>\n",
       "      <th>mwh</th>\n",
       "      <th>portion</th>\n",
       "      <th>renewable</th>\n",
       "      <th>color</th>\n",
       "    </tr>\n",
       "    <tr>\n",
       "      <th>type</th>\n",
       "      <th></th>\n",
       "      <th></th>\n",
       "      <th></th>\n",
       "      <th></th>\n",
       "    </tr>\n",
       "  </thead>\n",
       "  <tbody>\n",
       "    <tr>\n",
       "      <th>hydroelectric</th>\n",
       "      <td>3252480</td>\n",
       "      <td>0.302400</td>\n",
       "      <td>True</td>\n",
       "      <td>tab:green</td>\n",
       "    </tr>\n",
       "    <tr>\n",
       "      <th>nuclear</th>\n",
       "      <td>2380000</td>\n",
       "      <td>0.221281</td>\n",
       "      <td>False</td>\n",
       "      <td>tab:orange</td>\n",
       "    </tr>\n",
       "    <tr>\n",
       "      <th>natural gas-fired</th>\n",
       "      <td>1276889</td>\n",
       "      <td>0.118719</td>\n",
       "      <td>False</td>\n",
       "      <td>tab:blue</td>\n",
       "    </tr>\n",
       "    <tr>\n",
       "      <th>offshore wind</th>\n",
       "      <td>1258400</td>\n",
       "      <td>0.117000</td>\n",
       "      <td>True</td>\n",
       "      <td>tab:pink</td>\n",
       "    </tr>\n",
       "    <tr>\n",
       "      <th>utility-scale solar</th>\n",
       "      <td>1132560</td>\n",
       "      <td>0.105300</td>\n",
       "      <td>True</td>\n",
       "      <td>tab:purple</td>\n",
       "    </tr>\n",
       "    <tr>\n",
       "      <th>distributed solar</th>\n",
       "      <td>761493</td>\n",
       "      <td>0.070800</td>\n",
       "      <td>True</td>\n",
       "      <td>tab:gray</td>\n",
       "    </tr>\n",
       "    <tr>\n",
       "      <th>land-based wind</th>\n",
       "      <td>693733</td>\n",
       "      <td>0.064500</td>\n",
       "      <td>True</td>\n",
       "      <td>tab:red</td>\n",
       "    </tr>\n",
       "    <tr>\n",
       "      <th>petroleum-fired</th>\n",
       "      <td>0</td>\n",
       "      <td>0.000000</td>\n",
       "      <td>False</td>\n",
       "      <td>tab:brown</td>\n",
       "    </tr>\n",
       "  </tbody>\n",
       "</table>\n",
       "</div>"
      ],
      "text/plain": [
       "                         mwh   portion  renewable       color\n",
       "type                                                         \n",
       "hydroelectric        3252480  0.302400       True   tab:green\n",
       "nuclear              2380000  0.221281      False  tab:orange\n",
       "natural gas-fired    1276889  0.118719      False    tab:blue\n",
       "offshore wind        1258400  0.117000       True    tab:pink\n",
       "utility-scale solar  1132560  0.105300       True  tab:purple\n",
       "distributed solar     761493  0.070800       True    tab:gray\n",
       "land-based wind       693733  0.064500       True     tab:red\n",
       "petroleum-fired            0  0.000000      False   tab:brown"
      ]
     },
     "execution_count": 6,
     "metadata": {},
     "output_type": "execute_result"
    }
   ],
   "source": [
    "g30 = pd.read_csv(\"data/2030_elec_gen_mix.csv\")\n",
    "g30.set_index(\"type\", inplace= True)\n",
    "g30['portion'] = g30.mwh / (g30.mwh.sum())\n",
    "g30.sort_values('mwh', ascending=False, inplace=True)\n",
    "g22 = g22.reindex(g30.index.to_list()) # make g22 use same index order as g30\n",
    "g30['renewable'] = g22['renewable']\n",
    "g30['color'] = g22['color']\n",
    "g30\n",
    "# pd.concat([g30,pd.DataFrame(g30.sum()).T]).rename(index={0: '2023 Total'})"
   ]
  },
  {
   "cell_type": "markdown",
   "id": "194edfa1",
   "metadata": {},
   "source": [
    "## Electricity Mix 2022 and 2030"
   ]
  },
  {
   "cell_type": "code",
   "execution_count": 7,
   "id": "46ae047d",
   "metadata": {},
   "outputs": [
    {
     "data": {
      "image/png": "[encoded data removed]",
      "text/plain": [
       "<Figure size 825x330 with 2 Axes>"
      ]
     },
     "metadata": {},
     "output_type": "display_data"
    }
   ],
   "source": [
    "fig = plt.figure(figsize=(7.5,3), dpi=110)\n",
    "\n",
    "ax1 = fig.add_subplot(121)\n",
    "ax1.pie(np.round(g22[g22.portion > 0].portion*100,1), labels=g22[g22.portion > 0].index,autopct='%.1f%%', textprops={'fontsize': 8}, colors=g22[g22.portion > 0].color)\n",
    "ax1.title.set_text('Electricity generation by source\\nNew York State (2022)')\n",
    "ax1.title.set_size(9)\n",
    "\n",
    "ax2 = fig.add_subplot(122)\n",
    "ax2.pie(np.round(g30[g30.portion > 0].portion*100,1), labels=g30[g30.portion > 0].index,autopct='%.1f%%', textprops={'fontsize': 8}, colors=g30[g30.portion > 0].color)\n",
    "ax2.title.set_text('Electricity generation by source\\nNew York State (2030)')\n",
    "ax2.title.set_size(9)\n",
    "\n",
    "plt.show()"
   ]
  },
  {
   "cell_type": "code",
   "execution_count": 8,
   "id": "25602c8a",
   "metadata": {},
   "outputs": [
    {
     "data": {
      "text/plain": [
       "type\n",
       "hydroelectric           1.739951\n",
       "nuclear                 1.195103\n",
       "natural gas-fired       0.202658\n",
       "offshore wind          11.700001\n",
       "utility-scale solar     4.716119\n",
       "distributed solar       7.079997\n",
       "land-based wind         2.164707\n",
       "petroleum-fired         0.000000\n",
       "dtype: float64"
      ]
     },
     "execution_count": 8,
     "metadata": {},
     "output_type": "execute_result"
    }
   ],
   "source": [
    "df = pd.concat([g22.portion,g30.portion], axis=1)\n",
    "df.columns = [\"g22\",\"g30\"]\n",
    "capacity_increase = df.g30 / df.g22\n",
    "capacity_increase[~np.isfinite(capacity_increase)] = g30.portion[~np.isfinite(capacity_increase)]*100\n",
    "capacity_increase"
   ]
  },
  {
   "cell_type": "markdown",
   "id": "22a700bd",
   "metadata": {},
   "source": [
    "## Electricity Generation by Month"
   ]
  },
  {
   "cell_type": "code",
   "execution_count": 9,
   "id": "21f19c30",
   "metadata": {
    "scrolled": false
   },
   "outputs": [
    {
     "data": {
      "text/html": [
       "<div>\n",
       "<style scoped>\n",
       "    .dataframe tbody tr th:only-of-type {\n",
       "        vertical-align: middle;\n",
       "    }\n",
       "\n",
       "    .dataframe tbody tr th {\n",
       "        vertical-align: top;\n",
       "    }\n",
       "\n",
       "    .dataframe thead th {\n",
       "        text-align: right;\n",
       "    }\n",
       "</style>\n",
       "<table border=\"1\" class=\"dataframe\">\n",
       "  <thead>\n",
       "    <tr style=\"text-align: right;\">\n",
       "      <th></th>\n",
       "      <th>Jan</th>\n",
       "      <th>Feb</th>\n",
       "      <th>Mar</th>\n",
       "      <th>Apr</th>\n",
       "      <th>May</th>\n",
       "      <th>Jun</th>\n",
       "      <th>Jul</th>\n",
       "      <th>Aug</th>\n",
       "      <th>Sep</th>\n",
       "      <th>Oct</th>\n",
       "      <th>Nov</th>\n",
       "      <th>Dec</th>\n",
       "    </tr>\n",
       "  </thead>\n",
       "  <tbody>\n",
       "    <tr>\n",
       "      <th>hydroelectric</th>\n",
       "      <td>2017.0</td>\n",
       "      <td>2013.0</td>\n",
       "      <td>2203.0</td>\n",
       "      <td>2043.0</td>\n",
       "      <td>2053.0</td>\n",
       "      <td>1921.0</td>\n",
       "      <td>1801.0</td>\n",
       "      <td>1698.0</td>\n",
       "      <td>1575.0</td>\n",
       "      <td>1740.0</td>\n",
       "      <td>1909.0</td>\n",
       "      <td>2110.0</td>\n",
       "    </tr>\n",
       "    <tr>\n",
       "      <th>other_renewables</th>\n",
       "      <td>154.0</td>\n",
       "      <td>141.0</td>\n",
       "      <td>156.0</td>\n",
       "      <td>141.0</td>\n",
       "      <td>159.0</td>\n",
       "      <td>154.0</td>\n",
       "      <td>153.0</td>\n",
       "      <td>159.0</td>\n",
       "      <td>147.0</td>\n",
       "      <td>138.0</td>\n",
       "      <td>145.0</td>\n",
       "      <td>154.0</td>\n",
       "    </tr>\n",
       "    <tr>\n",
       "      <th>year</th>\n",
       "      <td>2001.0</td>\n",
       "      <td>2001.0</td>\n",
       "      <td>2001.0</td>\n",
       "      <td>2001.0</td>\n",
       "      <td>2001.0</td>\n",
       "      <td>2001.0</td>\n",
       "      <td>2001.0</td>\n",
       "      <td>2001.0</td>\n",
       "      <td>2001.0</td>\n",
       "      <td>2001.0</td>\n",
       "      <td>2001.0</td>\n",
       "      <td>2001.0</td>\n",
       "    </tr>\n",
       "  </tbody>\n",
       "</table>\n",
       "</div>"
      ],
      "text/plain": [
       "                     Jan     Feb     Mar     Apr     May     Jun     Jul  \\\n",
       "hydroelectric     2017.0  2013.0  2203.0  2043.0  2053.0  1921.0  1801.0   \n",
       "other_renewables   154.0   141.0   156.0   141.0   159.0   154.0   153.0   \n",
       "year              2001.0  2001.0  2001.0  2001.0  2001.0  2001.0  2001.0   \n",
       "\n",
       "                     Aug     Sep     Oct     Nov     Dec  \n",
       "hydroelectric     1698.0  1575.0  1740.0  1909.0  2110.0  \n",
       "other_renewables   159.0   147.0   138.0   145.0   154.0  \n",
       "year              2001.0  2001.0  2001.0  2001.0  2001.0  "
      ]
     },
     "execution_count": 9,
     "metadata": {},
     "output_type": "execute_result"
    }
   ],
   "source": [
    "monthly_elec = pd.read_csv(\"data/ny_electricity_by_month.csv\", skiprows=4)\n",
    "monthly_elec.drop([\"units\",\"source key\"], axis=1,inplace=True)\n",
    "monthly_elec.set_index(\"description\", inplace=True)\n",
    "monthly_elec = monthly_elec.T\n",
    "monthly_elec.drop([\"New York\", \"New York : all fuels (utility-scale)\"], axis=1,inplace=True)\n",
    "monthly_elec.columns = [\"hydroelectric\", \"other_renewables\"]\n",
    "\n",
    "month_years = [i.split(\"-\") for i in monthly_elec.index.to_list()]\n",
    "months = [i[0] for i in month_years]\n",
    "years = [int(i[1]) for i in month_years]\n",
    "\n",
    "monthly_elec.index = months\n",
    "monthly_elec['year'] = (np.array(years) + 2000).astype(int)\n",
    "\n",
    "monthly_elec.head(12).T"
   ]
  },
  {
   "cell_type": "code",
   "execution_count": 10,
   "id": "b90d3082",
   "metadata": {},
   "outputs": [
    {
     "data": {
      "image/png": "[encoded data removed]",
      "text/plain": [
       "<Figure size 825x330 with 1 Axes>"
      ]
     },
     "metadata": {
      "needs_background": "light"
     },
     "output_type": "display_data"
    }
   ],
   "source": [
    "hydro_mwh = []\n",
    "for month in monthly_elec.index.unique():\n",
    "    hydro_mwh.append(monthly_elec.hydroelectric[monthly_elec.index == month].values)\n",
    "\n",
    "hydro_mins = pd.DataFrame(hydro_mwh).T.min()\n",
    "hydro_maxs = pd.DataFrame(hydro_mwh).T.max()\n",
    "hydro_meds = pd.DataFrame(hydro_mwh).T.median()\n",
    "\n",
    "fig, ax1 = plt.subplots(figsize=(7.5,3), dpi=110)\n",
    "\n",
    "parts1 = ax1.violinplot(hydro_mwh, showmedians=False, showextrema=False)\n",
    "ax1.set_title('Hydroelectric generation by month\\n2001-2022')\n",
    "ax1.set_xticks(np.arange(1, 12 + 1))\n",
    "ax1.set_ylabel(\"mWh\")\n",
    "ax1.set_xlabel(\"month\")\n",
    "\n",
    "for pc in parts1['bodies']:\n",
    "    pc.set_ec('tab:blue')\n",
    "    pc.set_facecolor('tab:blue')\n",
    "    pc.set_alpha(0.5)\n",
    "    \n",
    "\n",
    "# ax1.scatter([1]*len(months), monthly_elec.hydroelectric, marker='o', color='k', s=15, alpha=.1,zorder=3)\n",
    "ax1.scatter(range(1,12+1), hydro_meds, marker='o', color='k', s=30, alpha=1,zorder=3)\n",
    "ax1.vlines(range(1,12+1), hydro_mins, hydro_maxs, color='k', linestyle='-', lw=0.75)\n",
    "\n",
    "plt.show()"
   ]
  },
  {
   "cell_type": "code",
   "execution_count": 11,
   "id": "634a1db2",
   "metadata": {},
   "outputs": [
    {
     "data": {
      "image/png": "[encoded data removed]",
      "text/plain": [
       "<Figure size 825x330 with 1 Axes>"
      ]
     },
     "metadata": {
      "needs_background": "light"
     },
     "output_type": "display_data"
    }
   ],
   "source": [
    "other_mwh = []\n",
    "for month in monthly_elec.index.unique():\n",
    "    other_mwh.append(monthly_elec.other_renewables[monthly_elec.index == month].values)\n",
    "\n",
    "other_mins = pd.DataFrame(other_mwh).T.min()\n",
    "other_maxs = pd.DataFrame(other_mwh).T.max()\n",
    "other_meds = pd.DataFrame(other_mwh).T.median()\n",
    "\n",
    "fig, ax1 = plt.subplots(figsize=(7.5,3), dpi=110)\n",
    "\n",
    "parts1 = ax1.violinplot(other_mwh, showmedians=False, showextrema=False)\n",
    "ax1.set_title('Solar and wind generation by month\\n2001-2022')\n",
    "ax1.set_xticks(np.arange(1, 12+1))\n",
    "ax1.set_ylabel(\"mWh\")\n",
    "ax1.set_xlabel(\"month\")\n",
    "\n",
    "for pc in parts1['bodies']:\n",
    "    pc.set_ec('gold')\n",
    "    pc.set_facecolor('gold')\n",
    "    pc.set_alpha(0.5)\n",
    "    \n",
    "# ax1.scatter([1]*len(months), monthly_elec.hydroelectric, marker='o', color='k', s=15, alpha=.1,zorder=3)\n",
    "ax1.scatter(range(1,12+1), other_meds, marker='o', color='k', s=30, alpha=1,zorder=3)\n",
    "ax1.vlines(range(1,12+1), other_mins, other_maxs, color='k', linestyle='-', lw=0.75)\n",
    "\n",
    "plt.show()"
   ]
  },
  {
   "cell_type": "markdown",
   "id": "b86faf2e",
   "metadata": {},
   "source": [
    "***"
   ]
  },
  {
   "cell_type": "markdown",
   "id": "5740a2be",
   "metadata": {},
   "source": [
    "## Understanding DERs in 2022"
   ]
  },
  {
   "cell_type": "code",
   "execution_count": 12,
   "id": "210e5b1f",
   "metadata": {},
   "outputs": [
    {
     "data": {
      "text/html": [
       "<div>\n",
       "<style scoped>\n",
       "    .dataframe tbody tr th:only-of-type {\n",
       "        vertical-align: middle;\n",
       "    }\n",
       "\n",
       "    .dataframe tbody tr th {\n",
       "        vertical-align: top;\n",
       "    }\n",
       "\n",
       "    .dataframe thead th {\n",
       "        text-align: right;\n",
       "    }\n",
       "</style>\n",
       "<table border=\"1\" class=\"dataframe\">\n",
       "  <thead>\n",
       "    <tr style=\"text-align: right;\">\n",
       "      <th></th>\n",
       "      <th>quantity</th>\n",
       "      <th>generation</th>\n",
       "      <th>fuel</th>\n",
       "      <th>storage_type</th>\n",
       "      <th>storage_subtype</th>\n",
       "      <th>storage_capacity</th>\n",
       "      <th>cooling_storage_capacity</th>\n",
       "    </tr>\n",
       "  </thead>\n",
       "  <tbody>\n",
       "    <tr>\n",
       "      <th>0</th>\n",
       "      <td>1</td>\n",
       "      <td>318.99</td>\n",
       "      <td>Solar</td>\n",
       "      <td>NaN</td>\n",
       "      <td>NaN</td>\n",
       "      <td>NaN</td>\n",
       "      <td>NaN</td>\n",
       "    </tr>\n",
       "    <tr>\n",
       "      <th>1</th>\n",
       "      <td>2</td>\n",
       "      <td>75.00</td>\n",
       "      <td>Natural Gas</td>\n",
       "      <td>NaN</td>\n",
       "      <td>NaN</td>\n",
       "      <td>NaN</td>\n",
       "      <td>NaN</td>\n",
       "    </tr>\n",
       "    <tr>\n",
       "      <th>2</th>\n",
       "      <td>1</td>\n",
       "      <td>65.00</td>\n",
       "      <td>Natural Gas</td>\n",
       "      <td>NaN</td>\n",
       "      <td>NaN</td>\n",
       "      <td>NaN</td>\n",
       "      <td>NaN</td>\n",
       "    </tr>\n",
       "    <tr>\n",
       "      <th>3</th>\n",
       "      <td>1</td>\n",
       "      <td>2507.67</td>\n",
       "      <td>Solar</td>\n",
       "      <td>NaN</td>\n",
       "      <td>NaN</td>\n",
       "      <td>NaN</td>\n",
       "      <td>NaN</td>\n",
       "    </tr>\n",
       "    <tr>\n",
       "      <th>4</th>\n",
       "      <td>1</td>\n",
       "      <td>2152.08</td>\n",
       "      <td>Solar</td>\n",
       "      <td>NaN</td>\n",
       "      <td>NaN</td>\n",
       "      <td>NaN</td>\n",
       "      <td>NaN</td>\n",
       "    </tr>\n",
       "  </tbody>\n",
       "</table>\n",
       "</div>"
      ],
      "text/plain": [
       "   quantity  generation         fuel storage_type storage_subtype  \\\n",
       "0         1      318.99        Solar          NaN             NaN   \n",
       "1         2       75.00  Natural Gas          NaN             NaN   \n",
       "2         1       65.00  Natural Gas          NaN             NaN   \n",
       "3         1     2507.67        Solar          NaN             NaN   \n",
       "4         1     2152.08        Solar          NaN             NaN   \n",
       "\n",
       "   storage_capacity  cooling_storage_capacity  \n",
       "0               NaN                       NaN  \n",
       "1               NaN                       NaN  \n",
       "2               NaN                       NaN  \n",
       "3               NaN                       NaN  \n",
       "4               NaN                       NaN  "
      ]
     },
     "execution_count": 12,
     "metadata": {},
     "output_type": "execute_result"
    }
   ],
   "source": [
    "cols = [\n",
    "    'Number of Devices',\n",
    "    'Rated Electric Generation Per Device (kW)',\n",
    "    'Primary Fuel',\n",
    "    'ESS Type',\n",
    "    'ESS Subtype',\n",
    "    'Rated Electric Storage Capacity Per Device (kWh)',\n",
    "    'Equivalent Electrical Storage Capacity Per Device from Cooling Sources (kWh)',\n",
    "]\n",
    "\n",
    "short_cols = [\n",
    "    'quantity',\n",
    "    'generation',\n",
    "    'fuel',\n",
    "    'storage_type',\n",
    "    'storage_subtype',\n",
    "    'storage_capacity',\n",
    "    'cooling_storage_capacity',\n",
    "]\n",
    "\n",
    "ders = pd.read_excel('data/nys_der_metrics.xlsx', sheet_name='DE Resources')\n",
    "ders = ders[cols]\n",
    "ders.columns = short_cols\n",
    "ders.head()"
   ]
  },
  {
   "cell_type": "code",
   "execution_count": 13,
   "id": "b0cffce4",
   "metadata": {},
   "outputs": [],
   "source": [
    "total_gen = ders.generation.sum()\n",
    "total_electric_storage = ders.storage_capacity.sum()\n",
    "total_cooling_storage = ders.storage_capacity.sum()"
   ]
  },
  {
   "cell_type": "markdown",
   "id": "cc3f9a85",
   "metadata": {},
   "source": [
    "### DER Growth Assumptions \n",
    "\n",
    "Per state motor vehicle registrations in 2017, there **4%** of all cars in the US are registered in NYS.\n",
    "\n",
    "[EEI](https://www.eei.org/News/news/All/eei-projects-26-million-electric-vehicles-will-be-on-us-roads-in-2030#:~:text=The%20number%20of%20EVs%20on,on%20U.S.%20roads%20in%202030.) projects that there will be 26.4M electric cars on the road, meaning 4% of those will be in NYS.\n",
    "\n",
    "Per [Car and Driver](https://www.caranddriver.com/features/g36278968/best-selling-evs-of-2021/) the number one selling electric car in 2021 was the Tesla Model Y with a battery size of ~80kWhs [source](https://www.caranddriver.com/tesla/model-y/specs).\n",
    "\n",
    "So let's assume that there's a total of **1,056,000 electric vehicles** (26.4M vehicles * 4% in NYS) with a total storage capacity of 84,480,000 kWhs or 84,480 MWhs of ***additional*** electric storage capacity will be available in 2030.\n",
    "\n",
    "Let's double the adoption of cooling storage..."
   ]
  },
  {
   "cell_type": "code",
   "execution_count": 14,
   "id": "8b838c6b",
   "metadata": {},
   "outputs": [
    {
     "name": "stdout",
     "output_type": "stream",
     "text": [
      "DER Capacities by type\n"
     ]
    },
    {
     "data": {
      "text/html": [
       "<div>\n",
       "<style scoped>\n",
       "    .dataframe tbody tr th:only-of-type {\n",
       "        vertical-align: middle;\n",
       "    }\n",
       "\n",
       "    .dataframe tbody tr th {\n",
       "        vertical-align: top;\n",
       "    }\n",
       "\n",
       "    .dataframe thead th {\n",
       "        text-align: right;\n",
       "    }\n",
       "</style>\n",
       "<table border=\"1\" class=\"dataframe\">\n",
       "  <thead>\n",
       "    <tr style=\"text-align: right;\">\n",
       "      <th></th>\n",
       "      <th>elec_gen</th>\n",
       "      <th>elec_storage</th>\n",
       "      <th>cooling_storage</th>\n",
       "    </tr>\n",
       "    <tr>\n",
       "      <th>year</th>\n",
       "      <th></th>\n",
       "      <th></th>\n",
       "      <th></th>\n",
       "    </tr>\n",
       "  </thead>\n",
       "  <tbody>\n",
       "    <tr>\n",
       "      <th>2022</th>\n",
       "      <td>2200.199577</td>\n",
       "      <td>358.442</td>\n",
       "      <td>358.442</td>\n",
       "    </tr>\n",
       "    <tr>\n",
       "      <th>2030</th>\n",
       "      <td>5500.498943</td>\n",
       "      <td>84838.442</td>\n",
       "      <td>716.884</td>\n",
       "    </tr>\n",
       "  </tbody>\n",
       "</table>\n",
       "</div>"
      ],
      "text/plain": [
       "         elec_gen  elec_storage  cooling_storage\n",
       "year                                            \n",
       "2022  2200.199577       358.442          358.442\n",
       "2030  5500.498943     84838.442          716.884"
      ]
     },
     "execution_count": 14,
     "metadata": {},
     "output_type": "execute_result"
    }
   ],
   "source": [
    "# All in MWh\n",
    "der_stats = [\n",
    "        {'year': 2022, 'elec_gen': total_gen/1000, 'elec_storage': total_electric_storage/1000, 'cooling_storage': total_electric_storage/1000},\n",
    "        {'year': 2030, 'elec_gen': total_gen*2.5/1000, 'elec_storage': (total_electric_storage/1000) + 84480, 'cooling_storage': total_electric_storage*2/1000}\n",
    "    ]\n",
    "\n",
    "print(\"DER Capacities by type\")\n",
    "der_stats = pd.DataFrame(der_stats)\n",
    "der_stats.set_index(\"year\", inplace=True)\n",
    "der_stats"
   ]
  },
  {
   "cell_type": "code",
   "execution_count": 15,
   "id": "e8cce9da",
   "metadata": {},
   "outputs": [
    {
     "name": "stdout",
     "output_type": "stream",
     "text": [
      "Operational DER Resources (2022)\n",
      "\n",
      "Total electric generation (MW): 2200.199577\n",
      "Total electric storage (MWh):    358.442\n",
      "Total cooling storage (MWh):     358.442\n",
      "\n",
      "\n",
      "Estimated DER Resources (2030)\n",
      "\n",
      "Total electric generation (MW): 5500.4989425\n",
      "Total electric storage (MWh):   84838.442\n",
      "Total cooling storage (MWh):     716.884\n"
     ]
    },
    {
     "data": {
      "image/png": "[encoded data removed]",
      "text/plain": [
       "<Figure size 432x288 with 1 Axes>"
      ]
     },
     "metadata": {
      "needs_background": "light"
     },
     "output_type": "display_data"
    }
   ],
   "source": [
    "print(\"Operational DER Resources (2022)\\n\")\n",
    "print(\"Total electric generation (MW): {}\".format(total_gen/1000))\n",
    "print(\"Total electric storage (MWh):    {}\".format(total_electric_storage/1000))\n",
    "print(\"Total cooling storage (MWh):     {}\".format(total_electric_storage/1000))\n",
    "\n",
    "print(\"\\n\\nEstimated DER Resources (2030)\\n\")\n",
    "print(\"Total electric generation (MW): {}\".format(total_gen*2.5/1000))\n",
    "print(\"Total electric storage (MWh):   {}\".format((total_electric_storage/1000) + 84480))\n",
    "print(\"Total cooling storage (MWh):     {}\".format(total_electric_storage*2/1000))\n",
    "\n",
    "der_stats.plot.bar(zorder=5)\n",
    "plt.yscale('log') # or \"log\"\n",
    "plt.ylabel(\"MWh (log scale)\")\n",
    "plt.grid(which='major', zorder=3, color='k', linewidth=1) # color='r', linestyle='-', linewidth=2\n",
    "plt.grid(which='minor', zorder=4, linewidth=0.5)\n",
    "plt.title(\"Expected growth in NY State DERs\\n2022 - 2030\")\n",
    "plt.show()"
   ]
  },
  {
   "cell_type": "markdown",
   "id": "7a81dec0",
   "metadata": {},
   "source": [
    "## Simulating a dymanic electricity market\n",
    "\n",
    "To raise the stakes that **ScOWL** must content with, we'll have an aggregate supply that is always chasing the demand curve. In order to prevent blackouts, and minimize brownouts, we'll have to rapidly recalcuate the *ephermal distribution trees* for each `Generateor` presently available.\n",
    "\n",
    "#### In short,\n",
    "\n",
    "- When we have an excess of supply, our storage resources should kick in.\n",
    "- When we have an too much demand, a `Generator` should signal to each `Consumer` in their distribution tree to reduce demand (via a `low_capacity` RPC).\n",
    "- If a `Consumer` does not back off fast enough, it could blackout their whole tree.\n",
    "- When a `Consumers` region is blackedout, the `Tracker` tries to pair its consumption with another `Generator` and add it to their tree. If it cannot find a `Generator` with available capacity. That `Consumer` gets ***starved***. \n",
    "- `Consumer` starvation is a key metric for evaluation."
   ]
  },
  {
   "cell_type": "code",
   "execution_count": 16,
   "id": "15d0dce4",
   "metadata": {
    "scrolled": true
   },
   "outputs": [
    {
     "data": {
      "image/png": "[encoded data removed]",
      "text/plain": [
       "<Figure size 825x330 with 1 Axes>"
      ]
     },
     "metadata": {
      "needs_background": "light"
     },
     "output_type": "display_data"
    }
   ],
   "source": [
    "# T is a multiplier that is used to set the timescale of each trial run.\n",
    "# T may be 12 seconds --> 12 months.\n",
    "# The base units are seconds\n",
    "T = 12\n",
    "T_units = \"seconds\"\n",
    "time = np.arange(0,T*np.pi,0.1)\n",
    "supply = np.cos(time) + g30.mwh.sum()\n",
    "demand = np.sin(time) + g30.mwh.sum()\n",
    "data = {\n",
    "    \"supply\": supply,\n",
    "    \"demand\": demand\n",
    "}\n",
    "df = pd.DataFrame(data, index=time)\n",
    "\n",
    "fig, ax1 = plt.subplots(figsize=(7.5,3), dpi=110)\n",
    "\n",
    "ax1.plot(df['supply'], color=\"black\")\n",
    "ax1.plot(df['demand'], color=\"tab:red\")            \n",
    "ax1.set_ylabel(\"MWh\")\n",
    "ax1.set_xlabel(T_units)\n",
    "ax1.set_title(\"Available Supply vs. Desired Demand\")\n",
    "plt.legend([\"supply\",\"demand\"])\n",
    "\n",
    "plt.show()"
   ]
  },
  {
   "cell_type": "markdown",
   "id": "9ed65712",
   "metadata": {},
   "source": [
    "## How many generators are online today?\n",
    "\n",
    "State codes:"
   ]
  },
  {
   "cell_type": "code",
   "execution_count": 17,
   "id": "78fbf683",
   "metadata": {},
   "outputs": [
    {
     "data": {
      "text/html": [
       "<div>\n",
       "<style scoped>\n",
       "    .dataframe tbody tr th:only-of-type {\n",
       "        vertical-align: middle;\n",
       "    }\n",
       "\n",
       "    .dataframe tbody tr th {\n",
       "        vertical-align: top;\n",
       "    }\n",
       "\n",
       "    .dataframe thead th {\n",
       "        text-align: right;\n",
       "    }\n",
       "</style>\n",
       "<table border=\"1\" class=\"dataframe\">\n",
       "  <thead>\n",
       "    <tr style=\"text-align: right;\">\n",
       "      <th>state</th>\n",
       "      <th>NY</th>\n",
       "      <th>PA</th>\n",
       "      <th>MA</th>\n",
       "      <th>NJ</th>\n",
       "    </tr>\n",
       "  </thead>\n",
       "  <tbody>\n",
       "    <tr>\n",
       "      <th>code</th>\n",
       "      <td>36</td>\n",
       "      <td>42</td>\n",
       "      <td>25</td>\n",
       "      <td>34</td>\n",
       "    </tr>\n",
       "  </tbody>\n",
       "</table>\n",
       "</div>"
      ],
      "text/plain": [
       "state  NY  PA  MA  NJ\n",
       "code   36  42  25  34"
      ]
     },
     "execution_count": 17,
     "metadata": {},
     "output_type": "execute_result"
    }
   ],
   "source": [
    "pd.DataFrame([[\"NY\", 36],[\"PA\", 42],[\"MA\", 25],[\"NJ\", 34]], columns=(\"state\",\"code\")).set_index(\"state\").T"
   ]
  },
  {
   "cell_type": "code",
   "execution_count": 18,
   "id": "ba936f3e",
   "metadata": {},
   "outputs": [
    {
     "data": {
      "text/html": [
       "<div>\n",
       "<style scoped>\n",
       "    .dataframe tbody tr th:only-of-type {\n",
       "        vertical-align: middle;\n",
       "    }\n",
       "\n",
       "    .dataframe tbody tr th {\n",
       "        vertical-align: top;\n",
       "    }\n",
       "\n",
       "    .dataframe thead th {\n",
       "        text-align: right;\n",
       "    }\n",
       "</style>\n",
       "<table border=\"1\" class=\"dataframe\">\n",
       "  <thead>\n",
       "    <tr style=\"text-align: right;\">\n",
       "      <th></th>\n",
       "      <th>Owner, Operator, and/or Billing Organization</th>\n",
       "      <th>station unit</th>\n",
       "      <th>zone</th>\n",
       "      <th>PTID</th>\n",
       "      <th>town</th>\n",
       "      <th>county</th>\n",
       "      <th>st</th>\n",
       "      <th>In-Service Date</th>\n",
       "      <th>Name Plate Rating (V) MW</th>\n",
       "      <th>cris_summer</th>\n",
       "      <th>cris_winter</th>\n",
       "      <th>cap_summer</th>\n",
       "      <th>cap_winter</th>\n",
       "      <th>D U A L</th>\n",
       "      <th>Unit Type</th>\n",
       "      <th>Type 1</th>\n",
       "      <th>Type 2</th>\n",
       "      <th>gwh</th>\n",
       "      <th>Notes</th>\n",
       "    </tr>\n",
       "  </thead>\n",
       "  <tbody>\n",
       "    <tr>\n",
       "      <th>0</th>\n",
       "      <td>Arkwright Summit Wind Farm</td>\n",
       "      <td>Arkwright Summit Wind Farm</td>\n",
       "      <td>A</td>\n",
       "      <td>323751</td>\n",
       "      <td>Arkwright</td>\n",
       "      <td>13</td>\n",
       "      <td>36</td>\n",
       "      <td>9/1/18</td>\n",
       "      <td>78.4</td>\n",
       "      <td>78.4</td>\n",
       "      <td>78.4</td>\n",
       "      <td>78.4</td>\n",
       "      <td>78.4</td>\n",
       "      <td>NaN</td>\n",
       "      <td>WT</td>\n",
       "      <td>WND</td>\n",
       "      <td>NaN</td>\n",
       "      <td>255.8</td>\n",
       "      <td>NaN</td>\n",
       "    </tr>\n",
       "    <tr>\n",
       "      <th>1</th>\n",
       "      <td>Astoria Energy II, LLC</td>\n",
       "      <td>Astoria Energy 2 - CC3</td>\n",
       "      <td>J</td>\n",
       "      <td>323677</td>\n",
       "      <td>Queens</td>\n",
       "      <td>81</td>\n",
       "      <td>36</td>\n",
       "      <td>7/1/11</td>\n",
       "      <td>330.0</td>\n",
       "      <td>288.0</td>\n",
       "      <td>376.3</td>\n",
       "      <td>285.7</td>\n",
       "      <td>329.5</td>\n",
       "      <td>YES</td>\n",
       "      <td>CC</td>\n",
       "      <td>NG</td>\n",
       "      <td>FO2</td>\n",
       "      <td>2899.9</td>\n",
       "      <td>(G)</td>\n",
       "    </tr>\n",
       "    <tr>\n",
       "      <th>2</th>\n",
       "      <td>Astoria Energy II, LLC</td>\n",
       "      <td>Astoria Energy 2 - CC4</td>\n",
       "      <td>J</td>\n",
       "      <td>323678</td>\n",
       "      <td>Queens</td>\n",
       "      <td>81</td>\n",
       "      <td>36</td>\n",
       "      <td>7/1/11</td>\n",
       "      <td>330.0</td>\n",
       "      <td>288.0</td>\n",
       "      <td>376.3</td>\n",
       "      <td>285.7</td>\n",
       "      <td>329.5</td>\n",
       "      <td>YES</td>\n",
       "      <td>CC</td>\n",
       "      <td>NG</td>\n",
       "      <td>FO2</td>\n",
       "      <td>0.0</td>\n",
       "      <td>NaN</td>\n",
       "    </tr>\n",
       "  </tbody>\n",
       "</table>\n",
       "</div>"
      ],
      "text/plain": [
       "  Owner, Operator, and/or Billing Organization                station unit  \\\n",
       "0                   Arkwright Summit Wind Farm  Arkwright Summit Wind Farm   \n",
       "1                       Astoria Energy II, LLC      Astoria Energy 2 - CC3   \n",
       "2                       Astoria Energy II, LLC      Astoria Energy 2 - CC4   \n",
       "\n",
       "  zone    PTID       town  county  st In-Service Date  \\\n",
       "0    A  323751  Arkwright      13  36          9/1/18   \n",
       "1    J  323677     Queens      81  36          7/1/11   \n",
       "2    J  323678     Queens      81  36          7/1/11   \n",
       "\n",
       "   Name Plate Rating (V) MW  cris_summer  cris_winter  cap_summer  cap_winter  \\\n",
       "0                      78.4         78.4         78.4        78.4        78.4   \n",
       "1                     330.0        288.0        376.3       285.7       329.5   \n",
       "2                     330.0        288.0        376.3       285.7       329.5   \n",
       "\n",
       "  D U A L Unit Type Type 1 Type 2     gwh Notes  \n",
       "0     NaN        WT    WND    NaN   255.8   NaN  \n",
       "1     YES        CC     NG    FO2  2899.9   (G)  \n",
       "2     YES        CC     NG    FO2     0.0   NaN  "
      ]
     },
     "execution_count": 18,
     "metadata": {},
     "output_type": "execute_result"
    }
   ],
   "source": [
    "gen_facilities = pd.read_csv('data/2021_generation_facilities.csv',skiprows=1)\n",
    "gen_facilities.head(3)"
   ]
  },
  {
   "cell_type": "code",
   "execution_count": 19,
   "id": "df4a352b",
   "metadata": {},
   "outputs": [
    {
     "data": {
      "image/png": "[encoded data removed]",
      "text/plain": [
       "<Figure size 432x288 with 1 Axes>"
      ]
     },
     "metadata": {
      "needs_background": "light"
     },
     "output_type": "display_data"
    }
   ],
   "source": [
    "# many hydro facilities produced no electricity in 2021, maybe they are old?\n",
    "fig = gen_facilities[gen_facilities.gwh > 0][\"Type 1\"].value_counts().plot.bar()\n",
    "fig.set_title(\"NYISO Facility Counts (2021)\")\n",
    "fig.set_ylabel(\"number of facilities\")\n",
    "fig.set_xlabel(\"generation type\")\n",
    "plt.show()"
   ]
  },
  {
   "cell_type": "code",
   "execution_count": 20,
   "id": "cf9cdff3",
   "metadata": {},
   "outputs": [
    {
     "data": {
      "image/png": "[encoded data removed]",
      "text/plain": [
       "<Figure size 432x288 with 1 Axes>"
      ]
     },
     "metadata": {
      "needs_background": "light"
     },
     "output_type": "display_data"
    }
   ],
   "source": [
    "fig = gen_facilities.groupby(\"Type 1\").sum()[\"Name Plate Rating (V) MW\"].plot.bar()\n",
    "fig.set_title(\"NYISO Facility Nominal Capacity (2021)\")\n",
    "fig.set_ylabel(\"output (MW)\")\n",
    "fig.set_xlabel(\"generation type\")\n",
    "plt.show()"
   ]
  },
  {
   "cell_type": "code",
   "execution_count": 21,
   "id": "04decd5f",
   "metadata": {},
   "outputs": [
    {
     "data": {
      "image/png": "[encoded data removed]",
      "text/plain": [
       "<Figure size 432x288 with 1 Axes>"
      ]
     },
     "metadata": {
      "needs_background": "light"
     },
     "output_type": "display_data"
    }
   ],
   "source": [
    "fig = gen_facilities.groupby(\"Type 1\").sum()[\"gwh\"].plot.bar()\n",
    "fig.set_title(\"NYISO Facility Generation (2021)\")\n",
    "fig.set_ylabel(\"GWh\")\n",
    "fig.set_xlabel(\"generation type\")\n",
    "plt.show()"
   ]
  },
  {
   "cell_type": "markdown",
   "id": "3a1e9b25",
   "metadata": {},
   "source": [
    "### Average output by facility type"
   ]
  },
  {
   "cell_type": "code",
   "execution_count": 22,
   "id": "4372943c",
   "metadata": {},
   "outputs": [
    {
     "data": {
      "text/plain": [
       "BIT    655\n",
       "FO2     30\n",
       "FO6    547\n",
       "KER     34\n",
       "MTE      8\n",
       "NG     188\n",
       "REF     30\n",
       "SUN     56\n",
       "UR     975\n",
       "WAT    140\n",
       "WND     57\n",
       "dtype: int64"
      ]
     },
     "execution_count": 22,
     "metadata": {},
     "output_type": "execute_result"
    }
   ],
   "source": [
    "num_facilities = gen_facilities[gen_facilities.gwh > 0][\"Type 1\"].value_counts()\n",
    "nominal_capacity = gen_facilities.groupby(\"Type 1\").sum()[\"Name Plate Rating (V) MW\"]\n",
    "avg_facility_cap = nominal_capacity / num_facilities\n",
    "avg_facility_cap = np.round(avg_facility_cap[avg_facility_cap > 0]).astype(int)\n",
    "avg_facility_cap"
   ]
  },
  {
   "cell_type": "markdown",
   "id": "06ac26db",
   "metadata": {},
   "source": [
    "***"
   ]
  },
  {
   "cell_type": "markdown",
   "id": "790202a1",
   "metadata": {},
   "source": [
    "# Testbed Parameters"
   ]
  },
  {
   "cell_type": "markdown",
   "id": "5960974a",
   "metadata": {},
   "source": [
    "## Part 1: Instantiating peers\n",
    "\n",
    "### Generators\n",
    "\n",
    "Drawing from the stats above, we will instate generators proportional to:\n",
    "1. Total generation capacity\n",
    "2. Generation capacity by unit type\n",
    "3. Number of units as function of average unit size\n",
    "\n",
    "Per the 2021 \"Gold Book\" the forecasted total capacity is expected to be: **41,071 MW**\n",
    "\n",
    "Per the 2021 \"Gold Book\" the forecasted Summer Peak Demand to be: **32,121 MW**\n",
    "\n",
    "Per the 2021 \"Gold Book\" the forecasted Winter Peak Demand to be: **25,275 MW**\n"
   ]
  },
  {
   "cell_type": "code",
   "execution_count": 23,
   "id": "c270eeef",
   "metadata": {},
   "outputs": [],
   "source": [
    "# total capacity (MW)\n",
    "nominal_cap = 41071\n",
    "# Summer peak demand (MW)\n",
    "summer_peak = 32121\n",
    "# Winter peak demand (MW)\n",
    "winter_peak = 25275"
   ]
  },
  {
   "cell_type": "code",
   "execution_count": 24,
   "id": "92732b50",
   "metadata": {},
   "outputs": [],
   "source": [
    "std_index_counts = {\n",
    "    \"hydroelectric\": [\"WAT\"],\n",
    "    \"nuclear\": [\"UR\"],\n",
    "    \"natural gas-fired\": [\"NG\",\"MTE\"],\n",
    "    \"utility-scale solar\": [\"SUN\"],\n",
    "    \"land-based wind\": [\"WND\"],\n",
    "    \"petroleum-fired\": [\"BIT\",\"KER\",\"FO2\",\"FO6\",\"REF\"]\n",
    "}"
   ]
  },
  {
   "cell_type": "code",
   "execution_count": 25,
   "id": "349e5ee1",
   "metadata": {},
   "outputs": [],
   "source": [
    "# # uncomment to view exact number of facilities, by sub-type\n",
    "# gen_facilities[gen_facilities.gwh > 0][\"Type 1\"].value_counts()"
   ]
  },
  {
   "cell_type": "code",
   "execution_count": 26,
   "id": "a961bee7",
   "metadata": {},
   "outputs": [
    {
     "name": "stdout",
     "output_type": "stream",
     "text": [
      "True Count of Generation Facilities by Type\n"
     ]
    },
    {
     "data": {
      "text/html": [
       "<div>\n",
       "<style scoped>\n",
       "    .dataframe tbody tr th:only-of-type {\n",
       "        vertical-align: middle;\n",
       "    }\n",
       "\n",
       "    .dataframe tbody tr th {\n",
       "        vertical-align: top;\n",
       "    }\n",
       "\n",
       "    .dataframe thead th {\n",
       "        text-align: right;\n",
       "    }\n",
       "</style>\n",
       "<table border=\"1\" class=\"dataframe\">\n",
       "  <thead>\n",
       "    <tr style=\"text-align: right;\">\n",
       "      <th>type</th>\n",
       "      <th>hydroelectric</th>\n",
       "      <th>nuclear</th>\n",
       "      <th>natural gas-fired</th>\n",
       "      <th>utility-scale solar</th>\n",
       "      <th>land-based wind</th>\n",
       "      <th>petroleum-fired</th>\n",
       "    </tr>\n",
       "  </thead>\n",
       "  <tbody>\n",
       "    <tr>\n",
       "      <th>counts</th>\n",
       "      <td>48</td>\n",
       "      <td>6</td>\n",
       "      <td>126</td>\n",
       "      <td>1</td>\n",
       "      <td>24</td>\n",
       "      <td>120</td>\n",
       "    </tr>\n",
       "  </tbody>\n",
       "</table>\n",
       "</div>"
      ],
      "text/plain": [
       "type    hydroelectric  nuclear  natural gas-fired  utility-scale solar  \\\n",
       "counts             48        6                126                    1   \n",
       "\n",
       "type    land-based wind  petroleum-fired  \n",
       "counts               24              120  "
      ]
     },
     "execution_count": 26,
     "metadata": {},
     "output_type": "execute_result"
    }
   ],
   "source": [
    "def sumAndReindex(data, indexes):\n",
    "    reformatted_data = []\n",
    "    for t in indexes:\n",
    "        reformatted_data.append([t, data[indexes[t]].sum()]) \n",
    "    return reformatted_data\n",
    "\n",
    "facil_counts = sumAndReindex(gen_facilities[gen_facilities.gwh > 0][\"Type 1\"].value_counts(), std_index_counts)\n",
    "facil_counts = pd.DataFrame(facil_counts, columns=[\"type\",\"counts\"]).set_index(\"type\")\n",
    "print(\"True Count of Generation Facilities by Type\")\n",
    "facil_counts.T"
   ]
  },
  {
   "cell_type": "code",
   "execution_count": 27,
   "id": "1e0669a9",
   "metadata": {},
   "outputs": [
    {
     "name": "stdout",
     "output_type": "stream",
     "text": [
      "Average Nominal Generation Facility Capacity (MW)\n"
     ]
    },
    {
     "data": {
      "text/html": [
       "<div>\n",
       "<style scoped>\n",
       "    .dataframe tbody tr th:only-of-type {\n",
       "        vertical-align: middle;\n",
       "    }\n",
       "\n",
       "    .dataframe tbody tr th {\n",
       "        vertical-align: top;\n",
       "    }\n",
       "\n",
       "    .dataframe thead th {\n",
       "        text-align: right;\n",
       "    }\n",
       "</style>\n",
       "<table border=\"1\" class=\"dataframe\">\n",
       "  <thead>\n",
       "    <tr style=\"text-align: right;\">\n",
       "      <th>type</th>\n",
       "      <th>hydroelectric</th>\n",
       "      <th>nuclear</th>\n",
       "      <th>natural gas-fired</th>\n",
       "      <th>utility-scale solar</th>\n",
       "      <th>land-based wind</th>\n",
       "      <th>petroleum-fired</th>\n",
       "    </tr>\n",
       "  </thead>\n",
       "  <tbody>\n",
       "    <tr>\n",
       "      <th>capacity_mw</th>\n",
       "      <td>140.0</td>\n",
       "      <td>975.0</td>\n",
       "      <td>98.0</td>\n",
       "      <td>56.0</td>\n",
       "      <td>57.0</td>\n",
       "      <td>259.2</td>\n",
       "    </tr>\n",
       "  </tbody>\n",
       "</table>\n",
       "</div>"
      ],
      "text/plain": [
       "type         hydroelectric  nuclear  natural gas-fired  utility-scale solar  \\\n",
       "capacity_mw          140.0    975.0               98.0                 56.0   \n",
       "\n",
       "type         land-based wind  petroleum-fired  \n",
       "capacity_mw             57.0            259.2  "
      ]
     },
     "execution_count": 27,
     "metadata": {},
     "output_type": "execute_result"
    }
   ],
   "source": [
    "def avgAndReindex(data, indexes):\n",
    "    reformatted_data = []\n",
    "    for t in indexes:\n",
    "        reformatted_data.append([t, data[indexes[t]].mean()]) \n",
    "    return reformatted_data\n",
    "\n",
    "avg_gen = avgAndReindex(avg_facility_cap, std_index_counts)\n",
    "avg_gen = pd.DataFrame(avg_gen, columns=[\"type\",\"capacity_mw\"]).set_index(\"type\")\n",
    "print(\"Average Nominal Generation Facility Capacity (MW)\")\n",
    "avg_gen.T"
   ]
  },
  {
   "cell_type": "markdown",
   "id": "31e86014",
   "metadata": {},
   "source": [
    "## Compute number of generation facilities to instantiate \n",
    "\n",
    "\\<facility_type\\><sub>total</sub> = total_generation<sub>nominal</sub> / generation_per_facility<sub>average</sub>"
   ]
  },
  {
   "cell_type": "code",
   "execution_count": 28,
   "id": "b63615c8",
   "metadata": {},
   "outputs": [
    {
     "data": {
      "text/html": [
       "<div>\n",
       "<style scoped>\n",
       "    .dataframe tbody tr th:only-of-type {\n",
       "        vertical-align: middle;\n",
       "    }\n",
       "\n",
       "    .dataframe tbody tr th {\n",
       "        vertical-align: top;\n",
       "    }\n",
       "\n",
       "    .dataframe thead th {\n",
       "        text-align: right;\n",
       "    }\n",
       "</style>\n",
       "<table border=\"1\" class=\"dataframe\">\n",
       "  <thead>\n",
       "    <tr style=\"text-align: right;\">\n",
       "      <th>type</th>\n",
       "      <th>natural gas-fired</th>\n",
       "      <th>hydroelectric</th>\n",
       "      <th>land-based wind</th>\n",
       "      <th>utility-scale solar</th>\n",
       "      <th>nuclear</th>\n",
       "      <th>petroleum-fired</th>\n",
       "      <th>distributed solar</th>\n",
       "      <th>offshore wind</th>\n",
       "    </tr>\n",
       "  </thead>\n",
       "  <tbody>\n",
       "    <tr>\n",
       "      <th>counts</th>\n",
       "      <td>246.0</td>\n",
       "      <td>51.0</td>\n",
       "      <td>21.0</td>\n",
       "      <td>16.0</td>\n",
       "      <td>8.0</td>\n",
       "      <td>0.0</td>\n",
       "      <td>NaN</td>\n",
       "      <td>NaN</td>\n",
       "    </tr>\n",
       "  </tbody>\n",
       "</table>\n",
       "</div>"
      ],
      "text/plain": [
       "type    natural gas-fired  hydroelectric  land-based wind  \\\n",
       "counts              246.0           51.0             21.0   \n",
       "\n",
       "type    utility-scale solar  nuclear  petroleum-fired  distributed solar  \\\n",
       "counts                 16.0      8.0              0.0                NaN   \n",
       "\n",
       "type    offshore wind  \n",
       "counts            NaN  "
      ]
     },
     "execution_count": 28,
     "metadata": {},
     "output_type": "execute_result"
    }
   ],
   "source": [
    "# add better notes HERE for parametric facilities counts\n",
    "facil_counts = np.round((nominal_cap * g22.portion / avg_gen.T))\n",
    "facil_counts = facil_counts.T.sort_values('capacity_mw', ascending=False)\n",
    "facil_counts.columns = [\"counts\"]\n",
    "facil_counts.T"
   ]
  },
  {
   "cell_type": "code",
   "execution_count": 29,
   "id": "9987c4ca",
   "metadata": {},
   "outputs": [
    {
     "data": {
      "image/png": "[encoded data removed]",
      "text/plain": [
       "<Figure size 432x288 with 1 Axes>"
      ]
     },
     "metadata": {
      "needs_background": "light"
     },
     "output_type": "display_data"
    }
   ],
   "source": [
    "plt.bar(facil_counts.index, facil_counts.counts.values, color=colors.color[facil_counts.index].values)\n",
    "plt.title(\"2022 Generator Counts\")\n",
    "plt.ylabel(\"number of generators\")\n",
    "plt.xticks(rotation=90)\n",
    "plt.show()"
   ]
  },
  {
   "cell_type": "code",
   "execution_count": 30,
   "id": "5f86b54d",
   "metadata": {},
   "outputs": [
    {
     "data": {
      "text/html": [
       "<div>\n",
       "<style scoped>\n",
       "    .dataframe tbody tr th:only-of-type {\n",
       "        vertical-align: middle;\n",
       "    }\n",
       "\n",
       "    .dataframe tbody tr th {\n",
       "        vertical-align: top;\n",
       "    }\n",
       "\n",
       "    .dataframe thead th {\n",
       "        text-align: right;\n",
       "    }\n",
       "</style>\n",
       "<table border=\"1\" class=\"dataframe\">\n",
       "  <thead>\n",
       "    <tr style=\"text-align: right;\">\n",
       "      <th>type</th>\n",
       "      <th>distributed solar</th>\n",
       "      <th>hydroelectric</th>\n",
       "      <th>land-based wind</th>\n",
       "      <th>natural gas-fired</th>\n",
       "      <th>nuclear</th>\n",
       "      <th>offshore wind</th>\n",
       "      <th>petroleum-fired</th>\n",
       "      <th>utility-scale solar</th>\n",
       "    </tr>\n",
       "  </thead>\n",
       "  <tbody>\n",
       "    <tr>\n",
       "      <th>counts</th>\n",
       "      <td>0</td>\n",
       "      <td>89</td>\n",
       "      <td>46</td>\n",
       "      <td>50</td>\n",
       "      <td>10</td>\n",
       "      <td>0</td>\n",
       "      <td>0</td>\n",
       "      <td>76</td>\n",
       "    </tr>\n",
       "  </tbody>\n",
       "</table>\n",
       "</div>"
      ],
      "text/plain": [
       "type    distributed solar  hydroelectric  land-based wind  natural gas-fired  \\\n",
       "counts                  0             89               46                 50   \n",
       "\n",
       "type    nuclear  offshore wind  petroleum-fired  utility-scale solar  \n",
       "counts       10              0                0                   76  "
      ]
     },
     "execution_count": 30,
     "metadata": {},
     "output_type": "execute_result"
    }
   ],
   "source": [
    "future_facil_counts = np.ceil(facil_counts.T * capacity_increase).T\n",
    "future_facil_counts[np.isnan(future_facil_counts.counts)] = 0\n",
    "future_facil_counts.counts = future_facil_counts.counts.astype(int)\n",
    "future_facil_counts.T"
   ]
  },
  {
   "cell_type": "code",
   "execution_count": 31,
   "id": "bf6213ae",
   "metadata": {},
   "outputs": [
    {
     "data": {
      "text/html": [
       "<div>\n",
       "<style scoped>\n",
       "    .dataframe tbody tr th:only-of-type {\n",
       "        vertical-align: middle;\n",
       "    }\n",
       "\n",
       "    .dataframe tbody tr th {\n",
       "        vertical-align: top;\n",
       "    }\n",
       "\n",
       "    .dataframe thead th {\n",
       "        text-align: right;\n",
       "    }\n",
       "</style>\n",
       "<table border=\"1\" class=\"dataframe\">\n",
       "  <thead>\n",
       "    <tr style=\"text-align: right;\">\n",
       "      <th></th>\n",
       "      <th>counts</th>\n",
       "    </tr>\n",
       "    <tr>\n",
       "      <th>type</th>\n",
       "      <th></th>\n",
       "    </tr>\n",
       "  </thead>\n",
       "  <tbody>\n",
       "    <tr>\n",
       "      <th>natural gas-fired</th>\n",
       "      <td>50</td>\n",
       "    </tr>\n",
       "    <tr>\n",
       "      <th>hydroelectric</th>\n",
       "      <td>89</td>\n",
       "    </tr>\n",
       "    <tr>\n",
       "      <th>land-based wind</th>\n",
       "      <td>46</td>\n",
       "    </tr>\n",
       "    <tr>\n",
       "      <th>utility-scale solar</th>\n",
       "      <td>76</td>\n",
       "    </tr>\n",
       "    <tr>\n",
       "      <th>nuclear</th>\n",
       "      <td>10</td>\n",
       "    </tr>\n",
       "    <tr>\n",
       "      <th>petroleum-fired</th>\n",
       "      <td>0</td>\n",
       "    </tr>\n",
       "    <tr>\n",
       "      <th>distributed solar</th>\n",
       "      <td>0</td>\n",
       "    </tr>\n",
       "    <tr>\n",
       "      <th>offshore wind</th>\n",
       "      <td>0</td>\n",
       "    </tr>\n",
       "  </tbody>\n",
       "</table>\n",
       "</div>"
      ],
      "text/plain": [
       "                     counts\n",
       "type                       \n",
       "natural gas-fired        50\n",
       "hydroelectric            89\n",
       "land-based wind          46\n",
       "utility-scale solar      76\n",
       "nuclear                  10\n",
       "petroleum-fired           0\n",
       "distributed solar         0\n",
       "offshore wind             0"
      ]
     },
     "execution_count": 31,
     "metadata": {},
     "output_type": "execute_result"
    }
   ],
   "source": [
    "future_facil_counts.loc[facil_counts.index]"
   ]
  },
  {
   "cell_type": "code",
   "execution_count": 32,
   "id": "d3278e8d",
   "metadata": {},
   "outputs": [
    {
     "data": {
      "image/png": "[encoded data removed]",
      "text/plain": [
       "<Figure size 432x288 with 1 Axes>"
      ]
     },
     "metadata": {
      "needs_background": "light"
     },
     "output_type": "display_data"
    }
   ],
   "source": [
    "plt.bar(\n",
    "    future_facil_counts.loc[facil_counts.index].index,\n",
    "    future_facil_counts.loc[facil_counts.index].counts,\n",
    "    color=colors.color[future_facil_counts.loc[facil_counts.index].index].values)\n",
    "plt.title(\"2030 Generator Counts\")\n",
    "plt.ylabel(\"number of generators\")\n",
    "plt.ylim(0,250)\n",
    "plt.xticks(rotation=90)\n",
    "plt.show()"
   ]
  },
  {
   "cell_type": "code",
   "execution_count": 33,
   "id": "8ba41574",
   "metadata": {},
   "outputs": [
    {
     "name": "stdout",
     "output_type": "stream",
     "text": [
      "We'll instantiate our testbed with these parameters:\n"
     ]
    },
    {
     "data": {
      "text/html": [
       "<div>\n",
       "<style scoped>\n",
       "    .dataframe tbody tr th:only-of-type {\n",
       "        vertical-align: middle;\n",
       "    }\n",
       "\n",
       "    .dataframe tbody tr th {\n",
       "        vertical-align: top;\n",
       "    }\n",
       "\n",
       "    .dataframe thead th {\n",
       "        text-align: right;\n",
       "    }\n",
       "</style>\n",
       "<table border=\"1\" class=\"dataframe\">\n",
       "  <thead>\n",
       "    <tr style=\"text-align: right;\">\n",
       "      <th>type</th>\n",
       "      <th>natural gas-fired</th>\n",
       "      <th>hydroelectric</th>\n",
       "      <th>land-based wind</th>\n",
       "      <th>utility-scale solar</th>\n",
       "      <th>nuclear</th>\n",
       "      <th>petroleum-fired</th>\n",
       "      <th>distributed solar</th>\n",
       "      <th>offshore wind</th>\n",
       "    </tr>\n",
       "  </thead>\n",
       "  <tbody>\n",
       "    <tr>\n",
       "      <th>counts</th>\n",
       "      <td>246.0</td>\n",
       "      <td>51.0</td>\n",
       "      <td>21.0</td>\n",
       "      <td>16.0</td>\n",
       "      <td>8.0</td>\n",
       "      <td>0.0</td>\n",
       "      <td>NaN</td>\n",
       "      <td>NaN</td>\n",
       "    </tr>\n",
       "    <tr>\n",
       "      <th>capacity_mw</th>\n",
       "      <td>98.0</td>\n",
       "      <td>140.0</td>\n",
       "      <td>57.0</td>\n",
       "      <td>56.0</td>\n",
       "      <td>975.0</td>\n",
       "      <td>259.2</td>\n",
       "      <td>NaN</td>\n",
       "      <td>NaN</td>\n",
       "    </tr>\n",
       "  </tbody>\n",
       "</table>\n",
       "</div>"
      ],
      "text/plain": [
       "type         natural gas-fired  hydroelectric  land-based wind  \\\n",
       "counts                   246.0           51.0             21.0   \n",
       "capacity_mw               98.0          140.0             57.0   \n",
       "\n",
       "type         utility-scale solar  nuclear  petroleum-fired  distributed solar  \\\n",
       "counts                      16.0      8.0              0.0                NaN   \n",
       "capacity_mw                 56.0    975.0            259.2                NaN   \n",
       "\n",
       "type         offshore wind  \n",
       "counts                 NaN  \n",
       "capacity_mw            NaN  "
      ]
     },
     "execution_count": 33,
     "metadata": {},
     "output_type": "execute_result"
    }
   ],
   "source": [
    "final_gen_stats = pd.concat([facil_counts, avg_gen], axis=1)\n",
    "print(\"We'll instantiate our testbed with these parameters:\")\n",
    "final_gen_stats.T"
   ]
  },
  {
   "cell_type": "markdown",
   "id": "6988e85a",
   "metadata": {},
   "source": [
    "***"
   ]
  },
  {
   "cell_type": "markdown",
   "id": "682113b7",
   "metadata": {},
   "source": [
    "### Consumers\n",
    "\n",
    "The most recently published dataset is from 2018. We'll base our portion of consumers based on that."
   ]
  },
  {
   "cell_type": "code",
   "execution_count": 34,
   "id": "1f78af49",
   "metadata": {},
   "outputs": [],
   "source": [
    "elec_customers = pd.read_csv('data/electricity_sales_by_customer_GWh.csv').set_index(\"Year\").drop(\"Grand Total\", axis=1)\n",
    "portion_elec_customers = elec_customers.loc[2018] / elec_customers.loc[2018].sum() "
   ]
  },
  {
   "cell_type": "code",
   "execution_count": 35,
   "id": "727c803b",
   "metadata": {},
   "outputs": [
    {
     "data": {
      "image/png": "[encoded data removed]",
      "text/plain": [
       "<Figure size 432x288 with 1 Axes>"
      ]
     },
     "metadata": {},
     "output_type": "display_data"
    }
   ],
   "source": [
    "plt.pie(portion_elec_customers, labels=portion_elec_customers.index, autopct='%.1f%%')\n",
    "plt.title(\"Portion of Electricity Use by Customer Type\")\n",
    "plt.show()"
   ]
  },
  {
   "cell_type": "markdown",
   "id": "c6b65d68",
   "metadata": {},
   "source": [
    "According to [Census.gov](https://www.census.gov/quickfacts/NY), there are **8,531,063 housing units** in New York State, as of 2021."
   ]
  },
  {
   "cell_type": "markdown",
   "id": "2f4fc26d",
   "metadata": {},
   "source": [
    "According to the [NYSERDA commercial baseline study](https://www.nyserda.ny.gov/about/publications/building-stock-and-potential-studies/commercial-statewide-baseline-study), there are **367,223 commercial buildings** in New York State. (Vol 1., pg.13)\n",
    "\n",
    "For simplicity, we'll assume that **transportation** and **industrial** end uses have ***fixed*** energy consumption."
   ]
  },
  {
   "cell_type": "code",
   "execution_count": 36,
   "id": "4bc219f3",
   "metadata": {},
   "outputs": [],
   "source": [
    "res_units = 8531063 \n",
    "com_units = 367223"
   ]
  },
  {
   "cell_type": "code",
   "execution_count": 37,
   "id": "92dc3d87",
   "metadata": {},
   "outputs": [
    {
     "data": {
      "text/plain": [
       "Commercial        16441.956826\n",
       "Industrial         3872.841925\n",
       "Residential       11173.332131\n",
       "Transportation      632.869118\n",
       "Name: 2018, dtype: float64"
      ]
     },
     "execution_count": 37,
     "metadata": {},
     "output_type": "execute_result"
    }
   ],
   "source": [
    "# Average consumption by unit type (MW)\n",
    "consump_by_cust_type = summer_peak * portion_elec_customers\n",
    "consump_by_cust_type"
   ]
  },
  {
   "cell_type": "code",
   "execution_count": 38,
   "id": "618d2675",
   "metadata": {},
   "outputs": [
    {
     "name": "stdout",
     "output_type": "stream",
     "text": [
      "Residential Units:          8531063\n",
      "Avg. res unit consumption:  0.00131 MW\n",
      "Commercial Units:           367223\n",
      "Avg. com. unit consumption: 0.04477 MW\n"
     ]
    }
   ],
   "source": [
    "res_unit_consump = consump_by_cust_type[\"Residential\"] / res_units\n",
    "com_unit_consump = consump_by_cust_type[\"Commercial\"] / com_units\n",
    "print(\"Residential Units:          {}\".format(res_units))\n",
    "print(\"Avg. res unit consumption:  {} MW\".format(np.round(res_unit_consump, 5)))\n",
    "print(\"Commercial Units:           {}\".format(com_units))\n",
    "print(\"Avg. com. unit consumption: {} MW\".format(np.round(com_unit_consump, 5)))"
   ]
  },
  {
   "cell_type": "markdown",
   "id": "d0ae8baf",
   "metadata": {},
   "source": [
    "We'll use this [source ](https://www.perchenergy.com/blog/energy/what-appliances-use-most-electricity-home)for energy break downs for residential units. TV has been combined with plug loads."
   ]
  },
  {
   "cell_type": "code",
   "execution_count": 39,
   "id": "43b72024",
   "metadata": {},
   "outputs": [],
   "source": [
    "res_elec_by_use = [\n",
    "    {\"load\": \"hvac\", \"portion\": 0.45, \"deferrable_for\": 60*10},\n",
    "    {\"load\": \"hot_water\", \"portion\": 0.12, \"deferrable_for\": 60*5},\n",
    "    {\"load\": \"lighting\", \"portion\": 0.10, \"deferrable_for\": 0},\n",
    "    {\"load\": \"fridge\", \"portion\": 0.08, \"deferrable_for\": 60*3},\n",
    "    {\"load\": \"washer_dryer\", \"portion\": 0.05, \"deferrable_for\": 60*15},\n",
    "    {\"load\": \"oven\", \"portion\": 0.03, \"deferrable_for\": 0},\n",
    "    {\"load\": \"dishwasher\", \"portion\": 0.02, \"deferrable_for\": 60*30},\n",
    "    {\"load\": \"other\", \"portion\": 0.15, \"deferrable_for\": 60*30},\n",
    "]"
   ]
  },
  {
   "cell_type": "code",
   "execution_count": 40,
   "id": "8b0d39e1",
   "metadata": {},
   "outputs": [
    {
     "name": "stdout",
     "output_type": "stream",
     "text": [
      "Prototypical energy loads (residential)\n"
     ]
    },
    {
     "data": {
      "text/html": [
       "<div>\n",
       "<style scoped>\n",
       "    .dataframe tbody tr th:only-of-type {\n",
       "        vertical-align: middle;\n",
       "    }\n",
       "\n",
       "    .dataframe tbody tr th {\n",
       "        vertical-align: top;\n",
       "    }\n",
       "\n",
       "    .dataframe thead th {\n",
       "        text-align: right;\n",
       "    }\n",
       "</style>\n",
       "<table border=\"1\" class=\"dataframe\">\n",
       "  <thead>\n",
       "    <tr style=\"text-align: right;\">\n",
       "      <th></th>\n",
       "      <th>load</th>\n",
       "      <th>portion</th>\n",
       "      <th>deferrable_for</th>\n",
       "    </tr>\n",
       "  </thead>\n",
       "  <tbody>\n",
       "    <tr>\n",
       "      <th>0</th>\n",
       "      <td>hvac</td>\n",
       "      <td>0.45</td>\n",
       "      <td>600</td>\n",
       "    </tr>\n",
       "    <tr>\n",
       "      <th>1</th>\n",
       "      <td>hot_water</td>\n",
       "      <td>0.12</td>\n",
       "      <td>300</td>\n",
       "    </tr>\n",
       "    <tr>\n",
       "      <th>2</th>\n",
       "      <td>lighting</td>\n",
       "      <td>0.10</td>\n",
       "      <td>0</td>\n",
       "    </tr>\n",
       "    <tr>\n",
       "      <th>3</th>\n",
       "      <td>fridge</td>\n",
       "      <td>0.08</td>\n",
       "      <td>180</td>\n",
       "    </tr>\n",
       "    <tr>\n",
       "      <th>4</th>\n",
       "      <td>washer_dryer</td>\n",
       "      <td>0.05</td>\n",
       "      <td>900</td>\n",
       "    </tr>\n",
       "    <tr>\n",
       "      <th>5</th>\n",
       "      <td>oven</td>\n",
       "      <td>0.03</td>\n",
       "      <td>0</td>\n",
       "    </tr>\n",
       "    <tr>\n",
       "      <th>6</th>\n",
       "      <td>dishwasher</td>\n",
       "      <td>0.02</td>\n",
       "      <td>1800</td>\n",
       "    </tr>\n",
       "    <tr>\n",
       "      <th>7</th>\n",
       "      <td>other</td>\n",
       "      <td>0.15</td>\n",
       "      <td>1800</td>\n",
       "    </tr>\n",
       "  </tbody>\n",
       "</table>\n",
       "</div>"
      ],
      "text/plain": [
       "           load  portion  deferrable_for\n",
       "0          hvac     0.45             600\n",
       "1     hot_water     0.12             300\n",
       "2      lighting     0.10               0\n",
       "3        fridge     0.08             180\n",
       "4  washer_dryer     0.05             900\n",
       "5          oven     0.03               0\n",
       "6    dishwasher     0.02            1800\n",
       "7         other     0.15            1800"
      ]
     },
     "execution_count": 40,
     "metadata": {},
     "output_type": "execute_result"
    }
   ],
   "source": [
    "print(\"Prototypical energy loads (residential)\")\n",
    "res_elec_by_use = pd.DataFrame(res_elec_by_use)\n",
    "res_elec_by_use"
   ]
  },
  {
   "cell_type": "markdown",
   "id": "363e65bb",
   "metadata": {},
   "source": [
    "***"
   ]
  },
  {
   "cell_type": "code",
   "execution_count": 41,
   "id": "1e906b24",
   "metadata": {},
   "outputs": [
    {
     "data": {
      "text/plain": [
       "1.0"
      ]
     },
     "execution_count": 41,
     "metadata": {},
     "output_type": "execute_result"
    }
   ],
   "source": [
    "res_elec_by_use.portion.sum()"
   ]
  },
  {
   "cell_type": "markdown",
   "id": "fa10ee67",
   "metadata": {},
   "source": [
    "# Trackers\n",
    "\n",
    "Trackers must maintain *ephemeral distribution trees*, graphs that connect a `Consumer`  to a `Generator` with  spare capacity. As `Consumer` demand increases, `Generators` may be forced to `disconnect()` one or more consumers to maitain a `safetyThreshold`.\n",
    "\n",
    "The following is a sketch of the tracker microservice."
   ]
  },
  {
   "cell_type": "code",
   "execution_count": 42,
   "id": "ba08f450",
   "metadata": {},
   "outputs": [],
   "source": [
    "class Tracker:\n",
    "    def __init__(self):\n",
    "        self.Trees = []\n",
    "        self.Consumers = []\n",
    "        self.Generators = []\n",
    "    \n",
    "    def balanceTrees(self):\n",
    "        \"\"\"Balance all trees managed by the tracker\"\"\"\n",
    "        pass\n",
    "    \n",
    "    def findGenerator(self, consumer):\n",
    "        \"\"\"Find a generator with spare capacity for a consumer to matched with\"\"\"\n",
    "        pass\n",
    "    \n",
    "    def findConsumers(self, generator):\n",
    "        \"\"\"Find a consumer with to absorb spare generation capacity\"\"\"\n",
    "        pass\n",
    "    \n",
    "    def shedLoad(self, generator):\n",
    "        \"\"\"Pick consumers to disconnect from a generator to maintain the safety threshold\"\"\"\n",
    "        pass\n",
    "    \n",
    "    def registerGenerator(self, generator):\n",
    "        \"\"\"Add a generator to self.Generators\"\"\"\n",
    "        pass\n",
    "    \n",
    "    def registerConsumer(self, consumer):\n",
    "        \"\"\"Add a consumer to self.Consumers\"\"\"\n",
    "        pass\n",
    "    "
   ]
  },
  {
   "cell_type": "markdown",
   "id": "04f01b9a",
   "metadata": {},
   "source": [
    "Trackers must store metadata about each `Generator` and `Consumer` that they are responsible for. The abbreviated set of `Peer` metadata the tracker must store is captured below:"
   ]
  },
  {
   "cell_type": "code",
   "execution_count": 43,
   "id": "f8130aa3",
   "metadata": {},
   "outputs": [],
   "source": [
    "SEED = 42 # for deterministic hashing with MurmurHash3\n",
    "\n",
    "class mPeer:\n",
    "    def __init__(self, addr):\n",
    "        self.addr = addr #IPV4 address\n",
    "        self.id = self.setHash()\n",
    "    \n",
    "    def getAddr(self):\n",
    "        return self.addr\n",
    "    \n",
    "    def setHash(self):\n",
    "        import mmh3\n",
    "        import secrets\n",
    "        import warnings\n",
    "#         warnings.filterwarnings('ignore')\n",
    "        self.id = mmh3.hash(self.addr + secrets.token_hex(2),SEED) # secrets.token_hex is non-deterministic...\n",
    "        return self.id\n",
    "\n",
    "class mGenerator(mPeer):\n",
    "    def __init__(self, addr, nominal_capacity, kind):\n",
    "        self.addr = addr #IPV4 address\n",
    "        self.id = self.setHash()\n",
    "        \n",
    "        self.kind = kind\n",
    "        self.nominal_cap = nominal_capacity # MW\n",
    "        \n",
    "        self.cur_cap = 0    # MW\n",
    "        self.cur_demand = 0 # MW\n",
    "\n",
    "class mConsumer(mPeer):\n",
    "    def __init__(self, addr, avg_consump, kind, desired_consump=None, deferrable_consump=0, demand_responsive_consump=0):\n",
    "        self.addr = addr #IPV4 address\n",
    "        self.id = self.setHash()\n",
    "        \n",
    "        self.avg_consump = avg_consump               # MW\n",
    "        self.deferrable_consump = deferrable_consump # MW\n",
    "        self.dr_consump = demand_responsive_consump  # MW\n",
    "        \n",
    "        if desired_consump is None:\n",
    "            self.desired_consump = self.avg_consump  # MW\n",
    "        \n",
    "        self.cur_consump = 0 # current consumption in MW        \n",
    "\n",
    "class mStorage(mConsumer):\n",
    "    def __init__(self, addr, capacity):\n",
    "        self.addr = addr  #IPV4 address\n",
    "        self.id = self.setHash()\n",
    "\n",
    "        self.capacity = 0 # MW"
   ]
  },
  {
   "cell_type": "code",
   "execution_count": 44,
   "id": "618c0aba",
   "metadata": {},
   "outputs": [
    {
     "name": "stdout",
     "output_type": "stream",
     "text": [
      "-496655048\n"
     ]
    },
    {
     "name": "stderr",
     "output_type": "stream",
     "text": [
      "/var/folders/51/y1pfjrgx6w9czpjg5nxx6fnm0000gn/T/ipykernel_87129/1645451492.py:16: DeprecationWarning: PY_SSIZE_T_CLEAN will be required for '#' formats\n",
      "  self.id = mmh3.hash(self.addr + secrets.token_hex(2),SEED) # secrets.token_hex is non-deterministic...\n"
     ]
    }
   ],
   "source": [
    "# Test\n",
    "# this will return a new value each time because of the use of the non-determinstic nonce...\n",
    "# I don't think that's ideal.\n",
    "p = mPeer(\"192.168.1.2:3003\")\n",
    "print(p.id)"
   ]
  },
  {
   "cell_type": "markdown",
   "id": "6095ba0f",
   "metadata": {},
   "source": [
    "## Assigning Buckets for Generator Trackers\n",
    "\n",
    "To evenly distribute the labor of generating distribution trees. We'll need to assign a fixed number of buckets to filter each `Generator.id` into.\n",
    "\n",
    "I'll be assuming the use of the d430 resource type on emulab. It has:\n",
    "- 16 CPU cores @ 2.4Hz\n",
    "- 64 GB DDR4 RAM @ 2133MT/s\n",
    "\n",
    "Accordingly, we'll assume **8-16 `Tracker` buckets**.\n",
    "\n",
    "### Method\n",
    "\n",
    "Bucket assignment works as follows:"
   ]
  },
  {
   "cell_type": "code",
   "execution_count": 45,
   "id": "834a2964",
   "metadata": {},
   "outputs": [],
   "source": [
    "HASH_SIZE = 32"
   ]
  },
  {
   "cell_type": "code",
   "execution_count": 46,
   "id": "9584352a",
   "metadata": {},
   "outputs": [],
   "source": [
    "def assignBucket(hash_result, num_buckets=8):\n",
    "    # map hash_result in to the range [0,1]\n",
    "    hash_result += 2**(HASH_SIZE-1)\n",
    "    p = hash_result / 2**(HASH_SIZE)\n",
    "    b = int(np.round(p * (num_buckets)))\n",
    "    if b >= num_buckets: b = 0 \n",
    "    return b"
   ]
  },
  {
   "cell_type": "markdown",
   "id": "f3355076",
   "metadata": {},
   "source": [
    "### Checking for correctness"
   ]
  },
  {
   "cell_type": "code",
   "execution_count": 47,
   "id": "36bd8ef7",
   "metadata": {},
   "outputs": [],
   "source": [
    "r = range(-1 * 2**(HASH_SIZE-1), 2**(HASH_SIZE-1) + 1, 2**16)\n",
    "bucket = []\n",
    "for sample in r:\n",
    "    bucket.append(assignBucket(sample))"
   ]
  },
  {
   "cell_type": "code",
   "execution_count": 48,
   "id": "9c4a1071",
   "metadata": {},
   "outputs": [],
   "source": [
    "results = pd.DataFrame(bucket)"
   ]
  },
  {
   "cell_type": "code",
   "execution_count": 49,
   "id": "bd99c008",
   "metadata": {},
   "outputs": [
    {
     "data": {
      "text/html": [
       "<div>\n",
       "<style scoped>\n",
       "    .dataframe tbody tr th:only-of-type {\n",
       "        vertical-align: middle;\n",
       "    }\n",
       "\n",
       "    .dataframe tbody tr th {\n",
       "        vertical-align: top;\n",
       "    }\n",
       "\n",
       "    .dataframe thead tr th {\n",
       "        text-align: left;\n",
       "    }\n",
       "</style>\n",
       "<table border=\"1\" class=\"dataframe\">\n",
       "  <thead>\n",
       "    <tr>\n",
       "      <th></th>\n",
       "      <th>0</th>\n",
       "      <th>1</th>\n",
       "      <th>2</th>\n",
       "      <th>3</th>\n",
       "      <th>4</th>\n",
       "      <th>5</th>\n",
       "      <th>6</th>\n",
       "      <th>7</th>\n",
       "    </tr>\n",
       "  </thead>\n",
       "  <tbody>\n",
       "    <tr>\n",
       "      <th>bucket_size</th>\n",
       "      <td>8194</td>\n",
       "      <td>8191</td>\n",
       "      <td>8193</td>\n",
       "      <td>8191</td>\n",
       "      <td>8193</td>\n",
       "      <td>8191</td>\n",
       "      <td>8193</td>\n",
       "      <td>8191</td>\n",
       "    </tr>\n",
       "  </tbody>\n",
       "</table>\n",
       "</div>"
      ],
      "text/plain": [
       "0               0     1     2     3     4     5     6     7\n",
       "bucket_size  8194  8191  8193  8191  8193  8191  8193  8191"
      ]
     },
     "execution_count": 49,
     "metadata": {},
     "output_type": "execute_result"
    }
   ],
   "source": [
    "pd.DataFrame(results.value_counts(),columns=[\"bucket_size\"]).sort_index().T"
   ]
  },
  {
   "cell_type": "markdown",
   "id": "f30cc4f0",
   "metadata": {},
   "source": [
    "## Tracker Mock Up"
   ]
  },
  {
   "cell_type": "markdown",
   "id": "1af33a50",
   "metadata": {},
   "source": [
    "How do Trackers get their `Generator` assignments?"
   ]
  },
  {
   "cell_type": "markdown",
   "id": "bd27d01e",
   "metadata": {},
   "source": [
    "- a loadbalancer?\n",
    "\n",
    "What's the use case (bootstrapping)?\n",
    "1. New `Generator` comes online.\n",
    "2. It pings a server to know where which `Tracker` it should be assigned to.\n",
    "3. When that server responds, the `Geneterator` connects with that `Tracker` so it may be given an ephemeral distribution tree."
   ]
  },
  {
   "cell_type": "markdown",
   "id": "ad03f5f2",
   "metadata": {},
   "source": [
    "### Bootstrapping Server Mockup"
   ]
  },
  {
   "cell_type": "code",
   "execution_count": 50,
   "id": "459e51ea",
   "metadata": {},
   "outputs": [],
   "source": [
    "# a new generator comes online,\n",
    "# it pings the bootstrapping server for the tracker_id and ip_address to reach out to:\n",
    "class GeneratorBootstrappingServer():\n",
    "    def __init__(self):\n",
    "        self.trackers = {\n",
    "            1 : \"192.168.1.1:3001\",\n",
    "            2 : \"192.168.1.1:3002\",\n",
    "            3 : \"192.168.1.1:3003\",\n",
    "            4 : \"192.168.1.1:3004\",\n",
    "            5 : \"192.168.1.2:3001\",\n",
    "            6 : \"192.168.1.2:3002\",\n",
    "            7 : \"192.168.1.2:3003\",\n",
    "            8 : \"192.168.1.2:3004\",\n",
    "        }\n",
    "        self.HASH_SIZE = 32 # if using mmh3.hash()\n",
    "    \n",
    "    def assign_bucket(self, gen_addr, num_buckets=8):\n",
    "        # add some a random nonce\n",
    "        import mmh3\n",
    "        import secrets\n",
    "        import warnings\n",
    "        # hashing done at the bootstrapping server so that a compromised generator can't \n",
    "        # intentionally overload a tracker by trying to register generators with the same ip and \"nonce\"\n",
    "        # secrets.token_hex is non-deterministic...\n",
    "        hash_result = mmh3.hash(gen_addr + secrets.token_hex(2),SEED)\n",
    "        \n",
    "        # get the hash_result into the range of an unsigned 32-bit int\n",
    "        hash_result += 2**(self.HASH_SIZE-1)\n",
    "\n",
    "        # map hash_result in to the range [0,1]\n",
    "        p = hash_result / 2**(self.HASH_SIZE)\n",
    "        \n",
    "        # assign to specific bucket\n",
    "        b = int(np.round(p * (num_buckets)))\n",
    "        if b >= num_buckets: b = 0 # clean up results\n",
    "        \n",
    "        # return the bucket to the client (Generator)\n",
    "        return b"
   ]
  },
  {
   "cell_type": "code",
   "execution_count": 51,
   "id": "11998d01",
   "metadata": {},
   "outputs": [],
   "source": [
    "gbs = GeneratorBootstrappingServer()"
   ]
  },
  {
   "cell_type": "markdown",
   "id": "c919a411",
   "metadata": {},
   "source": [
    "Sanity Check"
   ]
  },
  {
   "cell_type": "code",
   "execution_count": 52,
   "id": "d461f8ec",
   "metadata": {
    "scrolled": true
   },
   "outputs": [],
   "source": [
    "peers_to_sort = 1000\n",
    "\n"
   ]
  },
  {
   "cell_type": "markdown",
   "id": "d7743fa5",
   "metadata": {},
   "source": [
    "### Correctness Check No. 2"
   ]
  },
  {
   "cell_type": "code",
   "execution_count": 53,
   "id": "8d6e72c6",
   "metadata": {},
   "outputs": [
    {
     "name": "stdout",
     "output_type": "stream",
     "text": [
      "Created: natural gas-fired generators\n",
      "Created: hydroelectric generators\n",
      "Created: land-based wind generators\n",
      "Created: utility-scale solar generators\n",
      "Created: nuclear generators\n",
      "\n",
      "Total Generators created: 342\n"
     ]
    },
    {
     "name": "stderr",
     "output_type": "stream",
     "text": [
      "/var/folders/51/y1pfjrgx6w9czpjg5nxx6fnm0000gn/T/ipykernel_87129/1645451492.py:16: DeprecationWarning: PY_SSIZE_T_CLEAN will be required for '#' formats\n",
      "  self.id = mmh3.hash(self.addr + secrets.token_hex(2),SEED) # secrets.token_hex is non-deterministic...\n"
     ]
    }
   ],
   "source": [
    "generator_mdata = []\n",
    "for kind in final_gen_stats[final_gen_stats.counts > 0].index:\n",
    "    for facil in range(final_gen_stats.loc[kind].counts.astype(int)):\n",
    "        generator_mdata.append(\n",
    "            mGenerator(\n",
    "                '192.168.1.0:65535',\n",
    "                final_gen_stats.loc[kind].capacity_mw,\n",
    "                kind\n",
    "            )\n",
    "        )\n",
    "    print(\"Created: {} generators\".format(kind))\n",
    "\n",
    "print(\"\\nTotal Generators created: {}\".format(len(generator_mdata)))"
   ]
  },
  {
   "cell_type": "code",
   "execution_count": 54,
   "id": "92dcdf13",
   "metadata": {},
   "outputs": [
    {
     "name": "stderr",
     "output_type": "stream",
     "text": [
      "/var/folders/51/y1pfjrgx6w9czpjg5nxx6fnm0000gn/T/ipykernel_87129/658864588.py:25: DeprecationWarning: PY_SSIZE_T_CLEAN will be required for '#' formats\n",
      "  hash_result = mmh3.hash(gen_addr + secrets.token_hex(2),SEED)\n"
     ]
    },
    {
     "data": {
      "image/png": "[encoded data removed]",
      "text/plain": [
       "<Figure size 432x288 with 1 Axes>"
      ]
     },
     "metadata": {
      "needs_background": "light"
     },
     "output_type": "display_data"
    }
   ],
   "source": [
    "# Create bootsctrapping server\n",
    "gbs = GeneratorBootstrappingServer()\n",
    "\n",
    "tracker_assignments = []\n",
    "for generator in generator_mdata:\n",
    "    tracker_assignments.append([gbs.assign_bucket(generator.addr)])\n",
    "\n",
    "\n",
    "pd.DataFrame(tracker_assignments)[0].value_counts().sort_index().plot.bar()\n",
    "plt.show()"
   ]
  },
  {
   "cell_type": "markdown",
   "id": "849af5ea",
   "metadata": {},
   "source": [
    "***"
   ]
  },
  {
   "cell_type": "markdown",
   "id": "11be2728",
   "metadata": {},
   "source": [
    "## Memory allocation test\n",
    "\n",
    "Let's see how much memory it takes to store the basic data about each peer.\n",
    "\n",
    "Before instantiation of `Generators` this notebook has used **254.4 MB** of memory.\n",
    "\n",
    "We'll now instantiate the following number of `Peers`, with dummy data."
   ]
  },
  {
   "cell_type": "code",
   "execution_count": 55,
   "id": "c71adcf7",
   "metadata": {},
   "outputs": [
    {
     "data": {
      "text/html": [
       "<div>\n",
       "<style scoped>\n",
       "    .dataframe tbody tr th:only-of-type {\n",
       "        vertical-align: middle;\n",
       "    }\n",
       "\n",
       "    .dataframe tbody tr th {\n",
       "        vertical-align: top;\n",
       "    }\n",
       "\n",
       "    .dataframe thead th {\n",
       "        text-align: right;\n",
       "    }\n",
       "</style>\n",
       "<table border=\"1\" class=\"dataframe\">\n",
       "  <thead>\n",
       "    <tr style=\"text-align: right;\">\n",
       "      <th>type</th>\n",
       "      <th>natural gas-fired</th>\n",
       "      <th>hydroelectric</th>\n",
       "      <th>land-based wind</th>\n",
       "      <th>utility-scale solar</th>\n",
       "      <th>nuclear</th>\n",
       "      <th>petroleum-fired</th>\n",
       "      <th>distributed solar</th>\n",
       "      <th>offshore wind</th>\n",
       "    </tr>\n",
       "  </thead>\n",
       "  <tbody>\n",
       "    <tr>\n",
       "      <th>counts</th>\n",
       "      <td>246.0</td>\n",
       "      <td>51.0</td>\n",
       "      <td>21.0</td>\n",
       "      <td>16.0</td>\n",
       "      <td>8.0</td>\n",
       "      <td>0.0</td>\n",
       "      <td>NaN</td>\n",
       "      <td>NaN</td>\n",
       "    </tr>\n",
       "    <tr>\n",
       "      <th>capacity_mw</th>\n",
       "      <td>98.0</td>\n",
       "      <td>140.0</td>\n",
       "      <td>57.0</td>\n",
       "      <td>56.0</td>\n",
       "      <td>975.0</td>\n",
       "      <td>259.2</td>\n",
       "      <td>NaN</td>\n",
       "      <td>NaN</td>\n",
       "    </tr>\n",
       "  </tbody>\n",
       "</table>\n",
       "</div>"
      ],
      "text/plain": [
       "type         natural gas-fired  hydroelectric  land-based wind  \\\n",
       "counts                   246.0           51.0             21.0   \n",
       "capacity_mw               98.0          140.0             57.0   \n",
       "\n",
       "type         utility-scale solar  nuclear  petroleum-fired  distributed solar  \\\n",
       "counts                      16.0      8.0              0.0                NaN   \n",
       "capacity_mw                 56.0    975.0            259.2                NaN   \n",
       "\n",
       "type         offshore wind  \n",
       "counts                 NaN  \n",
       "capacity_mw            NaN  "
      ]
     },
     "execution_count": 55,
     "metadata": {},
     "output_type": "execute_result"
    }
   ],
   "source": [
    "final_gen_stats.T"
   ]
  },
  {
   "cell_type": "code",
   "execution_count": 56,
   "id": "5b8f29b2",
   "metadata": {
    "scrolled": true
   },
   "outputs": [
    {
     "name": "stdout",
     "output_type": "stream",
     "text": [
      "Created: natural gas-fired generators\n",
      "Created: hydroelectric generators\n",
      "Created: land-based wind generators\n",
      "Created: utility-scale solar generators\n",
      "Created: nuclear generators\n",
      "\n",
      "Total Generators created: 342\n"
     ]
    },
    {
     "name": "stderr",
     "output_type": "stream",
     "text": [
      "/var/folders/51/y1pfjrgx6w9czpjg5nxx6fnm0000gn/T/ipykernel_87129/1645451492.py:16: DeprecationWarning: PY_SSIZE_T_CLEAN will be required for '#' formats\n",
      "  self.id = mmh3.hash(self.addr + secrets.token_hex(2),SEED) # secrets.token_hex is non-deterministic...\n"
     ]
    }
   ],
   "source": [
    "generator_mdata = []\n",
    "for kind in final_gen_stats[final_gen_stats.counts > 0].index:\n",
    "    for facil in range(final_gen_stats.loc[kind].counts.astype(int)):\n",
    "        generator_mdata.append(\n",
    "            mGenerator(\n",
    "                '192.168.1.0:65535',\n",
    "                final_gen_stats.loc[kind].capacity_mw,\n",
    "                kind\n",
    "            )\n",
    "        )\n",
    "    print(\"Created: {} generators\".format(kind))\n",
    "\n",
    "print(\"\\nTotal Generators created: {}\".format(len(generator_mdata)))"
   ]
  },
  {
   "cell_type": "code",
   "execution_count": 57,
   "id": "7903accc",
   "metadata": {},
   "outputs": [
    {
     "name": "stdout",
     "output_type": "stream",
     "text": [
      "type:     hydroelectric\n",
      "addr:     192.168.1.0:65535\n",
      "capacity: 140.0 MW\n"
     ]
    }
   ],
   "source": [
    "# Inspect sample\n",
    "print(\"type:    \", generator_mdata[256].kind)\n",
    "print(\"addr:    \", generator_mdata[256].addr)\n",
    "print(\"capacity:\", generator_mdata[256].nominal_cap, \"MW\")"
   ]
  },
  {
   "cell_type": "markdown",
   "id": "483587b9",
   "metadata": {},
   "source": [
    "After instantiation of 342 `Generators` this notebook has used **254.4 MB** of memory. So, holding all generators in memory requires **3.2 MB** of memory\n",
    "\n",
    "Before instantiation of `Consumers` this notebook has used **273.2 MB** of memory.\n",
    "\n",
    "We'll now instantiate the following number of `Peers`, with dummy data.\n"
   ]
  },
  {
   "cell_type": "code",
   "execution_count": 58,
   "id": "98089cd6",
   "metadata": {},
   "outputs": [
    {
     "name": "stdout",
     "output_type": "stream",
     "text": [
      "Residential Units:          8531063\n",
      "Avg. res unit consumption:  0.00131 MW\n",
      "Commercial Units:           367223\n",
      "Avg. com. unit consumption: 0.04477 MW\n"
     ]
    }
   ],
   "source": [
    "print(\"Residential Units:          {}\".format(res_units))\n",
    "print(\"Avg. res unit consumption:  {} MW\".format(np.round(res_unit_consump, 5)))\n",
    "print(\"Commercial Units:           {}\".format(com_units))\n",
    "print(\"Avg. com. unit consumption: {} MW\".format(np.round(com_unit_consump, 5)))"
   ]
  },
  {
   "cell_type": "code",
   "execution_count": 59,
   "id": "88e8dd8c",
   "metadata": {},
   "outputs": [
    {
     "data": {
      "text/html": [
       "<div>\n",
       "<style scoped>\n",
       "    .dataframe tbody tr th:only-of-type {\n",
       "        vertical-align: middle;\n",
       "    }\n",
       "\n",
       "    .dataframe tbody tr th {\n",
       "        vertical-align: top;\n",
       "    }\n",
       "\n",
       "    .dataframe thead th {\n",
       "        text-align: right;\n",
       "    }\n",
       "</style>\n",
       "<table border=\"1\" class=\"dataframe\">\n",
       "  <thead>\n",
       "    <tr style=\"text-align: right;\">\n",
       "      <th></th>\n",
       "      <th>counts</th>\n",
       "      <th>avg_consump</th>\n",
       "    </tr>\n",
       "  </thead>\n",
       "  <tbody>\n",
       "    <tr>\n",
       "      <th>residential</th>\n",
       "      <td>8531063</td>\n",
       "      <td>0.001310</td>\n",
       "    </tr>\n",
       "    <tr>\n",
       "      <th>commercial</th>\n",
       "      <td>367223</td>\n",
       "      <td>0.044774</td>\n",
       "    </tr>\n",
       "  </tbody>\n",
       "</table>\n",
       "</div>"
      ],
      "text/plain": [
       "              counts  avg_consump\n",
       "residential  8531063     0.001310\n",
       "commercial    367223     0.044774"
      ]
     },
     "execution_count": 59,
     "metadata": {},
     "output_type": "execute_result"
    }
   ],
   "source": [
    "final_consumer_stats = pd.DataFrame(\n",
    "    [\n",
    "        {\"counts\": res_units, \"avg_consump\": res_unit_consump},\n",
    "        {\"counts\": com_units, \"avg_consump\": com_unit_consump}\n",
    "    ],\n",
    "    index=[\"residential\", \"commercial\"]\n",
    ")\n",
    "final_consumer_stats"
   ]
  },
  {
   "cell_type": "code",
   "execution_count": 60,
   "id": "5d519bb0",
   "metadata": {},
   "outputs": [
    {
     "name": "stdout",
     "output_type": "stream",
     "text": [
      "residential\n"
     ]
    },
    {
     "name": "stderr",
     "output_type": "stream",
     "text": [
      "/var/folders/51/y1pfjrgx6w9czpjg5nxx6fnm0000gn/T/ipykernel_87129/1645451492.py:16: DeprecationWarning: PY_SSIZE_T_CLEAN will be required for '#' formats\n",
      "  self.id = mmh3.hash(self.addr + secrets.token_hex(2),SEED) # secrets.token_hex is non-deterministic...\n"
     ]
    },
    {
     "name": "stdout",
     "output_type": "stream",
     "text": [
      "commercial\n"
     ]
    }
   ],
   "source": [
    "consumer_mdata = []\n",
    "consumers_created = 0\n",
    "for kind in final_consumer_stats[final_consumer_stats.counts > 0].index:\n",
    "    print(kind)\n",
    "    for consumer in range(final_consumer_stats.loc[kind].counts.astype(int)):\n",
    "        consumer_mdata.append(\n",
    "            mConsumer(\n",
    "                '192.168.1.0:65534',\n",
    "                final_consumer_stats.loc[kind].avg_consump,\n",
    "                kind\n",
    "            )\n",
    "        )\n",
    "        consumers_created += 1\n",
    "        if consumers_created >= 10000: break"
   ]
  },
  {
   "cell_type": "code",
   "execution_count": 61,
   "id": "1c787ec9",
   "metadata": {},
   "outputs": [
    {
     "name": "stdout",
     "output_type": "stream",
     "text": [
      "Created: 10001 consumers\n"
     ]
    }
   ],
   "source": [
    "print(\"Created: {} consumers\".format(len(consumer_mdata)))"
   ]
  },
  {
   "cell_type": "code",
   "execution_count": 62,
   "id": "e62d03d8",
   "metadata": {},
   "outputs": [
    {
     "data": {
      "text/plain": [
       "0.0002388"
      ]
     },
     "execution_count": 62,
     "metadata": {},
     "output_type": "execute_result"
    }
   ],
   "source": [
    "mem_per_consumer = np.round(( 493.2 - 254.4 ) / 1000002, 8)\n",
    "mem_per_consumer"
   ]
  },
  {
   "cell_type": "markdown",
   "id": "42cf4e19",
   "metadata": {},
   "source": [
    "Before instantiation of `Consumers` this notebook has used **254.4 MB** of memory.\n",
    "\n",
    "After instantiation of `Consumers` this notebook has used **493.2 MB** of memory.\n",
    "\n",
    "So the average memory per consumer is: **0.0002388 MB**\n"
   ]
  },
  {
   "cell_type": "markdown",
   "id": "1bad48a0",
   "metadata": {},
   "source": [
    "So, to manage all the `Consumers` it would require:"
   ]
  },
  {
   "cell_type": "code",
   "execution_count": 63,
   "id": "1f7f8955",
   "metadata": {},
   "outputs": [
    {
     "name": "stdout",
     "output_type": "stream",
     "text": [
      "2124.9106968 MB of memory\n"
     ]
    }
   ],
   "source": [
    "print(final_consumer_stats.counts.sum() * mem_per_consumer, \"MB of memory\")"
   ]
  },
  {
   "cell_type": "markdown",
   "id": "109c51b6",
   "metadata": {},
   "source": [
    "Or, about **2GB**"
   ]
  },
  {
   "cell_type": "markdown",
   "id": "8caf2449",
   "metadata": {},
   "source": [
    "***"
   ]
  },
  {
   "cell_type": "markdown",
   "id": "8c3541d3",
   "metadata": {},
   "source": [
    "## Energy Mix Generation Scripts\n",
    "\n",
    "We need to start by instantiating some peers. We'll do this at a fixed ratio of `Consumer`s and `Generator`s, **20,000:1**."
   ]
  },
  {
   "cell_type": "code",
   "execution_count": 64,
   "id": "933b8426",
   "metadata": {},
   "outputs": [],
   "source": [
    "CTG = 20000/1"
   ]
  },
  {
   "cell_type": "code",
   "execution_count": 65,
   "id": "91fcd602",
   "metadata": {},
   "outputs": [],
   "source": [
    "num_generators = 1 # multiplies the CTG rate to increate the number of consumers and generators"
   ]
  },
  {
   "cell_type": "code",
   "execution_count": 66,
   "id": "094e0dfa",
   "metadata": {},
   "outputs": [
    {
     "data": {
      "text/html": [
       "<div>\n",
       "<style scoped>\n",
       "    .dataframe tbody tr th:only-of-type {\n",
       "        vertical-align: middle;\n",
       "    }\n",
       "\n",
       "    .dataframe tbody tr th {\n",
       "        vertical-align: top;\n",
       "    }\n",
       "\n",
       "    .dataframe thead th {\n",
       "        text-align: right;\n",
       "    }\n",
       "</style>\n",
       "<table border=\"1\" class=\"dataframe\">\n",
       "  <thead>\n",
       "    <tr style=\"text-align: right;\">\n",
       "      <th>type</th>\n",
       "      <th>natural gas-fired</th>\n",
       "      <th>hydroelectric</th>\n",
       "      <th>land-based wind</th>\n",
       "      <th>utility-scale solar</th>\n",
       "      <th>nuclear</th>\n",
       "      <th>petroleum-fired</th>\n",
       "      <th>distributed solar</th>\n",
       "      <th>offshore wind</th>\n",
       "    </tr>\n",
       "  </thead>\n",
       "  <tbody>\n",
       "    <tr>\n",
       "      <th>2030_portions</th>\n",
       "      <td>0.182482</td>\n",
       "      <td>0.324818</td>\n",
       "      <td>0.167883</td>\n",
       "      <td>0.277372</td>\n",
       "      <td>0.036496</td>\n",
       "      <td>0.00365</td>\n",
       "      <td>0.00365</td>\n",
       "      <td>0.00365</td>\n",
       "    </tr>\n",
       "  </tbody>\n",
       "</table>\n",
       "</div>"
      ],
      "text/plain": [
       "type           natural gas-fired  hydroelectric  land-based wind  \\\n",
       "2030_portions           0.182482       0.324818         0.167883   \n",
       "\n",
       "type           utility-scale solar   nuclear  petroleum-fired  \\\n",
       "2030_portions             0.277372  0.036496          0.00365   \n",
       "\n",
       "type           distributed solar  offshore wind  \n",
       "2030_portions            0.00365        0.00365  "
      ]
     },
     "execution_count": 66,
     "metadata": {},
     "output_type": "execute_result"
    }
   ],
   "source": [
    "future_facil_counts[future_facil_counts == 0] = 1\n",
    "future_facil_portions = pd.DataFrame(future_facil_counts, index=facil_counts.index)\n",
    "future_facil_portions.columns = [\"2030_portions\"]\n",
    "future_facil_portions[\"2030_portions\"] = future_facil_portions[\"2030_portions\"] / future_facil_portions[\"2030_portions\"].sum()\n",
    "future_facil_portions.T"
   ]
  },
  {
   "cell_type": "code",
   "execution_count": 67,
   "id": "577edfc0",
   "metadata": {},
   "outputs": [
    {
     "data": {
      "text/html": [
       "<div>\n",
       "<style scoped>\n",
       "    .dataframe tbody tr th:only-of-type {\n",
       "        vertical-align: middle;\n",
       "    }\n",
       "\n",
       "    .dataframe tbody tr th {\n",
       "        vertical-align: top;\n",
       "    }\n",
       "\n",
       "    .dataframe thead th {\n",
       "        text-align: right;\n",
       "    }\n",
       "</style>\n",
       "<table border=\"1\" class=\"dataframe\">\n",
       "  <thead>\n",
       "    <tr style=\"text-align: right;\">\n",
       "      <th>type</th>\n",
       "      <th>natural gas-fired</th>\n",
       "      <th>hydroelectric</th>\n",
       "      <th>land-based wind</th>\n",
       "      <th>utility-scale solar</th>\n",
       "      <th>nuclear</th>\n",
       "      <th>petroleum-fired</th>\n",
       "      <th>distributed solar</th>\n",
       "      <th>offshore wind</th>\n",
       "    </tr>\n",
       "  </thead>\n",
       "  <tbody>\n",
       "    <tr>\n",
       "      <th>2030_portions</th>\n",
       "      <td>0.182482</td>\n",
       "      <td>0.324818</td>\n",
       "      <td>0.167883</td>\n",
       "      <td>0.277372</td>\n",
       "      <td>0.036496</td>\n",
       "      <td>0.00365</td>\n",
       "      <td>0.00365</td>\n",
       "      <td>0.00365</td>\n",
       "    </tr>\n",
       "  </tbody>\n",
       "</table>\n",
       "</div>"
      ],
      "text/plain": [
       "type           natural gas-fired  hydroelectric  land-based wind  \\\n",
       "2030_portions           0.182482       0.324818         0.167883   \n",
       "\n",
       "type           utility-scale solar   nuclear  petroleum-fired  \\\n",
       "2030_portions             0.277372  0.036496          0.00365   \n",
       "\n",
       "type           distributed solar  offshore wind  \n",
       "2030_portions            0.00365        0.00365  "
      ]
     },
     "execution_count": 67,
     "metadata": {},
     "output_type": "execute_result"
    }
   ],
   "source": [
    "# uncomment to save these portions,\n",
    "# then relocate from disk \n",
    "portions_path = 'simulation_config/2030_energy_mix/portions.csv'\n",
    "future_facil_portions.to_csv(portions_path)\n",
    "future_facil_portions = pd.read_csv(portions_path).set_index(\"type\")\n",
    "future_facil_portions.T"
   ]
  },
  {
   "cell_type": "markdown",
   "id": "1d6fe64d",
   "metadata": {},
   "source": [
    "This function computes the **number** and **types** of generation facilities to instantiate for the trial."
   ]
  },
  {
   "cell_type": "code",
   "execution_count": 68,
   "id": "cf81f160",
   "metadata": {},
   "outputs": [],
   "source": [
    "def getRandFacility(_df, num_facilities=1, seed=10):\n",
    "    import numpy as np\n",
    "    \"\"\"you must pass dataframe with facility types as the index and the portions as the first column\"\"\"\n",
    "    \n",
    "    # format incoming data\n",
    "    df = _df # we want a copy\n",
    "    col_0 = df.columns[0]\n",
    "    df.sort_values(col_0, ascending=False, inplace=True)\n",
    "    portions = df[col_0]\n",
    "    \n",
    "    # compute breakpoints\n",
    "    df[\"breakpoint\"] = [np.sum(portions[:i+1]) for i, _ in enumerate(portions.values)]\n",
    "    \n",
    "    # create place to store output\n",
    "    output = df.index\n",
    "\n",
    "    # use a deterministic PRN\n",
    "    np.random.seed(seed) # default is 10\n",
    "    \n",
    "    # compute the facility determined by the result and the breakpoint\n",
    "    df[\"counts\"] = [0] * len(df)\n",
    "    for i in range(num_facilities):\n",
    "        result = np.random.random()\n",
    "        for kind in df.index:\n",
    "            if result <= df.loc[kind].breakpoint:\n",
    "                df.at[kind,\"counts\"] =  df.at[kind,\"counts\"] + 1\n",
    "                break\n",
    "    return df"
   ]
  },
  {
   "cell_type": "markdown",
   "id": "58d265a8",
   "metadata": {},
   "source": [
    "Change this to alter the number of generators in the simulation"
   ]
  },
  {
   "cell_type": "code",
   "execution_count": 148,
   "id": "f28eb69a",
   "metadata": {},
   "outputs": [],
   "source": [
    "num_generators = 50"
   ]
  },
  {
   "cell_type": "code",
   "execution_count": 149,
   "id": "6143c791",
   "metadata": {},
   "outputs": [
    {
     "name": "stdout",
     "output_type": "stream",
     "text": [
      "Total Capacity (nominal) of 50 Generators: 5617.0 MW\n"
     ]
    },
    {
     "data": {
      "text/html": [
       "<div>\n",
       "<style scoped>\n",
       "    .dataframe tbody tr th:only-of-type {\n",
       "        vertical-align: middle;\n",
       "    }\n",
       "\n",
       "    .dataframe tbody tr th {\n",
       "        vertical-align: top;\n",
       "    }\n",
       "\n",
       "    .dataframe thead th {\n",
       "        text-align: right;\n",
       "    }\n",
       "</style>\n",
       "<table border=\"1\" class=\"dataframe\">\n",
       "  <thead>\n",
       "    <tr style=\"text-align: right;\">\n",
       "      <th>type</th>\n",
       "      <th>hydroelectric</th>\n",
       "      <th>utility-scale solar</th>\n",
       "      <th>natural gas-fired</th>\n",
       "      <th>land-based wind</th>\n",
       "      <th>nuclear</th>\n",
       "      <th>petroleum-fired</th>\n",
       "      <th>distributed solar</th>\n",
       "      <th>offshore wind</th>\n",
       "    </tr>\n",
       "  </thead>\n",
       "  <tbody>\n",
       "    <tr>\n",
       "      <th>counts</th>\n",
       "      <td>16.0</td>\n",
       "      <td>12.0</td>\n",
       "      <td>13.0</td>\n",
       "      <td>8.0</td>\n",
       "      <td>1.0</td>\n",
       "      <td>0.0</td>\n",
       "      <td>0.00000</td>\n",
       "      <td>0.0</td>\n",
       "    </tr>\n",
       "    <tr>\n",
       "      <th>capacity_mw</th>\n",
       "      <td>140.0</td>\n",
       "      <td>56.0</td>\n",
       "      <td>98.0</td>\n",
       "      <td>57.0</td>\n",
       "      <td>975.0</td>\n",
       "      <td>259.2</td>\n",
       "      <td>0.00625</td>\n",
       "      <td>57.0</td>\n",
       "    </tr>\n",
       "    <tr>\n",
       "      <th>total_output</th>\n",
       "      <td>2240.0</td>\n",
       "      <td>672.0</td>\n",
       "      <td>1274.0</td>\n",
       "      <td>456.0</td>\n",
       "      <td>975.0</td>\n",
       "      <td>0.0</td>\n",
       "      <td>0.00000</td>\n",
       "      <td>0.0</td>\n",
       "    </tr>\n",
       "  </tbody>\n",
       "</table>\n",
       "</div>"
      ],
      "text/plain": [
       "type          hydroelectric  utility-scale solar  natural gas-fired  \\\n",
       "counts                 16.0                 12.0               13.0   \n",
       "capacity_mw           140.0                 56.0               98.0   \n",
       "total_output         2240.0                672.0             1274.0   \n",
       "\n",
       "type          land-based wind  nuclear  petroleum-fired  distributed solar  \\\n",
       "counts                    8.0      1.0              0.0            0.00000   \n",
       "capacity_mw              57.0    975.0            259.2            0.00625   \n",
       "total_output            456.0    975.0              0.0            0.00000   \n",
       "\n",
       "type          offshore wind  \n",
       "counts                  0.0  \n",
       "capacity_mw            57.0  \n",
       "total_output            0.0  "
      ]
     },
     "execution_count": 149,
     "metadata": {},
     "output_type": "execute_result"
    }
   ],
   "source": [
    "gen_to_instantiate = getRandFacility(future_facil_portions, num_generators) # set above\n",
    "gen_to_instantiate = pd.concat([gen_to_instantiate, avg_gen], axis=1)\n",
    "gen_to_instantiate.at[\"offshore wind\", \"capacity_mw\"] = gen_to_instantiate.at[\"land-based wind\", \"capacity_mw\"]\n",
    "#  home solar outout = 250 W per panel * 25 panels / 1000000 W per MW\n",
    "gen_to_instantiate.at[\"distributed solar\", \"capacity_mw\"] = ((250 * 25) / 10**6)\n",
    "gen_to_instantiate[\"total_output\"] = gen_to_instantiate[\"counts\"] * gen_to_instantiate[\"capacity_mw\"]\n",
    "\n",
    "print(\"Total Capacity (nominal) of {} Generators: {} MW\".format(num_generators, gen_to_instantiate.total_output.sum()))\n",
    "gen_to_instantiate.drop([\"2030_portions\",\"breakpoint\"],axis=1).T"
   ]
  },
  {
   "cell_type": "markdown",
   "id": "84abfe3d",
   "metadata": {},
   "source": [
    "https://www.cnet.com/home/energy-and-utilities/find-out-how-many-solar-panels-you-need-to-power-your-house/"
   ]
  },
  {
   "cell_type": "markdown",
   "id": "714c6334",
   "metadata": {},
   "source": [
    "Let's investigate the output visually."
   ]
  },
  {
   "cell_type": "code",
   "execution_count": 150,
   "id": "4ebde166",
   "metadata": {
    "scrolled": false
   },
   "outputs": [
    {
     "name": "stdout",
     "output_type": "stream",
     "text": [
      "total generation facilities: 50\n",
      "total generation capacity:   5617 MW\n"
     ]
    },
    {
     "data": {
      "image/png": "[encoded data removed]",
      "text/plain": [
       "<Figure size 825x440 with 2 Axes>"
      ]
     },
     "metadata": {
      "needs_background": "light"
     },
     "output_type": "display_data"
    }
   ],
   "source": [
    "from matplotlib.ticker import MaxNLocator\n",
    "\n",
    "fig, (ax1, ax2) = plt.subplots(1, 2, figsize=(7.5,4), dpi=110)\n",
    "fig.suptitle('Trial Energy Mix: Facility Count and Output (MW)')\n",
    "\n",
    "_index = gen_to_instantiate.index\n",
    "\n",
    "ax1.bar(_index, gen_to_instantiate.counts.astype(int), color=colors.color[_index].values)\n",
    "ax1.yaxis.set_major_locator(MaxNLocator(integer=True))\n",
    "ax1.set_ylabel(\"number of facilties\")\n",
    "ax1.tick_params(axis='x', labelrotation=90)\n",
    "\n",
    "ax2.set_ylabel(\"total output (MW)\")\n",
    "ax2.bar(_index, gen_to_instantiate.total_output, color=colors.color[_index].values)\n",
    "ax2.tick_params(axis='x', labelrotation=90)\n",
    "\n",
    "print(\"total generation facilities: {}\".format(gen_to_instantiate.counts.sum()))\n",
    "print(\"total generation capacity:   {:.0f} MW\".format(gen_to_instantiate.total_output.sum()))\n",
    "\n",
    "plt.tight_layout()\n",
    "plt.show()"
   ]
  },
  {
   "cell_type": "markdown",
   "id": "c33f04c2",
   "metadata": {},
   "source": [
    "Now we need to take this and output a config file or series of config files to be instantiated on emulab"
   ]
  },
  {
   "cell_type": "code",
   "execution_count": 151,
   "id": "3840f4e4",
   "metadata": {},
   "outputs": [
    {
     "name": "stdout",
     "output_type": "stream",
     "text": [
      "\n",
      "Config files will include:\n",
      "    - 50 generators sharded across 1 hosts\n",
      "    - Each host will be responsible for ~5617.00 MW\n",
      "    - For a total of 5617.0 MW of generation capacity\n",
      "\n",
      "\n",
      "Generation to allocate\n",
      "---------\n",
      "                     counts  capacity_mw  total_output\n",
      "type                                                  \n",
      "nuclear                   1    975.00000         975.0\n",
      "petroleum-fired           0    259.20000           0.0\n",
      "hydroelectric            16    140.00000        2240.0\n",
      "natural gas-fired        13     98.00000        1274.0\n",
      "land-based wind           8     57.00000         456.0\n",
      "offshore wind             0     57.00000           0.0\n",
      "utility-scale solar      12     56.00000         672.0\n",
      "distributed solar         0      0.00625           0.0\n",
      "---------\n",
      "\n",
      "\n",
      "Host 1\n",
      "---------\n",
      "                     counts  capacity_mw  total_output\n",
      "type                                                  \n",
      "nuclear                   1    975.00000         975.0\n",
      "petroleum-fired           0    259.20000           0.0\n",
      "hydroelectric            16    140.00000        2240.0\n",
      "natural gas-fired        13     98.00000        1274.0\n",
      "land-based wind           8     57.00000         456.0\n",
      "offshore wind             0     57.00000           0.0\n",
      "utility-scale solar      12     56.00000         672.0\n",
      "distributed solar         0      0.00625           0.0\n",
      "---------\n",
      "\n",
      "Host allocation summary\n",
      "---------\n",
      "Host 1:\n",
      "    - Facilities 50\n",
      "    - Capacity   5617.0 MW\n",
      "=========\n",
      "Simulation total:\n",
      "    - Facilities 50\n",
      "    - Capacity   5617.0 MW\n",
      "---------\n"
     ]
    }
   ],
   "source": [
    "def FormatGenConfigFiles(frame, num_hosts=1):\n",
    "    \"\"\"Takes two arguments a dataframe of the number of facilities\n",
    "    and the number of config files you'd like to generate (one for each host).\n",
    "    \"\"\"\n",
    "    columns = ['counts','capacity_mw','total_output']\n",
    "    df = frame[columns] # make a copy\n",
    "    # to load balance the trackers we should allocate a roughly even total_output to each tracker\n",
    "    sorted_df = df.sort_values('capacity_mw', ascending=False)\n",
    "#     print(sorted_df)\n",
    "    \n",
    "    capacity_per_host = df['total_output'].sum() / num_hosts\n",
    "    print()\n",
    "    print(\"Config files will include:\")\n",
    "    print(\"    - {} generators sharded across {} hosts\".format(df['counts'].sum(), num_hosts))\n",
    "    print(\"    - Each host will be responsible for ~{:.2f} MW\".format(capacity_per_host))\n",
    "    print(\"    - For a total of {} MW of generation capacity\".format(df['total_output'].sum()))    \n",
    "    print()\n",
    "    \n",
    "    facil_remaining = sorted_df.copy()\n",
    "    print(\"\\nGeneration to allocate\")\n",
    "    print(\"---------\")\n",
    "    print(facil_remaining)\n",
    "    print(\"---------\")\n",
    "#     print(pd.DataFrame(facil_remaining.sum(),columns=['Total']).set_index('Total',inplace=True).T)\n",
    "#     print(\"---------\")\n",
    "\n",
    "    # copy df and reset mutable values to zero \n",
    "    initial_df = sorted_df.copy()\n",
    "    initial_df['counts'] = 0\n",
    "    initial_df['total_output'] = 0\n",
    "    \n",
    "    # create a list containing a dataframe for each host.\n",
    "    host_responsibilities = [initial_df.copy() for i in range(num_hosts)]\n",
    "    \n",
    "    # iterate through the kinds of facilities,\n",
    "    # starting with the ones with the highest output\n",
    "    print()\n",
    "    for kind in facil_remaining.index:\n",
    "#         print(\"There were {} {} generators, \".format(facil_remaining.at[kind,\"counts\"], kind), end='')\n",
    "        while (facil_remaining.at[kind,\"counts\"] > 0):\n",
    "            for i in range(num_hosts):\n",
    "                host_responsibilities[i].at[kind,\"counts\"] += 1\n",
    "#                 print(host_responsibilities[i].at[kind,\"counts\"], end=\" \")\n",
    "#                 print(facil_remaining.at[kind,\"counts\"])\n",
    "                facil_remaining.at[kind,\"counts\"] -= 1\n",
    "                if (facil_remaining.at[kind,\"counts\"] == 0): break\n",
    "#         print(\"now there are {} {} generators\".format(facil_remaining.at[kind,\"counts\"], kind))\n",
    "\n",
    "    for i, host in enumerate(host_responsibilities):\n",
    "        host_responsibilities[i]['total_output'] = host_responsibilities[i]['counts'] * host_responsibilities[i]['capacity_mw']\n",
    "        print(\"\\nHost {}\".format(i+1))\n",
    "        print(\"---------\")\n",
    "        print(host)\n",
    "    \n",
    "    return host_responsibilities\n",
    "    \n",
    "host_configs = FormatGenConfigFiles(gen_to_instantiate, num_hosts=1)\n",
    "host_configs\n",
    "\n",
    "host_facils = 0\n",
    "host_output = 0\n",
    "\n",
    "print(\"---------\")\n",
    "print(\"\\nHost allocation summary\")\n",
    "print(\"---------\")\n",
    "for i, h in enumerate(host_configs):\n",
    "    host_facils += h.counts.sum()\n",
    "    host_output += h.total_output.sum()\n",
    "    print(\"Host {}:\".format(i+1))\n",
    "    print(\"    - Facilities {}\".format(h.counts.sum()))\n",
    "    print(\"    - Capacity   {} MW\".format(h.total_output.sum()))\n",
    "print(\"=========\")\n",
    "print(\"Simulation total:\")\n",
    "print(\"    - Facilities {}\".format(host_facils))\n",
    "print(\"    - Capacity   {} MW\".format(host_output))\n",
    "print(\"---------\")\n",
    "\n",
    "# print()\n",
    "# print(\"resulting facilities: {}\".format(host_facils))\n",
    "# print(\"resulting output:     {} MW\".format(host_output))"
   ]
  },
  {
   "cell_type": "markdown",
   "id": "c8998fff",
   "metadata": {},
   "source": [
    "Next we need to take this and generate a config file...\n",
    "***\n",
    "### Writing Config Files\n",
    "Let's write each dataframe to a CSV and try loading it from a standalone program."
   ]
  },
  {
   "cell_type": "code",
   "execution_count": 152,
   "id": "7b316267",
   "metadata": {},
   "outputs": [],
   "source": [
    "for i, h in enumerate(host_configs):\n",
    "    path = 'simulation_config/2030_energy_mix/host_configs/host_config_{}.csv'.format(i+1)\n",
    "    h.to_csv(path)"
   ]
  },
  {
   "cell_type": "markdown",
   "id": "150147a3",
   "metadata": {},
   "source": [
    "### Loading from config & adding address\n",
    "When the generator bootstraps it will need to provide its **IP address** and the **port** it would like to be contacted at.\n",
    "\n",
    "We'll load the `generator`s from config folder."
   ]
  },
  {
   "cell_type": "code",
   "execution_count": 153,
   "id": "b9486d8c",
   "metadata": {},
   "outputs": [
    {
     "data": {
      "text/plain": [
       "['host_config_1.csv']"
      ]
     },
     "execution_count": 153,
     "metadata": {},
     "output_type": "execute_result"
    }
   ],
   "source": [
    "import os\n",
    "\n",
    "config_path = 'simulation_config/2030_energy_mix/host_configs/'\n",
    "config_files = [f for f in os.listdir(config_path) if os.path.isfile(os.path.join(config_path, f))]\n",
    "config_files"
   ]
  },
  {
   "cell_type": "code",
   "execution_count": 154,
   "id": "ee6d1ea4",
   "metadata": {},
   "outputs": [
    {
     "name": "stdout",
     "output_type": "stream",
     "text": [
      "                     counts  capacity_mw  total_output\n",
      "type                                                  \n",
      "nuclear                   1    975.00000         975.0\n",
      "petroleum-fired           0    259.20000           0.0\n",
      "hydroelectric            16    140.00000        2240.0\n",
      "natural gas-fired        13     98.00000        1274.0\n",
      "land-based wind           8     57.00000         456.0\n",
      "offshore wind             0     57.00000           0.0\n",
      "utility-scale solar      12     56.00000         672.0\n",
      "distributed solar         0      0.00625           0.0\n"
     ]
    }
   ],
   "source": [
    "config_from_disk = []\n",
    "for file in config_files:\n",
    "    full_path = os.path.join(config_path, file)\n",
    "    print(pd.read_csv(os.path.join(config_path, file)).set_index('type'))"
   ]
  },
  {
   "cell_type": "code",
   "execution_count": 155,
   "id": "ad1a3cdc",
   "metadata": {},
   "outputs": [],
   "source": [
    "def MakeGenInstances(ref_df, starting_port=32000, latency_best_case=10, latency_worst_case=100):\n",
    "    \"\"\"takes a data frame of counts and capacities,\n",
    "    returns a dataframe with IP addresses and ports.\n",
    "    \n",
    "    Latency is in ms\n",
    "    \"\"\"\n",
    "    import socket\n",
    "    ip_addr = socket.gethostbyname(socket.gethostname())\n",
    "    \n",
    "    num_rows = ref_df['counts'].sum()\n",
    "    \n",
    "    # intialize a empty dataframe\n",
    "    _df = pd.DataFrame()\n",
    "    gen_types = []\n",
    "    gen_capacity = []\n",
    "    for kind in ref_df.index:\n",
    "        for i in range(int(ref_df.at[kind, 'counts'])):\n",
    "            gen_types.append(kind)\n",
    "            gen_capacity.append(ref_df.at[kind, 'capacity_mw'])\n",
    "    _df['type'] = gen_types\n",
    "    _df['capacity_mw'] = gen_capacity\n",
    "    \n",
    "    # assign IP and ports to each generator\n",
    "    _df['addr'] = [\"{}:{}\".format(ip_addr, starting_port+i) for i in range(num_rows)]\n",
    "    # add a latency from 10 ms to 100 ms (uniformly distributed)\n",
    "    _df['rtt'] = np.random.randint(latency_best_case, latency_worst_case+1, num_rows)\n",
    "    \n",
    "    return _df\n",
    "\n",
    "gen_instance_settings = MakeGenInstances(pd.read_csv(os.path.join(config_path, config_files[0])).set_index('type'),\n",
    "                 starting_port=32000)"
   ]
  },
  {
   "cell_type": "markdown",
   "id": "0f4bc1de",
   "metadata": {},
   "source": [
    "__12/6/2022 21:22__\n",
    "\n",
    "At this point I'm able to generate all the necessary metadata to instantiate all generators on a host\n",
    "\n",
    "__TODO:__\n",
    "- move to seperate client program. \n",
    "- have that client program launch instances of a generatorRPC clients\n",
    "- have those instances request hashes"
   ]
  },
  {
   "cell_type": "markdown",
   "id": "24142fac",
   "metadata": {},
   "source": [
    "Let's templatize the writing of a bashscript. Then modify the access priviledges of the file."
   ]
  },
  {
   "cell_type": "code",
   "execution_count": 156,
   "id": "59995ee9",
   "metadata": {},
   "outputs": [],
   "source": [
    "import subprocess"
   ]
  },
  {
   "cell_type": "code",
   "execution_count": 157,
   "id": "33cf140f",
   "metadata": {},
   "outputs": [],
   "source": [
    "def AppendLine(s, line):\n",
    "    \"\"\"takes a base string, s, and appends line on a newline\"\"\"\n",
    "    return \"{}\\n{}\".format(s,line)"
   ]
  },
  {
   "cell_type": "code",
   "execution_count": 158,
   "id": "b71b86c1",
   "metadata": {},
   "outputs": [
    {
     "data": {
      "text/html": [
       "<div>\n",
       "<style scoped>\n",
       "    .dataframe tbody tr th:only-of-type {\n",
       "        vertical-align: middle;\n",
       "    }\n",
       "\n",
       "    .dataframe tbody tr th {\n",
       "        vertical-align: top;\n",
       "    }\n",
       "\n",
       "    .dataframe thead th {\n",
       "        text-align: right;\n",
       "    }\n",
       "</style>\n",
       "<table border=\"1\" class=\"dataframe\">\n",
       "  <thead>\n",
       "    <tr style=\"text-align: right;\">\n",
       "      <th></th>\n",
       "      <th>type</th>\n",
       "      <th>capacity_mw</th>\n",
       "      <th>addr</th>\n",
       "      <th>rtt</th>\n",
       "    </tr>\n",
       "  </thead>\n",
       "  <tbody>\n",
       "    <tr>\n",
       "      <th>0</th>\n",
       "      <td>nuclear</td>\n",
       "      <td>975.0</td>\n",
       "      <td>10.9.57.21:32000</td>\n",
       "      <td>16</td>\n",
       "    </tr>\n",
       "    <tr>\n",
       "      <th>1</th>\n",
       "      <td>hydroelectric</td>\n",
       "      <td>140.0</td>\n",
       "      <td>10.9.57.21:32001</td>\n",
       "      <td>95</td>\n",
       "    </tr>\n",
       "    <tr>\n",
       "      <th>2</th>\n",
       "      <td>hydroelectric</td>\n",
       "      <td>140.0</td>\n",
       "      <td>10.9.57.21:32002</td>\n",
       "      <td>32</td>\n",
       "    </tr>\n",
       "    <tr>\n",
       "      <th>3</th>\n",
       "      <td>hydroelectric</td>\n",
       "      <td>140.0</td>\n",
       "      <td>10.9.57.21:32003</td>\n",
       "      <td>21</td>\n",
       "    </tr>\n",
       "    <tr>\n",
       "      <th>4</th>\n",
       "      <td>hydroelectric</td>\n",
       "      <td>140.0</td>\n",
       "      <td>10.9.57.21:32004</td>\n",
       "      <td>22</td>\n",
       "    </tr>\n",
       "    <tr>\n",
       "      <th>5</th>\n",
       "      <td>hydroelectric</td>\n",
       "      <td>140.0</td>\n",
       "      <td>10.9.57.21:32005</td>\n",
       "      <td>72</td>\n",
       "    </tr>\n",
       "    <tr>\n",
       "      <th>6</th>\n",
       "      <td>hydroelectric</td>\n",
       "      <td>140.0</td>\n",
       "      <td>10.9.57.21:32006</td>\n",
       "      <td>67</td>\n",
       "    </tr>\n",
       "    <tr>\n",
       "      <th>7</th>\n",
       "      <td>hydroelectric</td>\n",
       "      <td>140.0</td>\n",
       "      <td>10.9.57.21:32007</td>\n",
       "      <td>89</td>\n",
       "    </tr>\n",
       "    <tr>\n",
       "      <th>8</th>\n",
       "      <td>hydroelectric</td>\n",
       "      <td>140.0</td>\n",
       "      <td>10.9.57.21:32008</td>\n",
       "      <td>52</td>\n",
       "    </tr>\n",
       "    <tr>\n",
       "      <th>9</th>\n",
       "      <td>hydroelectric</td>\n",
       "      <td>140.0</td>\n",
       "      <td>10.9.57.21:32009</td>\n",
       "      <td>67</td>\n",
       "    </tr>\n",
       "    <tr>\n",
       "      <th>10</th>\n",
       "      <td>hydroelectric</td>\n",
       "      <td>140.0</td>\n",
       "      <td>10.9.57.21:32010</td>\n",
       "      <td>60</td>\n",
       "    </tr>\n",
       "    <tr>\n",
       "      <th>11</th>\n",
       "      <td>hydroelectric</td>\n",
       "      <td>140.0</td>\n",
       "      <td>10.9.57.21:32011</td>\n",
       "      <td>55</td>\n",
       "    </tr>\n",
       "    <tr>\n",
       "      <th>12</th>\n",
       "      <td>hydroelectric</td>\n",
       "      <td>140.0</td>\n",
       "      <td>10.9.57.21:32012</td>\n",
       "      <td>50</td>\n",
       "    </tr>\n",
       "    <tr>\n",
       "      <th>13</th>\n",
       "      <td>hydroelectric</td>\n",
       "      <td>140.0</td>\n",
       "      <td>10.9.57.21:32013</td>\n",
       "      <td>99</td>\n",
       "    </tr>\n",
       "    <tr>\n",
       "      <th>14</th>\n",
       "      <td>hydroelectric</td>\n",
       "      <td>140.0</td>\n",
       "      <td>10.9.57.21:32014</td>\n",
       "      <td>83</td>\n",
       "    </tr>\n",
       "    <tr>\n",
       "      <th>15</th>\n",
       "      <td>hydroelectric</td>\n",
       "      <td>140.0</td>\n",
       "      <td>10.9.57.21:32015</td>\n",
       "      <td>47</td>\n",
       "    </tr>\n",
       "    <tr>\n",
       "      <th>16</th>\n",
       "      <td>hydroelectric</td>\n",
       "      <td>140.0</td>\n",
       "      <td>10.9.57.21:32016</td>\n",
       "      <td>10</td>\n",
       "    </tr>\n",
       "    <tr>\n",
       "      <th>17</th>\n",
       "      <td>natural gas-fired</td>\n",
       "      <td>98.0</td>\n",
       "      <td>10.9.57.21:32017</td>\n",
       "      <td>28</td>\n",
       "    </tr>\n",
       "    <tr>\n",
       "      <th>18</th>\n",
       "      <td>natural gas-fired</td>\n",
       "      <td>98.0</td>\n",
       "      <td>10.9.57.21:32018</td>\n",
       "      <td>33</td>\n",
       "    </tr>\n",
       "    <tr>\n",
       "      <th>19</th>\n",
       "      <td>natural gas-fired</td>\n",
       "      <td>98.0</td>\n",
       "      <td>10.9.57.21:32019</td>\n",
       "      <td>13</td>\n",
       "    </tr>\n",
       "    <tr>\n",
       "      <th>20</th>\n",
       "      <td>natural gas-fired</td>\n",
       "      <td>98.0</td>\n",
       "      <td>10.9.57.21:32020</td>\n",
       "      <td>39</td>\n",
       "    </tr>\n",
       "    <tr>\n",
       "      <th>21</th>\n",
       "      <td>natural gas-fired</td>\n",
       "      <td>98.0</td>\n",
       "      <td>10.9.57.21:32021</td>\n",
       "      <td>26</td>\n",
       "    </tr>\n",
       "    <tr>\n",
       "      <th>22</th>\n",
       "      <td>natural gas-fired</td>\n",
       "      <td>98.0</td>\n",
       "      <td>10.9.57.21:32022</td>\n",
       "      <td>94</td>\n",
       "    </tr>\n",
       "    <tr>\n",
       "      <th>23</th>\n",
       "      <td>natural gas-fired</td>\n",
       "      <td>98.0</td>\n",
       "      <td>10.9.57.21:32023</td>\n",
       "      <td>92</td>\n",
       "    </tr>\n",
       "    <tr>\n",
       "      <th>24</th>\n",
       "      <td>natural gas-fired</td>\n",
       "      <td>98.0</td>\n",
       "      <td>10.9.57.21:32024</td>\n",
       "      <td>24</td>\n",
       "    </tr>\n",
       "    <tr>\n",
       "      <th>25</th>\n",
       "      <td>natural gas-fired</td>\n",
       "      <td>98.0</td>\n",
       "      <td>10.9.57.21:32025</td>\n",
       "      <td>61</td>\n",
       "    </tr>\n",
       "    <tr>\n",
       "      <th>26</th>\n",
       "      <td>natural gas-fired</td>\n",
       "      <td>98.0</td>\n",
       "      <td>10.9.57.21:32026</td>\n",
       "      <td>89</td>\n",
       "    </tr>\n",
       "    <tr>\n",
       "      <th>27</th>\n",
       "      <td>natural gas-fired</td>\n",
       "      <td>98.0</td>\n",
       "      <td>10.9.57.21:32027</td>\n",
       "      <td>27</td>\n",
       "    </tr>\n",
       "    <tr>\n",
       "      <th>28</th>\n",
       "      <td>natural gas-fired</td>\n",
       "      <td>98.0</td>\n",
       "      <td>10.9.57.21:32028</td>\n",
       "      <td>60</td>\n",
       "    </tr>\n",
       "    <tr>\n",
       "      <th>29</th>\n",
       "      <td>natural gas-fired</td>\n",
       "      <td>98.0</td>\n",
       "      <td>10.9.57.21:32029</td>\n",
       "      <td>63</td>\n",
       "    </tr>\n",
       "    <tr>\n",
       "      <th>30</th>\n",
       "      <td>land-based wind</td>\n",
       "      <td>57.0</td>\n",
       "      <td>10.9.57.21:32030</td>\n",
       "      <td>35</td>\n",
       "    </tr>\n",
       "    <tr>\n",
       "      <th>31</th>\n",
       "      <td>land-based wind</td>\n",
       "      <td>57.0</td>\n",
       "      <td>10.9.57.21:32031</td>\n",
       "      <td>58</td>\n",
       "    </tr>\n",
       "    <tr>\n",
       "      <th>32</th>\n",
       "      <td>land-based wind</td>\n",
       "      <td>57.0</td>\n",
       "      <td>10.9.57.21:32032</td>\n",
       "      <td>27</td>\n",
       "    </tr>\n",
       "    <tr>\n",
       "      <th>33</th>\n",
       "      <td>land-based wind</td>\n",
       "      <td>57.0</td>\n",
       "      <td>10.9.57.21:32033</td>\n",
       "      <td>42</td>\n",
       "    </tr>\n",
       "    <tr>\n",
       "      <th>34</th>\n",
       "      <td>land-based wind</td>\n",
       "      <td>57.0</td>\n",
       "      <td>10.9.57.21:32034</td>\n",
       "      <td>91</td>\n",
       "    </tr>\n",
       "    <tr>\n",
       "      <th>35</th>\n",
       "      <td>land-based wind</td>\n",
       "      <td>57.0</td>\n",
       "      <td>10.9.57.21:32035</td>\n",
       "      <td>90</td>\n",
       "    </tr>\n",
       "    <tr>\n",
       "      <th>36</th>\n",
       "      <td>land-based wind</td>\n",
       "      <td>57.0</td>\n",
       "      <td>10.9.57.21:32036</td>\n",
       "      <td>51</td>\n",
       "    </tr>\n",
       "    <tr>\n",
       "      <th>37</th>\n",
       "      <td>land-based wind</td>\n",
       "      <td>57.0</td>\n",
       "      <td>10.9.57.21:32037</td>\n",
       "      <td>100</td>\n",
       "    </tr>\n",
       "    <tr>\n",
       "      <th>38</th>\n",
       "      <td>utility-scale solar</td>\n",
       "      <td>56.0</td>\n",
       "      <td>10.9.57.21:32038</td>\n",
       "      <td>22</td>\n",
       "    </tr>\n",
       "    <tr>\n",
       "      <th>39</th>\n",
       "      <td>utility-scale solar</td>\n",
       "      <td>56.0</td>\n",
       "      <td>10.9.57.21:32039</td>\n",
       "      <td>40</td>\n",
       "    </tr>\n",
       "    <tr>\n",
       "      <th>40</th>\n",
       "      <td>utility-scale solar</td>\n",
       "      <td>56.0</td>\n",
       "      <td>10.9.57.21:32040</td>\n",
       "      <td>91</td>\n",
       "    </tr>\n",
       "    <tr>\n",
       "      <th>41</th>\n",
       "      <td>utility-scale solar</td>\n",
       "      <td>56.0</td>\n",
       "      <td>10.9.57.21:32041</td>\n",
       "      <td>27</td>\n",
       "    </tr>\n",
       "    <tr>\n",
       "      <th>42</th>\n",
       "      <td>utility-scale solar</td>\n",
       "      <td>56.0</td>\n",
       "      <td>10.9.57.21:32042</td>\n",
       "      <td>26</td>\n",
       "    </tr>\n",
       "    <tr>\n",
       "      <th>43</th>\n",
       "      <td>utility-scale solar</td>\n",
       "      <td>56.0</td>\n",
       "      <td>10.9.57.21:32043</td>\n",
       "      <td>10</td>\n",
       "    </tr>\n",
       "    <tr>\n",
       "      <th>44</th>\n",
       "      <td>utility-scale solar</td>\n",
       "      <td>56.0</td>\n",
       "      <td>10.9.57.21:32044</td>\n",
       "      <td>41</td>\n",
       "    </tr>\n",
       "    <tr>\n",
       "      <th>45</th>\n",
       "      <td>utility-scale solar</td>\n",
       "      <td>56.0</td>\n",
       "      <td>10.9.57.21:32045</td>\n",
       "      <td>83</td>\n",
       "    </tr>\n",
       "    <tr>\n",
       "      <th>46</th>\n",
       "      <td>utility-scale solar</td>\n",
       "      <td>56.0</td>\n",
       "      <td>10.9.57.21:32046</td>\n",
       "      <td>74</td>\n",
       "    </tr>\n",
       "    <tr>\n",
       "      <th>47</th>\n",
       "      <td>utility-scale solar</td>\n",
       "      <td>56.0</td>\n",
       "      <td>10.9.57.21:32047</td>\n",
       "      <td>48</td>\n",
       "    </tr>\n",
       "    <tr>\n",
       "      <th>48</th>\n",
       "      <td>utility-scale solar</td>\n",
       "      <td>56.0</td>\n",
       "      <td>10.9.57.21:32048</td>\n",
       "      <td>32</td>\n",
       "    </tr>\n",
       "    <tr>\n",
       "      <th>49</th>\n",
       "      <td>utility-scale solar</td>\n",
       "      <td>56.0</td>\n",
       "      <td>10.9.57.21:32049</td>\n",
       "      <td>76</td>\n",
       "    </tr>\n",
       "  </tbody>\n",
       "</table>\n",
       "</div>"
      ],
      "text/plain": [
       "                   type  capacity_mw              addr  rtt\n",
       "0               nuclear        975.0  10.9.57.21:32000   16\n",
       "1         hydroelectric        140.0  10.9.57.21:32001   95\n",
       "2         hydroelectric        140.0  10.9.57.21:32002   32\n",
       "3         hydroelectric        140.0  10.9.57.21:32003   21\n",
       "4         hydroelectric        140.0  10.9.57.21:32004   22\n",
       "5         hydroelectric        140.0  10.9.57.21:32005   72\n",
       "6         hydroelectric        140.0  10.9.57.21:32006   67\n",
       "7         hydroelectric        140.0  10.9.57.21:32007   89\n",
       "8         hydroelectric        140.0  10.9.57.21:32008   52\n",
       "9         hydroelectric        140.0  10.9.57.21:32009   67\n",
       "10        hydroelectric        140.0  10.9.57.21:32010   60\n",
       "11        hydroelectric        140.0  10.9.57.21:32011   55\n",
       "12        hydroelectric        140.0  10.9.57.21:32012   50\n",
       "13        hydroelectric        140.0  10.9.57.21:32013   99\n",
       "14        hydroelectric        140.0  10.9.57.21:32014   83\n",
       "15        hydroelectric        140.0  10.9.57.21:32015   47\n",
       "16        hydroelectric        140.0  10.9.57.21:32016   10\n",
       "17    natural gas-fired         98.0  10.9.57.21:32017   28\n",
       "18    natural gas-fired         98.0  10.9.57.21:32018   33\n",
       "19    natural gas-fired         98.0  10.9.57.21:32019   13\n",
       "20    natural gas-fired         98.0  10.9.57.21:32020   39\n",
       "21    natural gas-fired         98.0  10.9.57.21:32021   26\n",
       "22    natural gas-fired         98.0  10.9.57.21:32022   94\n",
       "23    natural gas-fired         98.0  10.9.57.21:32023   92\n",
       "24    natural gas-fired         98.0  10.9.57.21:32024   24\n",
       "25    natural gas-fired         98.0  10.9.57.21:32025   61\n",
       "26    natural gas-fired         98.0  10.9.57.21:32026   89\n",
       "27    natural gas-fired         98.0  10.9.57.21:32027   27\n",
       "28    natural gas-fired         98.0  10.9.57.21:32028   60\n",
       "29    natural gas-fired         98.0  10.9.57.21:32029   63\n",
       "30      land-based wind         57.0  10.9.57.21:32030   35\n",
       "31      land-based wind         57.0  10.9.57.21:32031   58\n",
       "32      land-based wind         57.0  10.9.57.21:32032   27\n",
       "33      land-based wind         57.0  10.9.57.21:32033   42\n",
       "34      land-based wind         57.0  10.9.57.21:32034   91\n",
       "35      land-based wind         57.0  10.9.57.21:32035   90\n",
       "36      land-based wind         57.0  10.9.57.21:32036   51\n",
       "37      land-based wind         57.0  10.9.57.21:32037  100\n",
       "38  utility-scale solar         56.0  10.9.57.21:32038   22\n",
       "39  utility-scale solar         56.0  10.9.57.21:32039   40\n",
       "40  utility-scale solar         56.0  10.9.57.21:32040   91\n",
       "41  utility-scale solar         56.0  10.9.57.21:32041   27\n",
       "42  utility-scale solar         56.0  10.9.57.21:32042   26\n",
       "43  utility-scale solar         56.0  10.9.57.21:32043   10\n",
       "44  utility-scale solar         56.0  10.9.57.21:32044   41\n",
       "45  utility-scale solar         56.0  10.9.57.21:32045   83\n",
       "46  utility-scale solar         56.0  10.9.57.21:32046   74\n",
       "47  utility-scale solar         56.0  10.9.57.21:32047   48\n",
       "48  utility-scale solar         56.0  10.9.57.21:32048   32\n",
       "49  utility-scale solar         56.0  10.9.57.21:32049   76"
      ]
     },
     "execution_count": 158,
     "metadata": {},
     "output_type": "execute_result"
    }
   ],
   "source": [
    "gen_instance_settings"
   ]
  },
  {
   "cell_type": "code",
   "execution_count": 159,
   "id": "d3302416",
   "metadata": {},
   "outputs": [],
   "source": [
    "def FrameToGeneratorLaunchScript(_df):\n",
    "    \"\"\"takes a data frame of generator data and generates\n",
    "    rows than can launch a generator client.\n",
    "    \"\"\"\n",
    "    generators = []\n",
    "    dest_addr = 'localhost:50051'\n",
    "    for i in _df.index:\n",
    "        line = \"python generator.py '{}' '{}' {} {} '{}'\".format(\n",
    "            _df.at[i,\"addr\"],\n",
    "            dest_addr,\n",
    "            _df.at[i,\"rtt\"],\n",
    "            _df.at[i,\"capacity_mw\"],\n",
    "            _df.at[i,\"type\"])\n",
    "        generators.append(line)\n",
    "    return generators"
   ]
  },
  {
   "cell_type": "code",
   "execution_count": 160,
   "id": "cb596575",
   "metadata": {},
   "outputs": [
    {
     "name": "stdout",
     "output_type": "stream",
     "text": [
      "#!/usr/bin/env bash \n",
      "\n",
      "python generator.py '10.9.57.21:32000' 'localhost:50051' 16 975.0 'nuclear'\n",
      "python generator.py '10.9.57.21:32001' 'localhost:50051' 95 140.0 'hydroelectric'\n",
      "python generator.py '10.9.57.21:32002' 'localhost:50051' 32 140.0 'hydroelectric'\n",
      "python generator.py '10.9.57.21:32003' 'localhost:50051' 21 140.0 'hydroelectric'\n",
      "python generator.py '10.9.57.21:32004' 'localhost:50051' 22 140.0 'hydroelectric'\n",
      "python generator.py '10.9.57.21:32005' 'localhost:50051' 72 140.0 'hydroelectric'\n",
      "python generator.py '10.9.57.21:32006' 'localhost:50051' 67 140.0 'hydroelectric'\n",
      "python generator.py '10.9.57.21:32007' 'localhost:50051' 89 140.0 'hydroelectric'\n",
      "python generator.py '10.9.57.21:32008' 'localhost:50051' 52 140.0 'hydroelectric'\n",
      "python generator.py '10.9.57.21:32009' 'localhost:50051' 67 140.0 'hydroelectric'\n",
      "python generator.py '10.9.57.21:32010' 'localhost:50051' 60 140.0 'hydroelectric'\n",
      "python generator.py '10.9.57.21:32011' 'localhost:50051' 55 140.0 'hydroelectric'\n"
     ]
    },
    {
     "data": {
      "text/plain": [
       "CompletedProcess(args=['cat', 'simulation_config/2030_energy_mix/launch_generators.sh'], returncode=0)"
      ]
     },
     "execution_count": 160,
     "metadata": {},
     "output_type": "execute_result"
    },
    {
     "name": "stdout",
     "output_type": "stream",
     "text": [
      "python generator.py '10.9.57.21:32012' 'localhost:50051' 50 140.0 'hydroelectric'\n",
      "python generator.py '10.9.57.21:32013' 'localhost:50051' 99 140.0 'hydroelectric'\n",
      "python generator.py '10.9.57.21:32014' 'localhost:50051' 83 140.0 'hydroelectric'\n",
      "python generator.py '10.9.57.21:32015' 'localhost:50051' 47 140.0 'hydroelectric'\n",
      "python generator.py '10.9.57.21:32016' 'localhost:50051' 10 140.0 'hydroelectric'\n",
      "python generator.py '10.9.57.21:32017' 'localhost:50051' 28 98.0 'natural gas-fired'\n",
      "python generator.py '10.9.57.21:32018' 'localhost:50051' 33 98.0 'natural gas-fired'\n",
      "python generator.py '10.9.57.21:32019' 'localhost:50051' 13 98.0 'natural gas-fired'\n",
      "python generator.py '10.9.57.21:32020' 'localhost:50051' 39 98.0 'natural gas-fired'\n",
      "python generator.py '10.9.57.21:32021' 'localhost:50051' 26 98.0 'natural gas-fired'\n",
      "python generator.py '10.9.57.21:32022' 'localhost:50051' 94 98.0 'natural gas-fired'\n",
      "python generator.py '10.9.57.21:32023' 'localhost:50051' 92 98.0 'natural gas-fired'\n",
      "python generator.py '10.9.57.21:32024' 'localhost:50051' 24 98.0 'natural gas-fired'\n",
      "python generator.py '10.9.57.21:32025' 'localhost:50051' 61 98.0 'natural gas-fired'\n",
      "python generator.py '10.9.57.21:32026' 'localhost:50051' 89 98.0 'natural gas-fired'\n",
      "python generator.py '10.9.57.21:32027' 'localhost:50051' 27 98.0 'natural gas-fired'\n",
      "python generator.py '10.9.57.21:32028' 'localhost:50051' 60 98.0 'natural gas-fired'\n",
      "python generator.py '10.9.57.21:32029' 'localhost:50051' 63 98.0 'natural gas-fired'\n",
      "python generator.py '10.9.57.21:32030' 'localhost:50051' 35 57.0 'land-based wind'\n",
      "python generator.py '10.9.57.21:32031' 'localhost:50051' 58 57.0 'land-based wind'\n",
      "python generator.py '10.9.57.21:32032' 'localhost:50051' 27 57.0 'land-based wind'\n",
      "python generator.py '10.9.57.21:32033' 'localhost:50051' 42 57.0 'land-based wind'\n",
      "python generator.py '10.9.57.21:32034' 'localhost:50051' 91 57.0 'land-based wind'\n",
      "python generator.py '10.9.57.21:32035' 'localhost:50051' 90 57.0 'land-based wind'\n",
      "python generator.py '10.9.57.21:32036' 'localhost:50051' 51 57.0 'land-based wind'\n",
      "python generator.py '10.9.57.21:32037' 'localhost:50051' 100 57.0 'land-based wind'\n",
      "python generator.py '10.9.57.21:32038' 'localhost:50051' 22 56.0 'utility-scale solar'\n",
      "python generator.py '10.9.57.21:32039' 'localhost:50051' 40 56.0 'utility-scale solar'\n",
      "python generator.py '10.9.57.21:32040' 'localhost:50051' 91 56.0 'utility-scale solar'\n",
      "python generator.py '10.9.57.21:32041' 'localhost:50051' 27 56.0 'utility-scale solar'\n",
      "python generator.py '10.9.57.21:32042' 'localhost:50051' 26 56.0 'utility-scale solar'\n",
      "python generator.py '10.9.57.21:32043' 'localhost:50051' 10 56.0 'utility-scale solar'\n",
      "python generator.py '10.9.57.21:32044' 'localhost:50051' 41 56.0 'utility-scale solar'\n",
      "python generator.py '10.9.57.21:32045' 'localhost:50051' 83 56.0 'utility-scale solar'\n",
      "python generator.py '10.9.57.21:32046' 'localhost:50051' 74 56.0 'utility-scale solar'\n",
      "python generator.py '10.9.57.21:32047' 'localhost:50051' 48 56.0 'utility-scale solar'\n",
      "python generator.py '10.9.57.21:32048' 'localhost:50051' 32 56.0 'utility-scale solar'\n",
      "python generator.py '10.9.57.21:32049' 'localhost:50051' 76 56.0 'utility-scale solar'\n",
      "\n",
      "echo ''\n",
      "echo '50 generators instantiated'"
     ]
    }
   ],
   "source": [
    "# for each generator in the trial\n",
    "# we'll instantiate one version of the generator client\n",
    "gen_launcher_path = 'simulation_config/2030_energy_mix/launch_generators.sh'\n",
    "\n",
    "generator_script = \"#!/usr/bin/env bash \\n\" # this will need to be changed for ubuntu\n",
    "\n",
    "lines = FrameToGeneratorLaunchScript(gen_instance_settings)\n",
    "for line in lines:\n",
    "    generator_script = AppendLine(generator_script, line)\n",
    "\n",
    "generator_script = AppendLine(generator_script, \"\\necho ''\")\n",
    "generator_script = AppendLine(generator_script, \"echo '{} generators instantiated'\".format(len(lines)))\n",
    "\n",
    "# write the program\n",
    "with open(gen_launcher_path, 'w') as reader:\n",
    "    reader.write(generator_script)\n",
    "\n",
    "# test it\n",
    "subprocess.run([\"cat\", gen_launcher_path])"
   ]
  },
  {
   "cell_type": "code",
   "execution_count": 121,
   "id": "4a57bd22",
   "metadata": {},
   "outputs": [
    {
     "data": {
      "text/plain": [
       "CompletedProcess(args=['chmod', '+xu', 'simulation_config/2030_energy_mix/launch_generators.sh'], returncode=0)"
      ]
     },
     "execution_count": 121,
     "metadata": {},
     "output_type": "execute_result"
    }
   ],
   "source": [
    "# change it to an executable\n",
    "subprocess.run([\"chmod\", \"+xu\", gen_launcher_path])"
   ]
  },
  {
   "cell_type": "code",
   "execution_count": null,
   "id": "0a4246c4",
   "metadata": {},
   "outputs": [],
   "source": [
    "# test it\n",
    "with open('logs/bootstrap_server.log', 'a') as f:\n",
    "    subprocess.run([\"./{}\".format(gen_launcher_path)], stdout=f)"
   ]
  },
  {
   "cell_type": "code",
   "execution_count": null,
   "id": "306a7892",
   "metadata": {},
   "outputs": [],
   "source": [
    "import time\n",
    "\n",
    "# bootstrap_server_proc = subprocess.Popen([\"python\",\"bootstrap_server.py\"])\n",
    "# time.sleep(15) # ms\n",
    "bootstrap_server_proc.terminate()"
   ]
  },
  {
   "cell_type": "markdown",
   "id": "844d5451",
   "metadata": {},
   "source": [
    "***"
   ]
  },
  {
   "cell_type": "markdown",
   "id": "bbfa3075",
   "metadata": {},
   "source": [
    "Next we'll instantiate our consumers at `Consumer` to `Generator`, **20,000:1**."
   ]
  },
  {
   "cell_type": "code",
   "execution_count": null,
   "id": "d3d85f6e",
   "metadata": {},
   "outputs": [],
   "source": []
  },
  {
   "cell_type": "code",
   "execution_count": null,
   "id": "dcb905ac",
   "metadata": {},
   "outputs": [],
   "source": [
    "num_consumers = round(CTG * num_generators)\n",
    "print(\"Generators: {}\".format(num_generators))\n",
    "print(\"Consumers:  {:,}\".format(num_consumers))"
   ]
  },
  {
   "cell_type": "code",
   "execution_count": null,
   "id": "2bb9a062",
   "metadata": {},
   "outputs": [],
   "source": [
    "def getConsumers(avg_res_consump, _num_consumers, consumers_types=[\"Residential\"]):\n",
    "    \"\"\"returns a dataframe of the instantiation data for the consumers in a given simulation\"\"\"\n",
    "    consumers_to_initialize = pd.DataFrame([[np.round(_num_consumers).astype(int), avg_res_consump]], index=consumers_types, columns=[\"num_consumers\",\"avg_consump\"])\n",
    "    consumers_to_initialize[\"total_consump\"] = consumers_to_initialize[\"num_consumers\"] * consumers_to_initialize[\"avg_consump\"]\n",
    "    return consumers_to_initialize\n",
    "\n",
    "consumers_to_initialize = getConsumers(res_unit_consump, num_consumers)\n",
    "consumers_to_initialize"
   ]
  },
  {
   "cell_type": "code",
   "execution_count": null,
   "id": "a37096dc",
   "metadata": {},
   "outputs": [],
   "source": [
    "print(\"Simulation Parameters: \")\n",
    "print(\"Consumption: {} MW\".format(consumers_to_initialize[\"total_consump\"].loc[\"Residential\"]))\n",
    "print(\"Generation:  {} MW\".format((gen_to_instantiate[\"counts\"] * gen_to_instantiate[\"capacity_mw\"]).sum()))"
   ]
  },
  {
   "cell_type": "markdown",
   "id": "37d09e57",
   "metadata": {},
   "source": [
    "***"
   ]
  },
  {
   "cell_type": "code",
   "execution_count": null,
   "id": "c0901f77",
   "metadata": {},
   "outputs": [],
   "source": [
    "# we'll pull a generator at random from this distribution\n",
    "future_facil_counts = np.round(facil_counts.T * capacity_increase).astype(int).T.counts.values\n",
    "plt.bar(facil_counts.index, future_facil_counts, color=colors.color[facil_counts.index].values)\n",
    "plt.title(\"2030 Generator Counts:\\n{} Facilities\".format(sum(future_facil_counts)))\n",
    "plt.ylabel(\"number of generators\")\n",
    "# plt.ylim(0,1)\n",
    "plt.xticks(rotation=90)\n",
    "plt.show()"
   ]
  },
  {
   "cell_type": "markdown",
   "id": "c22c8246",
   "metadata": {},
   "source": [
    "## Hashing into uniform buckets\n",
    "\n",
    "To evently distribute the labor of matching a `Generators` with a set `C` of consumers, we need to generate hashes uniformly and distributed over the range [0,2<sup>n</sup>). In the case of MurmurHash3, that's a 32 bit range.\n",
    "\n",
    "For reproduceability, the hash should be deterministic, so using a specified seed is important."
   ]
  },
  {
   "cell_type": "code",
   "execution_count": null,
   "id": "90d9f690",
   "metadata": {},
   "outputs": [],
   "source": [
    "import warnings\n",
    "warnings.filterwarnings(action='once')"
   ]
  },
  {
   "cell_type": "code",
   "execution_count": null,
   "id": "cba53817",
   "metadata": {},
   "outputs": [],
   "source": [
    "import mmh3"
   ]
  },
  {
   "cell_type": "code",
   "execution_count": null,
   "id": "98af7b36",
   "metadata": {
    "scrolled": true
   },
   "outputs": [],
   "source": [
    "print(mmh3.hash('foo', 42))\n",
    "print(mmh3.hash('bar', 42))\n",
    "print(mmh3.hash('foo', 42))"
   ]
  },
  {
   "cell_type": "code",
   "execution_count": null,
   "id": "96bef2cd",
   "metadata": {},
   "outputs": [],
   "source": [
    "128/8"
   ]
  },
  {
   "cell_type": "code",
   "execution_count": null,
   "id": "6515d479",
   "metadata": {},
   "outputs": [],
   "source": [
    "a = mmh3.hash('foo', 42)\n",
    "a.to_bytes(4, \"big\", signed=True).decode('unicode_escape')"
   ]
  },
  {
   "cell_type": "markdown",
   "id": "33c06e40",
   "metadata": {},
   "source": [
    "***"
   ]
  },
  {
   "cell_type": "markdown",
   "id": "9f7edf2c",
   "metadata": {},
   "source": [
    "# gRPC"
   ]
  },
  {
   "cell_type": "markdown",
   "id": "831fe52d",
   "metadata": {},
   "source": [
    "We'll be defining the **services** and **types** used by those services.\n",
    "\n",
    "Let's start by defining the different services each node type will need to support:\n",
    "\n",
    "## Generators"
   ]
  },
  {
   "cell_type": "markdown",
   "id": "05edc149",
   "metadata": {},
   "source": [
    "A `generator` must be able to request being added to the network; declare to the network what its type; genertaion capacity (in MWs) and its safety threshold (% of total capacity), be made aware of its tracker, update its tracker when its capacity has changed; request that the tracker shed a minimum amount of load (by reassigning consumers to other generators); hold the state of  demand on itself (by keeping an associative array of active consumers and their consumption); \"black out\" if demand from the consumers in its *distribution trees* exceeds its current generation capacity; track the time and duration of blackouts.\n",
    "\n",
    "Black outs occur when a `tracker` is too slow to reassign excess demand on a `generator`. During a black out all consumers in the `generator`'s distribution tree are **choked**. A such, a `generator` must store its own copy of its distribution tree, so it can multicast to the `consumer`s that they are being choked."
   ]
  },
  {
   "cell_type": "markdown",
   "id": "7923fcd4",
   "metadata": {},
   "source": [
    "### Services\n",
    "\n",
    "#### `GeneratorJoin`\n",
    "##### Methods:\n",
    "- `GeneratorJoin(PeerCtx)` &rarr; `IdHash`\n",
    "- `ConsumerJoin(PeerCtx)` &rarr; `Guid`\n",
    "\n"
   ]
  },
  {
   "cell_type": "markdown",
   "id": "1c2bbfa4",
   "metadata": {},
   "source": [
    "## Consumers\n",
    "\n",
    "A `consumer` must be able to request a 128-bit ID<sup>1</sup>; maintain the state of its `tracker` and `generator` addresses, and its `current_consumption` and its `last_consumption_signalled`; mutate its `current_consumption` pseudo-randomly; update its generator after each call to `mutate_consumption`; update its `tracker` if and only if the change in consumption is above a given threshold or if it is `deferrable`. When the `consumer` signals that it wants to start `deferrable` consumption, it starts a timeout. At timeout the deferred consumption is added to its `generator`.\n",
    "\n",
    "<sup>1</sup> For interchangability with the devices IPv4 address, we'll use 128-bit random int bit shifted 80 + 16 bits to the right, so we are left with a 32-bit address in the least significant digits. In the future, we may just use the real consumers IPv6 address."
   ]
  },
  {
   "cell_type": "markdown",
   "id": "6d2f7a68",
   "metadata": {},
   "source": [
    "## Tracker\n",
    "\n",
    "A `tracker` must be able to maintain state about the generators assigned to it, the consumers assigned to it (and their `current_consumption`); track the available capacity of all generators managed by a peer tracker; request to pass consumers from their management to a peer tracker with avaiable capacity."
   ]
  },
  {
   "cell_type": "markdown",
   "id": "f7dce55d",
   "metadata": {},
   "source": [
    "## Bootstrapping Server\n",
    "\n",
    "The `bootstrap_server` provides IDs to all generators and consumers that request them."
   ]
  },
  {
   "cell_type": "markdown",
   "id": "0f7cb1bd",
   "metadata": {},
   "source": [
    "### Services\n",
    "\n",
    "#### `JoinGridService`\n",
    "##### Methods:\n",
    "- `GeneratorJoin(PeerCtx)` &rarr; `IdHash`\n",
    "- `ConsumerJoin(PeerCtx)` &rarr; `Guid`\n",
    "\n"
   ]
  },
  {
   "cell_type": "markdown",
   "id": "1ab31ebf",
   "metadata": {},
   "source": [
    "## Generator Metronome\n",
    "\n",
    "the `generator_metronome` server receives a `start` signal once all the peers have been bootstrapped; then it \n",
    "multicasts updates to rewnewable generators after each timestep (`t`) has been computed.\n"
   ]
  },
  {
   "cell_type": "code",
   "execution_count": null,
   "id": "8dad7f42",
   "metadata": {},
   "outputs": [],
   "source": []
  },
  {
   "cell_type": "markdown",
   "id": "883a05c7",
   "metadata": {},
   "source": [
    "***"
   ]
  },
  {
   "cell_type": "code",
   "execution_count": null,
   "id": "8146a58b",
   "metadata": {},
   "outputs": [],
   "source": [
    "# plt.pie(np.round(g30[g30.portion > 0].portion*100,1), labels=g30[g30.portion > 0].index,autopct='%.1f%%')\n",
    "# plt.title(\"Electricity generation by source\\nNew York State (2030)\")\n",
    "# plt.show()"
   ]
  },
  {
   "cell_type": "code",
   "execution_count": null,
   "id": "e4c4d6ca",
   "metadata": {
    "scrolled": false
   },
   "outputs": [],
   "source": [
    "# plt.pie(np.round(g22[g22.portion > 0].portion*100,1), labels=g22[g22.portion > 0].index,autopct='%.1f%%')\n",
    "# plt.title(\"Electricity generation by source\\nNew York State (2022)\")\n",
    "# plt.show()"
   ]
  },
  {
   "cell_type": "code",
   "execution_count": null,
   "id": "e624fee6",
   "metadata": {},
   "outputs": [],
   "source": [
    "hydro_fluctuations = (monthly_elec.hydroelectric.max() - monthly_elec.hydroelectric.min()) / monthly_elec.hydroelectric.max()\n",
    "print(\"Hydroelectric generation fluctuates by: {}%\".format(round(hydro_fluctuations*100)))"
   ]
  },
  {
   "cell_type": "code",
   "execution_count": null,
   "id": "175de1f4",
   "metadata": {},
   "outputs": [],
   "source": [
    "# Monthly electric generation Hydro\n",
    "plt.scatter(monthly_elec.index, monthly_elec.hydroelectric)\n",
    "plt.show()"
   ]
  },
  {
   "cell_type": "code",
   "execution_count": null,
   "id": "e66a250d",
   "metadata": {},
   "outputs": [],
   "source": [
    "other_fluctuations = (monthly_elec.other_renewables.max() - monthly_elec.other_renewables.min()) / monthly_elec.other_renewables.max()\n",
    "print(\"Solar and Wind generation fluctuates by: {}%\".format(round(other_fluctuations*100)))"
   ]
  },
  {
   "cell_type": "code",
   "execution_count": null,
   "id": "d219f67d",
   "metadata": {},
   "outputs": [],
   "source": [
    "# Monthly electric generation Solar and Wind\n",
    "plt.scatter(monthly_elec.index, monthly_elec.other_renewables, color=\"gold\")\n",
    "plt.show()"
   ]
  },
  {
   "cell_type": "code",
   "execution_count": null,
   "id": "41a16827",
   "metadata": {},
   "outputs": [],
   "source": []
  }
 ],
 "metadata": {
  "kernelspec": {
   "display_name": "Python 3 (ipykernel)",
   "language": "python",
   "name": "python3"
  },
  "language_info": {
   "codemirror_mode": {
    "name": "ipython",
    "version": 3
   },
   "file_extension": ".py",
   "mimetype": "text/x-python",
   "name": "python",
   "nbconvert_exporter": "python",
   "pygments_lexer": "ipython3",
   "version": "3.9.7"
  }
 },
 "nbformat": 4,
 "nbformat_minor": 5
}
