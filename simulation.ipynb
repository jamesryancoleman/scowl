{
 "cells": [
  {
   "cell_type": "markdown",
   "id": "62875f44",
   "metadata": {},
   "source": [
    "# Scowl Simulated Deployment\n",
    "\n",
    "The objective of this notebook is to:\n",
    "1. Define the goals of the simulation run\n",
    "2. Declare the methods of running the simulation\n",
    "3. Visualize the simulation parameters\n",
    "4. Run the simulations\n",
    "5. Process the log data\n",
    "6. Visualize the results"
   ]
  },
  {
   "cell_type": "markdown",
   "id": "b6d4dcf8",
   "metadata": {},
   "source": [
    "## What is the scope of the simulation?\n",
    "\n",
    "1. Confirm the simulation parameters\n",
    "    1. `Peer` mix (generator, consumer, superpeer/storage)\n",
    "    2. Supply/Demand ratio\n",
    "    3. `Peer` to `Tracker` network latency\n",
    "    \n",
    "2. The evaluation should answer:\n",
    "    1. How many peers were rebalanced (independant variable) and how fast was the tracker able to rebalance its peers (dependant variable – in Hz)?\n",
    "    2. What was the limiting resource? (e.g., network, cpu, memory, etc.)\n",
    "    3. At what scale of peers did the limiting factor occur?\n",
    "    4. How long was the average peer \"starved\" for electricity?\n",
    "    5. When demand exceeded supply, did a black out occur?\n",
    "    6. When should the system be sharded?\n",
    "    7. When the network partitioned, did peers operating in SOC mode cause a black out in their region?\n",
    "    8. *Stretch Goal* How small of a partition can the grid operate under?"
   ]
  },
  {
   "cell_type": "markdown",
   "id": "adf602e8",
   "metadata": {},
   "source": [
    "# Simulation \"Run Sheet\"\n",
    "\n",
    "The simulation should have (2) main parts:\n",
    "1. **Electrical stress test under a healthy network** – There are imbalances between supply and demand, but the network remains up. `Trackers` attempt to pair `Consumers` with `Generators` that have additional capacity, the goal is to re-build the *ephemeral distribution trees* as fast as possible, so that `Consumer` starvation is minimized.\n",
    "2. **Electrical stress test under a partitioned network** – Communication between the tracker and the peers is broken. Each `Consumer` is operating as a self optimizing consumer (soc). Each `Generator` is a self-optimizing generator (sog). `Generators` can **only** warn SOCs of an impending black out by sending a `capacity_low` rpc to their partition. This is analagous to real-world electricity consumers feeling the voltage sag of a brown-out, in advance of a black out. The warned consumers respond by self-imposing a call to `DemandResponse()`, until the `Generator` unchokes them <sup>1</sup>. The key metric here is how many `capacity_low` messages are sent, and how much *deferred consumption* consumers experience (i.e., this messaged in time and kWhs).\n",
    "\n",
    "The energy mix will be based on the current the energy mix of New York State, and renewables will experience the same fluctations. The same \"day\" will be simulated for both the healthy network day (scowl) and the partitioned network day (soc/sog).\n",
    "\n",
    "***\n",
    "<sup>1</sup> This behaviour mimics the TCP congestion control algorithm, with a similar expectation that backing off demand will result in data (electricity) flowing again."
   ]
  },
  {
   "cell_type": "code",
   "execution_count": null,
   "id": "22c10e0f",
   "metadata": {},
   "outputs": [],
   "source": [
    "import pandas as pd\n",
    "import numpy as np\n",
    "import matplotlib.pyplot as plt"
   ]
  },
  {
   "cell_type": "markdown",
   "id": "3e39d72f",
   "metadata": {},
   "source": [
    "## Electricity Generation Mix NY State (2020)"
   ]
  },
  {
   "cell_type": "code",
   "execution_count": null,
   "id": "aada708d",
   "metadata": {},
   "outputs": [],
   "source": [
    "g22 = pd.read_csv(\"data/2022_elec_gen_mix.csv\")\n",
    "g22.set_index(\"type\", inplace= True)\n",
    "g22['portion'] = g22.mwh / (g22.mwh.sum())\n",
    "g22.sort_values('mwh', ascending=False, inplace=True)\n",
    "g22['renewable'] = [False, False, True, True, True, False, True, True]\n",
    "g22"
   ]
  },
  {
   "cell_type": "code",
   "execution_count": null,
   "id": "61b43e5e",
   "metadata": {},
   "outputs": [],
   "source": [
    "# pd.concat([g22,pd.DataFrame(g22.sum()).T]).rename(index={0: '2022 Total'})"
   ]
  },
  {
   "cell_type": "code",
   "execution_count": null,
   "id": "5e48bb06",
   "metadata": {},
   "outputs": [],
   "source": [
    "# Assigning consistent colors for graphs\n",
    "import matplotlib.colors as mcolors\n",
    "mcolors.TABLEAU_COLORS\n",
    "\n",
    "colors = []\n",
    "for i, v in enumerate(g22.index):\n",
    "    colors.append([v, list(mcolors.TABLEAU_COLORS.items())[i][0]])\n",
    "colors = pd.DataFrame(colors, columns=[\"type\", \"color\"]).set_index(\"type\")\n",
    "\n",
    "# using either is fine\n",
    "g22 = pd.concat([g22,colors], axis = 1)\n",
    "color_dict = g22.color.to_dict()"
   ]
  },
  {
   "cell_type": "markdown",
   "id": "f598b978",
   "metadata": {},
   "source": [
    "***"
   ]
  },
  {
   "cell_type": "markdown",
   "id": "e3926ab5",
   "metadata": {},
   "source": [
    "## Electricity Generation Mix NY State (2030)"
   ]
  },
  {
   "cell_type": "code",
   "execution_count": null,
   "id": "5788a164",
   "metadata": {},
   "outputs": [],
   "source": [
    "g30 = pd.read_csv(\"data/2030_elec_gen_mix.csv\")\n",
    "g30.set_index(\"type\", inplace= True)\n",
    "g30['portion'] = g30.mwh / (g30.mwh.sum())\n",
    "g30.sort_values('mwh', ascending=False, inplace=True)\n",
    "g22 = g22.reindex(g30.index.to_list()) # make g22 use same index order as g30\n",
    "g30['renewable'] = g22['renewable']\n",
    "g30['color'] = g22['color']\n",
    "g30\n",
    "# pd.concat([g30,pd.DataFrame(g30.sum()).T]).rename(index={0: '2023 Total'})"
   ]
  },
  {
   "cell_type": "markdown",
   "id": "194edfa1",
   "metadata": {},
   "source": [
    "## Electricity Mix 2022 and 2030"
   ]
  },
  {
   "cell_type": "code",
   "execution_count": null,
   "id": "46ae047d",
   "metadata": {},
   "outputs": [],
   "source": [
    "fig = plt.figure(figsize=(7.5,3), dpi=110)\n",
    "\n",
    "ax1 = fig.add_subplot(121)\n",
    "ax1.pie(np.round(g22[g22.portion > 0].portion*100,1), labels=g22[g22.portion > 0].index,autopct='%.1f%%', textprops={'fontsize': 8}, colors=g22[g22.portion > 0].color)\n",
    "ax1.title.set_text('Electricity generation by source\\nNew York State (2022)')\n",
    "ax1.title.set_size(9)\n",
    "\n",
    "ax2 = fig.add_subplot(122)\n",
    "ax2.pie(np.round(g30[g30.portion > 0].portion*100,1), labels=g30[g30.portion > 0].index,autopct='%.1f%%', textprops={'fontsize': 8}, colors=g30[g30.portion > 0].color)\n",
    "ax2.title.set_text('Electricity generation by source\\nNew York State (2030)')\n",
    "ax2.title.set_size(9)\n",
    "\n",
    "plt.show()"
   ]
  },
  {
   "cell_type": "code",
   "execution_count": null,
   "id": "25602c8a",
   "metadata": {},
   "outputs": [],
   "source": [
    "df = pd.concat([g22.portion,g30.portion], axis=1)\n",
    "df.columns = [\"g22\",\"g30\"]\n",
    "capacity_increase = df.g30 / df.g22\n",
    "capacity_increase[~np.isfinite(capacity_increase)] = g30.portion[~np.isfinite(capacity_increase)]*100\n",
    "capacity_increase"
   ]
  },
  {
   "cell_type": "markdown",
   "id": "22a700bd",
   "metadata": {},
   "source": [
    "## Electricity Generation by Month"
   ]
  },
  {
   "cell_type": "code",
   "execution_count": null,
   "id": "21f19c30",
   "metadata": {
    "scrolled": false
   },
   "outputs": [],
   "source": [
    "monthly_elec = pd.read_csv(\"data/ny_electricity_by_month.csv\", skiprows=4)\n",
    "monthly_elec.drop([\"units\",\"source key\"], axis=1,inplace=True)\n",
    "monthly_elec.set_index(\"description\", inplace=True)\n",
    "monthly_elec = monthly_elec.T\n",
    "monthly_elec.drop([\"New York\", \"New York : all fuels (utility-scale)\"], axis=1,inplace=True)\n",
    "monthly_elec.columns = [\"hydroelectric\", \"other_renewables\"]\n",
    "\n",
    "month_years = [i.split(\"-\") for i in monthly_elec.index.to_list()]\n",
    "months = [i[0] for i in month_years]\n",
    "years = [int(i[1]) for i in month_years]\n",
    "\n",
    "monthly_elec.index = months\n",
    "monthly_elec['year'] = (np.array(years) + 2000).astype(int)\n",
    "\n",
    "monthly_elec.head(12).T"
   ]
  },
  {
   "cell_type": "code",
   "execution_count": null,
   "id": "b90d3082",
   "metadata": {},
   "outputs": [],
   "source": [
    "hydro_mwh = []\n",
    "for month in monthly_elec.index.unique():\n",
    "    hydro_mwh.append(monthly_elec.hydroelectric[monthly_elec.index == month].values)\n",
    "\n",
    "hydro_mins = pd.DataFrame(hydro_mwh).T.min()\n",
    "hydro_maxs = pd.DataFrame(hydro_mwh).T.max()\n",
    "hydro_meds = pd.DataFrame(hydro_mwh).T.median()\n",
    "\n",
    "fig, ax1 = plt.subplots(figsize=(7.5,3), dpi=110)\n",
    "\n",
    "parts1 = ax1.violinplot(hydro_mwh, showmedians=False, showextrema=False)\n",
    "ax1.set_title('Hydroelectric generation by month\\n2001-2022')\n",
    "ax1.set_xticks(np.arange(1, 12 + 1))\n",
    "ax1.set_ylabel(\"mWh\")\n",
    "ax1.set_xlabel(\"month\")\n",
    "\n",
    "for pc in parts1['bodies']:\n",
    "    pc.set_ec('tab:blue')\n",
    "    pc.set_facecolor('tab:blue')\n",
    "    pc.set_alpha(0.5)\n",
    "    \n",
    "\n",
    "# ax1.scatter([1]*len(months), monthly_elec.hydroelectric, marker='o', color='k', s=15, alpha=.1,zorder=3)\n",
    "ax1.scatter(range(1,12+1), hydro_meds, marker='o', color='k', s=30, alpha=1,zorder=3)\n",
    "ax1.vlines(range(1,12+1), hydro_mins, hydro_maxs, color='k', linestyle='-', lw=0.75)\n",
    "\n",
    "plt.show()"
   ]
  },
  {
   "cell_type": "code",
   "execution_count": null,
   "id": "634a1db2",
   "metadata": {},
   "outputs": [],
   "source": [
    "other_mwh = []\n",
    "for month in monthly_elec.index.unique():\n",
    "    other_mwh.append(monthly_elec.other_renewables[monthly_elec.index == month].values)\n",
    "\n",
    "other_mins = pd.DataFrame(other_mwh).T.min()\n",
    "other_maxs = pd.DataFrame(other_mwh).T.max()\n",
    "other_meds = pd.DataFrame(other_mwh).T.median()\n",
    "\n",
    "fig, ax1 = plt.subplots(figsize=(7.5,3), dpi=110)\n",
    "\n",
    "parts1 = ax1.violinplot(other_mwh, showmedians=False, showextrema=False)\n",
    "ax1.set_title('Solar and wind generation by month\\n2001-2022')\n",
    "ax1.set_xticks(np.arange(1, 12+1))\n",
    "ax1.set_ylabel(\"mWh\")\n",
    "ax1.set_xlabel(\"month\")\n",
    "\n",
    "for pc in parts1['bodies']:\n",
    "    pc.set_ec('gold')\n",
    "    pc.set_facecolor('gold')\n",
    "    pc.set_alpha(0.5)\n",
    "    \n",
    "# ax1.scatter([1]*len(months), monthly_elec.hydroelectric, marker='o', color='k', s=15, alpha=.1,zorder=3)\n",
    "ax1.scatter(range(1,12+1), other_meds, marker='o', color='k', s=30, alpha=1,zorder=3)\n",
    "ax1.vlines(range(1,12+1), other_mins, other_maxs, color='k', linestyle='-', lw=0.75)\n",
    "\n",
    "plt.show()"
   ]
  },
  {
   "cell_type": "markdown",
   "id": "b86faf2e",
   "metadata": {},
   "source": [
    "***"
   ]
  },
  {
   "cell_type": "markdown",
   "id": "5740a2be",
   "metadata": {},
   "source": [
    "## Understanding DERs in 2022"
   ]
  },
  {
   "cell_type": "code",
   "execution_count": null,
   "id": "210e5b1f",
   "metadata": {},
   "outputs": [],
   "source": [
    "cols = [\n",
    "    'Number of Devices',\n",
    "    'Rated Electric Generation Per Device (kW)',\n",
    "    'Primary Fuel',\n",
    "    'ESS Type',\n",
    "    'ESS Subtype',\n",
    "    'Rated Electric Storage Capacity Per Device (kWh)',\n",
    "    'Equivalent Electrical Storage Capacity Per Device from Cooling Sources (kWh)',\n",
    "]\n",
    "\n",
    "short_cols = [\n",
    "    'quantity',\n",
    "    'generation',\n",
    "    'fuel',\n",
    "    'storage_type',\n",
    "    'storage_subtype',\n",
    "    'storage_capacity',\n",
    "    'cooling_storage_capacity',\n",
    "]\n",
    "\n",
    "ders = pd.read_excel('data/nys_der_metrics.xlsx', sheet_name='DE Resources')\n",
    "ders = ders[cols]\n",
    "ders.columns = short_cols\n",
    "ders.head()"
   ]
  },
  {
   "cell_type": "code",
   "execution_count": null,
   "id": "b0cffce4",
   "metadata": {},
   "outputs": [],
   "source": [
    "total_gen = ders.generation.sum()\n",
    "total_electric_storage = ders.storage_capacity.sum()\n",
    "total_cooling_storage = ders.storage_capacity.sum()"
   ]
  },
  {
   "cell_type": "markdown",
   "id": "cc3f9a85",
   "metadata": {},
   "source": [
    "### DER Growth Assumptions \n",
    "\n",
    "Per state motor vehicle registrations in 2017, there **4%** of all cars in the US are registered in NYS.\n",
    "\n",
    "[EEI](https://www.eei.org/News/news/All/eei-projects-26-million-electric-vehicles-will-be-on-us-roads-in-2030#:~:text=The%20number%20of%20EVs%20on,on%20U.S.%20roads%20in%202030.) projects that there will be 26.4M electric cars on the road, meaning 4% of those will be in NYS.\n",
    "\n",
    "Per [Car and Driver](https://www.caranddriver.com/features/g36278968/best-selling-evs-of-2021/) the number one selling electric car in 2021 was the Tesla Model Y with a battery size of ~80kWhs [source](https://www.caranddriver.com/tesla/model-y/specs).\n",
    "\n",
    "So let's assume that there's a total of **1,056,000 electric vehicles** (26.4M vehicles * 4% in NYS) with a total storage capacity of 84,480,000 kWhs or 84,480 MWhs of ***additional*** electric storage capacity will be available in 2030.\n",
    "\n",
    "Let's double the adoption of cooling storage..."
   ]
  },
  {
   "cell_type": "code",
   "execution_count": null,
   "id": "8b838c6b",
   "metadata": {},
   "outputs": [],
   "source": [
    "# All in MWh\n",
    "der_stats = [\n",
    "        {'year': 2022, 'elec_gen': total_gen/1000, 'elec_storage': total_electric_storage/1000, 'cooling_storage': total_electric_storage/1000},\n",
    "        {'year': 2030, 'elec_gen': total_gen*2.5/1000, 'elec_storage': (total_electric_storage/1000) + 84480, 'cooling_storage': total_electric_storage*2/1000}\n",
    "    ]\n",
    "\n",
    "print(\"DER Capacities by type\")\n",
    "der_stats = pd.DataFrame(der_stats)\n",
    "der_stats.set_index(\"year\", inplace=True)\n",
    "der_stats"
   ]
  },
  {
   "cell_type": "code",
   "execution_count": null,
   "id": "e8cce9da",
   "metadata": {},
   "outputs": [],
   "source": [
    "print(\"Operational DER Resources (2022)\\n\")\n",
    "print(\"Total electric generation (MW): {}\".format(total_gen/1000))\n",
    "print(\"Total electric storage (MWh):    {}\".format(total_electric_storage/1000))\n",
    "print(\"Total cooling storage (MWh):     {}\".format(total_electric_storage/1000))\n",
    "\n",
    "print(\"\\n\\nEstimated DER Resources (2030)\\n\")\n",
    "print(\"Total electric generation (MW): {}\".format(total_gen*2.5/1000))\n",
    "print(\"Total electric storage (MWh):   {}\".format((total_electric_storage/1000) + 84480))\n",
    "print(\"Total cooling storage (MWh):     {}\".format(total_electric_storage*2/1000))\n",
    "\n",
    "der_stats.plot.bar(zorder=5)\n",
    "plt.yscale('log') # or \"log\"\n",
    "plt.ylabel(\"MWh (log scale)\")\n",
    "plt.grid(which='major', zorder=3, color='k', linewidth=1) # color='r', linestyle='-', linewidth=2\n",
    "plt.grid(which='minor', zorder=4, linewidth=0.5)\n",
    "plt.title(\"Expected growth in NY State DERs\\n2022 - 2030\")\n",
    "plt.show()"
   ]
  },
  {
   "cell_type": "markdown",
   "id": "7a81dec0",
   "metadata": {},
   "source": [
    "## Simulating a dymanic electricity market\n",
    "\n",
    "To raise the stakes that **ScOWL** must content with, we'll have an aggregate supply that is always chasing the demand curve. In order to prevent blackouts, and minimize brownouts, we'll have to rapidly recalcuate the *ephermal distribution trees* for each `Generateor` presently available.\n",
    "\n",
    "#### In short,\n",
    "\n",
    "- When we have an excess of supply, our storage resources should kick in.\n",
    "- When we have an too much demand, a `Generator` should signal to each `Consumer` in their distribution tree to reduce demand (via a `low_capacity` RPC).\n",
    "- If a `Consumer` does not back off fast enough, it could blackout their whole tree.\n",
    "- When a `Consumers` region is blackedout, the `Tracker` tries to pair its consumption with another `Generator` and add it to their tree. If it cannot find a `Generator` with available capacity. That `Consumer` gets ***starved***. \n",
    "- `Consumer` starvation is a key metric for evaluation."
   ]
  },
  {
   "cell_type": "code",
   "execution_count": null,
   "id": "15d0dce4",
   "metadata": {
    "scrolled": true
   },
   "outputs": [],
   "source": [
    "# T is a multiplier that is used to set the timescale of each trial run.\n",
    "# T may be 12 seconds --> 12 months.\n",
    "# The base units are seconds\n",
    "T = 12\n",
    "T_units = \"seconds\"\n",
    "time = np.arange(0,T*np.pi,0.1)\n",
    "supply = np.cos(time) + g30.mwh.sum()\n",
    "demand = np.sin(time) + g30.mwh.sum()\n",
    "data = {\n",
    "    \"supply\": supply,\n",
    "    \"demand\": demand\n",
    "}\n",
    "df = pd.DataFrame(data, index=time)\n",
    "\n",
    "fig, ax1 = plt.subplots(figsize=(7.5,3), dpi=110)\n",
    "\n",
    "ax1.plot(df['supply'], color=\"black\")\n",
    "ax1.plot(df['demand'], color=\"tab:red\")            \n",
    "ax1.set_ylabel(\"MWh\")\n",
    "ax1.set_xlabel(T_units)\n",
    "ax1.set_title(\"Available Supply vs. Desired Demand\")\n",
    "plt.legend([\"supply\",\"demand\"])\n",
    "\n",
    "plt.show()"
   ]
  },
  {
   "cell_type": "markdown",
   "id": "9ed65712",
   "metadata": {},
   "source": [
    "## How many generators are online today?\n",
    "\n",
    "State codes:"
   ]
  },
  {
   "cell_type": "code",
   "execution_count": null,
   "id": "78fbf683",
   "metadata": {},
   "outputs": [],
   "source": [
    "pd.DataFrame([[\"NY\", 36],[\"PA\", 42],[\"MA\", 25],[\"NJ\", 34]], columns=(\"state\",\"code\")).set_index(\"state\").T"
   ]
  },
  {
   "cell_type": "code",
   "execution_count": null,
   "id": "ba936f3e",
   "metadata": {},
   "outputs": [],
   "source": [
    "gen_facilities = pd.read_csv('data/2021_generation_facilities.csv',skiprows=1)\n",
    "gen_facilities.head(3)"
   ]
  },
  {
   "cell_type": "code",
   "execution_count": null,
   "id": "df4a352b",
   "metadata": {},
   "outputs": [],
   "source": [
    "# many hydro facilities produced no electricity in 2021, maybe they are old?\n",
    "fig = gen_facilities[gen_facilities.gwh > 0][\"Type 1\"].value_counts().plot.bar()\n",
    "fig.set_title(\"NYISO Facility Counts (2021)\")\n",
    "fig.set_ylabel(\"number of facilities\")\n",
    "fig.set_xlabel(\"generation type\")\n",
    "plt.show()"
   ]
  },
  {
   "cell_type": "code",
   "execution_count": null,
   "id": "cf9cdff3",
   "metadata": {},
   "outputs": [],
   "source": [
    "fig = gen_facilities.groupby(\"Type 1\").sum()[\"Name Plate Rating (V) MW\"].plot.bar()\n",
    "fig.set_title(\"NYISO Facility Nominal Capacity (2021)\")\n",
    "fig.set_ylabel(\"output (MW)\")\n",
    "fig.set_xlabel(\"generation type\")\n",
    "plt.show()"
   ]
  },
  {
   "cell_type": "code",
   "execution_count": null,
   "id": "04decd5f",
   "metadata": {},
   "outputs": [],
   "source": [
    "fig = gen_facilities.groupby(\"Type 1\").sum()[\"gwh\"].plot.bar()\n",
    "fig.set_title(\"NYISO Facility Generation (2021)\")\n",
    "fig.set_ylabel(\"GWh\")\n",
    "fig.set_xlabel(\"generation type\")\n",
    "plt.show()"
   ]
  },
  {
   "cell_type": "markdown",
   "id": "3a1e9b25",
   "metadata": {},
   "source": [
    "### Average output by facility type"
   ]
  },
  {
   "cell_type": "code",
   "execution_count": null,
   "id": "4372943c",
   "metadata": {},
   "outputs": [],
   "source": [
    "num_facilities = gen_facilities[gen_facilities.gwh > 0][\"Type 1\"].value_counts()\n",
    "nominal_capacity = gen_facilities.groupby(\"Type 1\").sum()[\"Name Plate Rating (V) MW\"]\n",
    "avg_facility_cap = nominal_capacity / num_facilities\n",
    "avg_facility_cap = np.round(avg_facility_cap[avg_facility_cap > 0]).astype(int)\n",
    "avg_facility_cap"
   ]
  },
  {
   "cell_type": "markdown",
   "id": "06ac26db",
   "metadata": {},
   "source": [
    "***"
   ]
  },
  {
   "cell_type": "markdown",
   "id": "790202a1",
   "metadata": {},
   "source": [
    "# Testbed Parameters"
   ]
  },
  {
   "cell_type": "markdown",
   "id": "5960974a",
   "metadata": {},
   "source": [
    "## Part 1: Instantiating peers\n",
    "\n",
    "### Generators\n",
    "\n",
    "Drawing from the stats above, we will instate generators proportional to:\n",
    "1. Total generation capacity\n",
    "2. Generation capacity by unit type\n",
    "3. Number of units as function of average unit size\n",
    "\n",
    "Per the 2021 \"Gold Book\" the forecasted total capacity is expected to be: **41,071 MW**\n",
    "\n",
    "Per the 2021 \"Gold Book\" the forecasted Summer Peak Demand to be: **32,121 MW**\n",
    "\n",
    "Per the 2021 \"Gold Book\" the forecasted Winter Peak Demand to be: **25,275 MW**\n"
   ]
  },
  {
   "cell_type": "code",
   "execution_count": null,
   "id": "c270eeef",
   "metadata": {},
   "outputs": [],
   "source": [
    "# total capacity (MW)\n",
    "nominal_cap = 41071\n",
    "# Summer peak demand (MW)\n",
    "summer_peak = 32121\n",
    "# Winter peak demand (MW)\n",
    "winter_peak = 25275"
   ]
  },
  {
   "cell_type": "code",
   "execution_count": null,
   "id": "92732b50",
   "metadata": {},
   "outputs": [],
   "source": [
    "std_index_counts = {\n",
    "    \"hydroelectric\": [\"WAT\"],\n",
    "    \"nuclear\": [\"UR\"],\n",
    "    \"natural gas-fired\": [\"NG\",\"MTE\"],\n",
    "    \"utility-scale solar\": [\"SUN\"],\n",
    "    \"land-based wind\": [\"WND\"],\n",
    "    \"petroleum-fired\": [\"BIT\",\"KER\",\"FO2\",\"FO6\",\"REF\"]\n",
    "}"
   ]
  },
  {
   "cell_type": "code",
   "execution_count": null,
   "id": "349e5ee1",
   "metadata": {},
   "outputs": [],
   "source": [
    "# # uncomment to view exact number of facilities, by sub-type\n",
    "# gen_facilities[gen_facilities.gwh > 0][\"Type 1\"].value_counts()"
   ]
  },
  {
   "cell_type": "code",
   "execution_count": null,
   "id": "a961bee7",
   "metadata": {},
   "outputs": [],
   "source": [
    "def sumAndReindex(data, indexes):\n",
    "    reformatted_data = []\n",
    "    for t in indexes:\n",
    "        reformatted_data.append([t, data[indexes[t]].sum()]) \n",
    "    return reformatted_data\n",
    "\n",
    "facil_counts = sumAndReindex(gen_facilities[gen_facilities.gwh > 0][\"Type 1\"].value_counts(), std_index_counts)\n",
    "facil_counts = pd.DataFrame(facil_counts, columns=[\"type\",\"counts\"]).set_index(\"type\")\n",
    "print(\"True Count of Generation Facilities by Type\")\n",
    "facil_counts.T"
   ]
  },
  {
   "cell_type": "code",
   "execution_count": null,
   "id": "1e0669a9",
   "metadata": {},
   "outputs": [],
   "source": [
    "def avgAndReindex(data, indexes):\n",
    "    reformatted_data = []\n",
    "    for t in indexes:\n",
    "        reformatted_data.append([t, data[indexes[t]].mean()]) \n",
    "    return reformatted_data\n",
    "\n",
    "avg_gen = avgAndReindex(avg_facility_cap, std_index_counts)\n",
    "avg_gen = pd.DataFrame(avg_gen, columns=[\"type\",\"capacity_mw\"]).set_index(\"type\")\n",
    "print(\"Average Nominal Generation Facility Capacity (MW)\")\n",
    "avg_gen.T"
   ]
  },
  {
   "cell_type": "markdown",
   "id": "31e86014",
   "metadata": {},
   "source": [
    "## Compute number of generation facilities to instantiate \n",
    "\n",
    "\\<facility_type\\><sub>total</sub> = total_generation<sub>nominal</sub> / generation_per_facility<sub>average</sub>"
   ]
  },
  {
   "cell_type": "code",
   "execution_count": null,
   "id": "b63615c8",
   "metadata": {},
   "outputs": [],
   "source": [
    "# add better notes HERE for parametric facilities counts\n",
    "facil_counts = np.round((nominal_cap * g22.portion / avg_gen.T))\n",
    "facil_counts = facil_counts.T.sort_values('capacity_mw', ascending=False)\n",
    "facil_counts.columns = [\"counts\"]\n",
    "facil_counts.T"
   ]
  },
  {
   "cell_type": "code",
   "execution_count": null,
   "id": "9987c4ca",
   "metadata": {},
   "outputs": [],
   "source": [
    "plt.bar(facil_counts.index, facil_counts.counts.values, color=colors.color[facil_counts.index].values)\n",
    "plt.title(\"2022 Generator Counts\")\n",
    "plt.ylabel(\"number of generators\")\n",
    "plt.xticks(rotation=90)\n",
    "plt.show()"
   ]
  },
  {
   "cell_type": "code",
   "execution_count": null,
   "id": "bdd3940e",
   "metadata": {},
   "outputs": [],
   "source": [
    "future_facil_counts = np.ceil(facil_counts.T * capacity_increase).T\n",
    "future_facil_counts[np.isnan(future_facil_counts.counts)] = 0\n",
    "future_facil_counts.counts = future_facil_counts.counts.astype(int)\n",
    "future_facil_counts.T"
   ]
  },
  {
   "cell_type": "code",
   "execution_count": null,
   "id": "2aaf7e30",
   "metadata": {},
   "outputs": [],
   "source": [
    "future_facil_counts.loc[facil_counts.index]"
   ]
  },
  {
   "cell_type": "code",
   "execution_count": null,
   "id": "897f84e6",
   "metadata": {},
   "outputs": [],
   "source": [
    "plt.bar(\n",
    "    future_facil_counts.loc[facil_counts.index].index,\n",
    "    future_facil_counts.loc[facil_counts.index].counts,\n",
    "    color=colors.color[future_facil_counts.loc[facil_counts.index].index].values)\n",
    "plt.title(\"2030 Generator Counts\")\n",
    "plt.ylabel(\"number of generators\")\n",
    "plt.ylim(0,250)\n",
    "plt.xticks(rotation=90)\n",
    "plt.show()"
   ]
  },
  {
   "cell_type": "code",
   "execution_count": null,
   "id": "8ba41574",
   "metadata": {},
   "outputs": [],
   "source": [
    "final_gen_stats = pd.concat([facil_counts, avg_gen], axis=1)\n",
    "print(\"We'll instantiate our testbed with these parameters:\")\n",
    "final_gen_stats.T"
   ]
  },
  {
   "cell_type": "markdown",
   "id": "6988e85a",
   "metadata": {},
   "source": [
    "***"
   ]
  },
  {
   "cell_type": "markdown",
   "id": "682113b7",
   "metadata": {},
   "source": [
    "### Consumers\n",
    "\n",
    "The most recently published dataset is from 2018. We'll base our portion of consumers based on that."
   ]
  },
  {
   "cell_type": "code",
   "execution_count": null,
   "id": "1f78af49",
   "metadata": {},
   "outputs": [],
   "source": [
    "elec_customers = pd.read_csv('data/electricity_sales_by_customer_GWh.csv').set_index(\"Year\").drop(\"Grand Total\", axis=1)\n",
    "portion_elec_customers = elec_customers.loc[2018] / elec_customers.loc[2018].sum() "
   ]
  },
  {
   "cell_type": "code",
   "execution_count": null,
   "id": "727c803b",
   "metadata": {},
   "outputs": [],
   "source": [
    "plt.pie(portion_elec_customers, labels=portion_elec_customers.index, autopct='%.1f%%')\n",
    "plt.title(\"Portion of Electricity Use by Customer Type\")\n",
    "plt.show()"
   ]
  },
  {
   "cell_type": "markdown",
   "id": "c6b65d68",
   "metadata": {},
   "source": [
    "According to [Census.gov](https://www.census.gov/quickfacts/NY), there are **8,531,063 housing units** in New York State, as of 2021."
   ]
  },
  {
   "cell_type": "markdown",
   "id": "2f4fc26d",
   "metadata": {},
   "source": [
    "According to the [NYSERDA commercial baseline study](https://www.nyserda.ny.gov/about/publications/building-stock-and-potential-studies/commercial-statewide-baseline-study), there are **367,223 commercial buildings** in New York State. (Vol 1., pg.13)\n",
    "\n",
    "For simplicity, we'll assume that **transportation** and **industrial** end uses have ***fixed*** energy consumption."
   ]
  },
  {
   "cell_type": "code",
   "execution_count": null,
   "id": "4bc219f3",
   "metadata": {},
   "outputs": [],
   "source": [
    "res_units = 8531063 \n",
    "com_units = 367223"
   ]
  },
  {
   "cell_type": "code",
   "execution_count": null,
   "id": "92dc3d87",
   "metadata": {},
   "outputs": [],
   "source": [
    "# Average consumption by unit type (MW)\n",
    "consump_by_cust_type = summer_peak * portion_elec_customers\n",
    "consump_by_cust_type"
   ]
  },
  {
   "cell_type": "code",
   "execution_count": null,
   "id": "618d2675",
   "metadata": {},
   "outputs": [],
   "source": [
    "res_unit_consump = consump_by_cust_type[\"Residential\"] / res_units\n",
    "com_unit_consump = consump_by_cust_type[\"Commercial\"] / com_units\n",
    "print(\"Residential Units:          {}\".format(res_units))\n",
    "print(\"Avg. res unit consumption:  {} MW\".format(np.round(res_unit_consump, 5)))\n",
    "print(\"Commercial Units:           {}\".format(com_units))\n",
    "print(\"Avg. com. unit consumption: {} MW\".format(np.round(com_unit_consump, 5)))"
   ]
  },
  {
   "cell_type": "markdown",
   "id": "724dc6c1",
   "metadata": {},
   "source": [
    "We'll use this [source ](https://www.perchenergy.com/blog/energy/what-appliances-use-most-electricity-home)for energy break downs for residential units. TV has been combined with plug loads."
   ]
  },
  {
   "cell_type": "code",
   "execution_count": null,
   "id": "dead4cf6",
   "metadata": {},
   "outputs": [],
   "source": [
    "res_elec_by_use = [\n",
    "    {\"load\": \"hvac\", \"portion\": 0.45, \"deferrable_for\": 60*10},\n",
    "    {\"load\": \"hot_water\", \"portion\": 0.12, \"deferrable_for\": 60*5},\n",
    "    {\"load\": \"lighting\", \"portion\": 0.10, \"deferrable_for\": 0},\n",
    "    {\"load\": \"fridge\", \"portion\": 0.08, \"deferrable_for\": 60*3},\n",
    "    {\"load\": \"washer_dryer\", \"portion\": 0.05, \"deferrable_for\": 60*15},\n",
    "    {\"load\": \"oven\", \"portion\": 0.03, \"deferrable_for\": 0},\n",
    "    {\"load\": \"dishwasher\", \"portion\": 0.02, \"deferrable_for\": 60*30},\n",
    "    {\"load\": \"other\", \"portion\": 0.15, \"deferrable_for\": 60*30},\n",
    "]"
   ]
  },
  {
   "cell_type": "code",
   "execution_count": null,
   "id": "507ce09d",
   "metadata": {},
   "outputs": [],
   "source": [
    "print(\"Prototypical energy loads (residential)\")\n",
    "res_elec_by_use = pd.DataFrame(res_elec_by_use)\n",
    "res_elec_by_use"
   ]
  },
  {
   "cell_type": "markdown",
   "id": "15f027a7",
   "metadata": {},
   "source": [
    "***"
   ]
  },
  {
   "cell_type": "code",
   "execution_count": null,
   "id": "759132cc",
   "metadata": {},
   "outputs": [],
   "source": [
    "res_elec_by_use.portion.sum()"
   ]
  },
  {
   "cell_type": "markdown",
   "id": "fa10ee67",
   "metadata": {},
   "source": [
    "# Trackers\n",
    "\n",
    "Trackers must maintain *ephemeral distribution trees*, graphs that connect a `Consumer`  to a `Generator` with  spare capacity. As `Consumer` demand increases, `Generators` may be forced to `disconnect()` one or more consumers to maitain a `safetyThreshold`.\n",
    "\n",
    "The following is a sketch of the tracker microservice."
   ]
  },
  {
   "cell_type": "code",
   "execution_count": null,
   "id": "ba08f450",
   "metadata": {},
   "outputs": [],
   "source": [
    "class Tracker:\n",
    "    def __init__(self):\n",
    "        self.Trees = []\n",
    "        self.Consumers = []\n",
    "        self.Generators = []\n",
    "    \n",
    "    def balanceTrees(self):\n",
    "        \"\"\"Balance all trees managed by the tracker\"\"\"\n",
    "        pass\n",
    "    \n",
    "    def findGenerator(self, consumer):\n",
    "        \"\"\"Find a generator with spare capacity for a consumer to matched with\"\"\"\n",
    "        pass\n",
    "    \n",
    "    def findConsumers(self, generator):\n",
    "        \"\"\"Find a consumer with to absorb spare generation capacity\"\"\"\n",
    "        pass\n",
    "    \n",
    "    def shedLoad(self, generator):\n",
    "        \"\"\"Pick consumers to disconnect from a generator to maintain the safety threshold\"\"\"\n",
    "        pass\n",
    "    \n",
    "    def registerGenerator(self, generator):\n",
    "        \"\"\"Add a generator to self.Generators\"\"\"\n",
    "        pass\n",
    "    \n",
    "    def registerConsumer(self, consumer):\n",
    "        \"\"\"Add a consumer to self.Consumers\"\"\"\n",
    "        pass\n",
    "    "
   ]
  },
  {
   "cell_type": "markdown",
   "id": "04f01b9a",
   "metadata": {},
   "source": [
    "Trackers must store metadata about each `Generator` and `Consumer` that they are responsible for. The abbreviated set of `Peer` metadata the tracker must store is captured below:"
   ]
  },
  {
   "cell_type": "code",
   "execution_count": null,
   "id": "f8130aa3",
   "metadata": {},
   "outputs": [],
   "source": [
    "SEED = 42 # for deterministic hashing with MurmurHash3\n",
    "\n",
    "class mPeer:\n",
    "    def __init__(self, addr):\n",
    "        self.addr = addr #IPV4 address\n",
    "        self.id = self.setHash()\n",
    "    \n",
    "    def getAddr(self):\n",
    "        return self.addr\n",
    "    \n",
    "    def setHash(self):\n",
    "        import mmh3\n",
    "        import secrets\n",
    "        import warnings\n",
    "#         warnings.filterwarnings('ignore')\n",
    "        self.id = mmh3.hash(self.addr + secrets.token_hex(2),SEED) # secrets.token_hex is non-deterministic...\n",
    "        return self.id\n",
    "\n",
    "class mGenerator(mPeer):\n",
    "    def __init__(self, addr, nominal_capacity, kind):\n",
    "        self.addr = addr #IPV4 address\n",
    "        self.id = self.setHash()\n",
    "        \n",
    "        self.kind = kind\n",
    "        self.nominal_cap = nominal_capacity # MW\n",
    "        \n",
    "        self.cur_cap = 0    # MW\n",
    "        self.cur_demand = 0 # MW\n",
    "\n",
    "class mConsumer(mPeer):\n",
    "    def __init__(self, addr, avg_consump, kind, desired_consump=None, deferrable_consump=0, demand_responsive_consump=0):\n",
    "        self.addr = addr #IPV4 address\n",
    "        self.id = self.setHash()\n",
    "        \n",
    "        self.avg_consump = avg_consump               # MW\n",
    "        self.deferrable_consump = deferrable_consump # MW\n",
    "        self.dr_consump = demand_responsive_consump  # MW\n",
    "        \n",
    "        if desired_consump is None:\n",
    "            self.desired_consump = self.avg_consump  # MW\n",
    "        \n",
    "        self.cur_consump = 0 # current consumption in MW        \n",
    "\n",
    "class mStorage(mConsumer):\n",
    "    def __init__(self, addr, capacity):\n",
    "        self.addr = addr  #IPV4 address\n",
    "        self.id = self.setHash()\n",
    "\n",
    "        self.capacity = 0 # MW"
   ]
  },
  {
   "cell_type": "code",
   "execution_count": null,
   "id": "618c0aba",
   "metadata": {},
   "outputs": [],
   "source": [
    "# Test\n",
    "# this will return a new value each time because of the use of the non-determinstic nonce...\n",
    "# I don't think that's ideal.\n",
    "p = mPeer(\"192.168.1.2:3003\")\n",
    "print(p.id)"
   ]
  },
  {
   "cell_type": "markdown",
   "id": "6095ba0f",
   "metadata": {},
   "source": [
    "## Assigning Buckets for Generator Trackers\n",
    "\n",
    "To evenly distribute the labor of generating distribution trees. We'll need to assign a fixed number of buckets to filter each `Generator.id` into.\n",
    "\n",
    "I'll be assuming the use of the d430 resource type on emulab. It has:\n",
    "- 16 CPU cores @ 2.4Hz\n",
    "- 64 GB DDR4 RAM @ 2133MT/s\n",
    "\n",
    "Accordingly, we'll assume **8-16 `Tracker` buckets**.\n",
    "\n",
    "### Method\n",
    "\n",
    "Bucket assignment works as follows:"
   ]
  },
  {
   "cell_type": "code",
   "execution_count": null,
   "id": "834a2964",
   "metadata": {},
   "outputs": [],
   "source": [
    "HASH_SIZE = 32"
   ]
  },
  {
   "cell_type": "code",
   "execution_count": null,
   "id": "9584352a",
   "metadata": {},
   "outputs": [],
   "source": [
    "def assignBucket(hash_result, num_buckets=8):\n",
    "    # map hash_result in to the range [0,1]\n",
    "    hash_result += 2**(HASH_SIZE-1)\n",
    "    p = hash_result / 2**(HASH_SIZE)\n",
    "    b = int(np.round(p * (num_buckets)))\n",
    "    if b >= num_buckets: b = 0 \n",
    "    return b"
   ]
  },
  {
   "cell_type": "markdown",
   "id": "f3355076",
   "metadata": {},
   "source": [
    "### Checking for correctness"
   ]
  },
  {
   "cell_type": "code",
   "execution_count": null,
   "id": "36bd8ef7",
   "metadata": {},
   "outputs": [],
   "source": [
    "r = range(-1 * 2**(HASH_SIZE-1), 2**(HASH_SIZE-1) + 1, 2**16)\n",
    "bucket = []\n",
    "for sample in r:\n",
    "    bucket.append(assignBucket(sample))"
   ]
  },
  {
   "cell_type": "code",
   "execution_count": null,
   "id": "9c4a1071",
   "metadata": {},
   "outputs": [],
   "source": [
    "results = pd.DataFrame(bucket)"
   ]
  },
  {
   "cell_type": "code",
   "execution_count": null,
   "id": "bd99c008",
   "metadata": {},
   "outputs": [],
   "source": [
    "pd.DataFrame(results.value_counts(),columns=[\"bucket_size\"]).sort_index().T"
   ]
  },
  {
   "cell_type": "markdown",
   "id": "f30cc4f0",
   "metadata": {},
   "source": [
    "## Tracker Mock Up"
   ]
  },
  {
   "cell_type": "markdown",
   "id": "1af33a50",
   "metadata": {},
   "source": [
    "How do Trackers get their `Generator` assignments?"
   ]
  },
  {
   "cell_type": "markdown",
   "id": "bd27d01e",
   "metadata": {},
   "source": [
    "- a loadbalancer?\n",
    "\n",
    "What's the use case (bootstrapping)?\n",
    "1. New `Generator` comes online.\n",
    "2. It pings a server to know where which `Tracker` it should be assigned to.\n",
    "3. When that server responds, the `Geneterator` connects with that `Tracker` so it may be given an ephemeral distribution tree."
   ]
  },
  {
   "cell_type": "markdown",
   "id": "ad03f5f2",
   "metadata": {},
   "source": [
    "### Bootstrapping Server Mockup"
   ]
  },
  {
   "cell_type": "code",
   "execution_count": null,
   "id": "459e51ea",
   "metadata": {},
   "outputs": [],
   "source": [
    "# a new generator comes online,\n",
    "# it pings the bootstrapping server for the tracker_id and ip_address to reach out to:\n",
    "class GeneratorBootstrappingServer():\n",
    "    def __init__(self):\n",
    "        self.trackers = {\n",
    "            1 : \"192.168.1.1:3001\",\n",
    "            2 : \"192.168.1.1:3002\",\n",
    "            3 : \"192.168.1.1:3003\",\n",
    "            4 : \"192.168.1.1:3004\",\n",
    "            5 : \"192.168.1.2:3001\",\n",
    "            6 : \"192.168.1.2:3002\",\n",
    "            7 : \"192.168.1.2:3003\",\n",
    "            8 : \"192.168.1.2:3004\",\n",
    "        }\n",
    "        self.HASH_SIZE = 32 # if using mmh3.hash()\n",
    "    \n",
    "    def assign_bucket(self, gen_addr, num_buckets=8):\n",
    "        # add some a random nonce\n",
    "        import mmh3\n",
    "        import secrets\n",
    "        import warnings\n",
    "        # hashing done at the bootstrapping server so that a compromised generator can't \n",
    "        # intentionally overload a tracker by trying to register generators with the same ip and \"nonce\"\n",
    "        # secrets.token_hex is non-deterministic...\n",
    "        hash_result = mmh3.hash(gen_addr + secrets.token_hex(2),SEED)\n",
    "        \n",
    "        # get the hash_result into the range of an unsigned 32-bit int\n",
    "        hash_result += 2**(self.HASH_SIZE-1)\n",
    "\n",
    "        # map hash_result in to the range [0,1]\n",
    "        p = hash_result / 2**(self.HASH_SIZE)\n",
    "        \n",
    "        # assign to specific bucket\n",
    "        b = int(np.round(p * (num_buckets)))\n",
    "        if b >= num_buckets: b = 0 # clean up results\n",
    "        \n",
    "        # return the bucket to the client (Generator)\n",
    "        return b"
   ]
  },
  {
   "cell_type": "code",
   "execution_count": null,
   "id": "11998d01",
   "metadata": {},
   "outputs": [],
   "source": [
    "gbs = GeneratorBootstrappingServer()"
   ]
  },
  {
   "cell_type": "markdown",
   "id": "c919a411",
   "metadata": {},
   "source": [
    "Sanity Check"
   ]
  },
  {
   "cell_type": "code",
   "execution_count": null,
   "id": "d461f8ec",
   "metadata": {
    "scrolled": true
   },
   "outputs": [],
   "source": [
    "peers_to_sort = 1000\n",
    "\n"
   ]
  },
  {
   "cell_type": "markdown",
   "id": "d7743fa5",
   "metadata": {},
   "source": [
    "### Correctness Check No. 2"
   ]
  },
  {
   "cell_type": "code",
   "execution_count": null,
   "id": "8d6e72c6",
   "metadata": {},
   "outputs": [],
   "source": [
    "generator_mdata = []\n",
    "for kind in final_gen_stats[final_gen_stats.counts > 0].index:\n",
    "    for facil in range(final_gen_stats.loc[kind].counts.astype(int)):\n",
    "        generator_mdata.append(\n",
    "            mGenerator(\n",
    "                '192.168.1.0:65535',\n",
    "                final_gen_stats.loc[kind].capacity_mw,\n",
    "                kind\n",
    "            )\n",
    "        )\n",
    "    print(\"Created: {} generators\".format(kind))\n",
    "\n",
    "print(\"\\nTotal Generators created: {}\".format(len(generator_mdata)))"
   ]
  },
  {
   "cell_type": "code",
   "execution_count": null,
   "id": "92dcdf13",
   "metadata": {},
   "outputs": [],
   "source": [
    "# Create bootsctrapping server\n",
    "gbs = GeneratorBootstrappingServer()\n",
    "\n",
    "tracker_assignments = []\n",
    "for generator in generator_mdata:\n",
    "    tracker_assignments.append([gbs.assign_bucket(generator.addr)])\n",
    "\n",
    "\n",
    "pd.DataFrame(tracker_assignments)[0].value_counts().sort_index().plot.bar()\n",
    "plt.show()"
   ]
  },
  {
   "cell_type": "markdown",
   "id": "849af5ea",
   "metadata": {},
   "source": [
    "***"
   ]
  },
  {
   "cell_type": "markdown",
   "id": "11be2728",
   "metadata": {},
   "source": [
    "## Memory allocation test\n",
    "\n",
    "Let's see how much memory it takes to store the basic data about each peer.\n",
    "\n",
    "Before instantiation of `Generators` this notebook has used **254.4 MB** of memory.\n",
    "\n",
    "We'll now instantiate the following number of `Peers`, with dummy data."
   ]
  },
  {
   "cell_type": "code",
   "execution_count": null,
   "id": "c71adcf7",
   "metadata": {},
   "outputs": [],
   "source": [
    "final_gen_stats.T"
   ]
  },
  {
   "cell_type": "code",
   "execution_count": null,
   "id": "5b8f29b2",
   "metadata": {
    "scrolled": true
   },
   "outputs": [],
   "source": [
    "generator_mdata = []\n",
    "for kind in final_gen_stats[final_gen_stats.counts > 0].index:\n",
    "    for facil in range(final_gen_stats.loc[kind].counts.astype(int)):\n",
    "        generator_mdata.append(\n",
    "            mGenerator(\n",
    "                '192.168.1.0:65535',\n",
    "                final_gen_stats.loc[kind].capacity_mw,\n",
    "                kind\n",
    "            )\n",
    "        )\n",
    "    print(\"Created: {} generators\".format(kind))\n",
    "\n",
    "print(\"\\nTotal Generators created: {}\".format(len(generator_mdata)))"
   ]
  },
  {
   "cell_type": "code",
   "execution_count": null,
   "id": "7903accc",
   "metadata": {},
   "outputs": [],
   "source": [
    "# Inspect sample\n",
    "print(\"type:    \", generator_mdata[256].kind)\n",
    "print(\"addr:    \", generator_mdata[256].addr)\n",
    "print(\"capacity:\", generator_mdata[256].nominal_cap, \"MW\")"
   ]
  },
  {
   "cell_type": "markdown",
   "id": "483587b9",
   "metadata": {},
   "source": [
    "After instantiation of 342 `Generators` this notebook has used **254.4 MB** of memory. So, holding all generators in memory requires **3.2 MB** of memory\n",
    "\n",
    "Before instantiation of `Consumers` this notebook has used **273.2 MB** of memory.\n",
    "\n",
    "We'll now instantiate the following number of `Peers`, with dummy data.\n"
   ]
  },
  {
   "cell_type": "code",
   "execution_count": null,
   "id": "98089cd6",
   "metadata": {},
   "outputs": [],
   "source": [
    "print(\"Residential Units:          {}\".format(res_units))\n",
    "print(\"Avg. res unit consumption:  {} MW\".format(np.round(res_unit_consump, 5)))\n",
    "print(\"Commercial Units:           {}\".format(com_units))\n",
    "print(\"Avg. com. unit consumption: {} MW\".format(np.round(com_unit_consump, 5)))"
   ]
  },
  {
   "cell_type": "code",
   "execution_count": null,
   "id": "88e8dd8c",
   "metadata": {},
   "outputs": [],
   "source": [
    "final_consumer_stats = pd.DataFrame(\n",
    "    [\n",
    "        {\"counts\": res_units, \"avg_consump\": res_unit_consump},\n",
    "        {\"counts\": com_units, \"avg_consump\": com_unit_consump}\n",
    "    ],\n",
    "    index=[\"residential\", \"commercial\"]\n",
    ")\n",
    "final_consumer_stats"
   ]
  },
  {
   "cell_type": "code",
   "execution_count": null,
   "id": "5d519bb0",
   "metadata": {},
   "outputs": [],
   "source": [
    "consumer_mdata = []\n",
    "consumers_created = 0\n",
    "for kind in final_consumer_stats[final_consumer_stats.counts > 0].index:\n",
    "    print(kind)\n",
    "    for consumer in range(final_consumer_stats.loc[kind].counts.astype(int)):\n",
    "        consumer_mdata.append(\n",
    "            mConsumer(\n",
    "                '192.168.1.0:65534',\n",
    "                final_consumer_stats.loc[kind].avg_consump,\n",
    "                kind\n",
    "            )\n",
    "        )\n",
    "        consumers_created += 1\n",
    "        if consumers_created >= 10000: break"
   ]
  },
  {
   "cell_type": "code",
   "execution_count": null,
   "id": "1c787ec9",
   "metadata": {},
   "outputs": [],
   "source": [
    "print(\"Created: {} consumers\".format(len(consumer_mdata)))"
   ]
  },
  {
   "cell_type": "code",
   "execution_count": null,
   "id": "e62d03d8",
   "metadata": {},
   "outputs": [],
   "source": [
    "mem_per_consumer = np.round(( 493.2 - 254.4 ) / 1000002, 8)\n",
    "mem_per_consumer"
   ]
  },
  {
   "cell_type": "markdown",
   "id": "42cf4e19",
   "metadata": {},
   "source": [
    "Before instantiation of `Consumers` this notebook has used **254.4 MB** of memory.\n",
    "\n",
    "After instantiation of `Consumers` this notebook has used **493.2 MB** of memory.\n",
    "\n",
    "So the average memory per consumer is: **0.0002388 MB**\n"
   ]
  },
  {
   "cell_type": "markdown",
   "id": "1bad48a0",
   "metadata": {},
   "source": [
    "So, to manage all the `Consumers` it would require:"
   ]
  },
  {
   "cell_type": "code",
   "execution_count": null,
   "id": "1f7f8955",
   "metadata": {},
   "outputs": [],
   "source": [
    "print(final_consumer_stats.counts.sum() * mem_per_consumer, \"MB of memory\")"
   ]
  },
  {
   "cell_type": "markdown",
   "id": "109c51b6",
   "metadata": {},
   "source": [
    "Or, about **2GB**"
   ]
  },
  {
   "cell_type": "markdown",
   "id": "8caf2449",
   "metadata": {},
   "source": [
    "***"
   ]
  },
  {
   "cell_type": "markdown",
   "id": "8c3541d3",
   "metadata": {},
   "source": [
    "## Energy Mix Generation Scripts\n",
    "\n",
    "We need to start by instantiating some peers. We'll do this at a fixed ratio of `Consumer`s and `Generator`s, **20,000:1**."
   ]
  },
  {
   "cell_type": "code",
   "execution_count": null,
   "id": "933b8426",
   "metadata": {},
   "outputs": [],
   "source": [
    "CTG = 20000/1"
   ]
  },
  {
   "cell_type": "code",
   "execution_count": null,
   "id": "91fcd602",
   "metadata": {},
   "outputs": [],
   "source": [
    "num_generators = 1 # multiplies the CTG rate to increate the number of consumers and generators"
   ]
  },
  {
   "cell_type": "code",
   "execution_count": null,
   "id": "094e0dfa",
   "metadata": {},
   "outputs": [],
   "source": [
    "future_facil_counts[future_facil_counts == 0] = 1\n",
    "future_facil_portions = pd.DataFrame(future_facil_counts, index=facil_counts.index)\n",
    "future_facil_portions.columns = [\"2030_portions\"]\n",
    "future_facil_portions[\"2030_portions\"] = future_facil_portions[\"2030_portions\"] / future_facil_portions[\"2030_portions\"].sum()\n",
    "future_facil_portions.T"
   ]
  },
  {
   "cell_type": "code",
   "execution_count": null,
   "id": "437d5704",
   "metadata": {},
   "outputs": [],
   "source": [
    "# uncomment to save these portions,\n",
    "# then relocate from disk \n",
    "portions_path = 'simulation_config/2030_energy_mix/portions.csv'\n",
    "future_facil_portions.to_csv(portions_path)\n",
    "future_facil_portions = pd.read_csv(portions_path).set_index(\"type\")\n",
    "future_facil_portions.T"
   ]
  },
  {
   "cell_type": "markdown",
   "id": "10907583",
   "metadata": {},
   "source": [
    "This function computes the **number** and **types** of generation facilities to instantiate for the trial."
   ]
  },
  {
   "cell_type": "code",
   "execution_count": null,
   "id": "cf81f160",
   "metadata": {},
   "outputs": [],
   "source": [
    "def getRandFacility(_df, num_facilities=1, seed=10):\n",
    "    import numpy as np\n",
    "    \"\"\"you must pass dataframe with facility types as the index and the portions as the first column\"\"\"\n",
    "    \n",
    "    # format incoming data\n",
    "    df = _df # we want a copy\n",
    "    col_0 = df.columns[0]\n",
    "    df.sort_values(col_0, ascending=False, inplace=True)\n",
    "    portions = df[col_0]\n",
    "    \n",
    "    # compute breakpoints\n",
    "    df[\"breakpoint\"] = [np.sum(portions[:i+1]) for i, _ in enumerate(portions.values)]\n",
    "    \n",
    "    # create place to store output\n",
    "    output = df.index\n",
    "\n",
    "    # use a deterministic PRN\n",
    "    np.random.seed(seed) # default is 10\n",
    "    \n",
    "    # compute the facility determined by the result and the breakpoint\n",
    "    df[\"counts\"] = [0] * len(df)\n",
    "    for i in range(num_facilities):\n",
    "        result = np.random.random()\n",
    "        for kind in df.index:\n",
    "            if result <= df.loc[kind].breakpoint:\n",
    "                df.at[kind,\"counts\"] =  df.at[kind,\"counts\"] + 1\n",
    "                break\n",
    "    return df"
   ]
  },
  {
   "cell_type": "markdown",
   "id": "e151d249",
   "metadata": {},
   "source": [
    "Change this to alter the number of generators in the simulation"
   ]
  },
  {
   "cell_type": "code",
   "execution_count": null,
   "id": "f28eb69a",
   "metadata": {},
   "outputs": [],
   "source": [
    "num_generators = 100"
   ]
  },
  {
   "cell_type": "code",
   "execution_count": null,
   "id": "6143c791",
   "metadata": {},
   "outputs": [],
   "source": [
    "gen_to_instantiate = getRandFacility(future_facil_portions, num_generators) # set above\n",
    "gen_to_instantiate = pd.concat([gen_to_instantiate, avg_gen], axis=1)\n",
    "gen_to_instantiate.at[\"offshore wind\", \"capacity_mw\"] = gen_to_instantiate.at[\"land-based wind\", \"capacity_mw\"]\n",
    "#  home solar outout = 250 W per panel * 25 panels / 1000000 W per MW\n",
    "gen_to_instantiate.at[\"distributed solar\", \"capacity_mw\"] = ((250 * 25) / 10**6)\n",
    "gen_to_instantiate[\"total_output\"] = gen_to_instantiate[\"counts\"] * gen_to_instantiate[\"capacity_mw\"]\n",
    "\n",
    "print(\"Total Capacity (nominal) of {} Generators: {} MW\".format(num_generators, gen_to_instantiate.total_output.sum()))\n",
    "gen_to_instantiate.drop([\"2030_portions\",\"breakpoint\"],axis=1).T"
   ]
  },
  {
   "cell_type": "markdown",
   "id": "84abfe3d",
   "metadata": {},
   "source": [
    "https://www.cnet.com/home/energy-and-utilities/find-out-how-many-solar-panels-you-need-to-power-your-house/"
   ]
  },
  {
   "cell_type": "markdown",
   "id": "da2721da",
   "metadata": {},
   "source": [
    "Let's investigate the output visually."
   ]
  },
  {
   "cell_type": "code",
   "execution_count": null,
   "id": "3d206870",
   "metadata": {
    "scrolled": false
   },
   "outputs": [],
   "source": [
    "from matplotlib.ticker import MaxNLocator\n",
    "\n",
    "fig, (ax1, ax2) = plt.subplots(1, 2, figsize=(7.5,4), dpi=110)\n",
    "fig.suptitle('Trial Energy Mix: Facility Count and Output (MW)')\n",
    "\n",
    "_index = gen_to_instantiate.index\n",
    "\n",
    "ax1.bar(_index, gen_to_instantiate.counts.astype(int), color=colors.color[_index].values)\n",
    "ax1.yaxis.set_major_locator(MaxNLocator(integer=True))\n",
    "ax1.set_ylabel(\"number of facilties\")\n",
    "ax1.tick_params(axis='x', labelrotation=90)\n",
    "\n",
    "ax2.set_ylabel(\"total output (MW)\")\n",
    "ax2.bar(_index, gen_to_instantiate.total_output, color=colors.color[_index].values)\n",
    "ax2.tick_params(axis='x', labelrotation=90)\n",
    "\n",
    "print(\"total generation facilities: {}\".format(gen_to_instantiate.counts.sum()))\n",
    "print(\"total generation capacity:   {:.0f} MW\".format(gen_to_instantiate.total_output.sum()))\n",
    "\n",
    "plt.tight_layout()\n",
    "plt.show()"
   ]
  },
  {
   "cell_type": "markdown",
   "id": "51122277",
   "metadata": {},
   "source": [
    "Now we need to take this and output a config file or series of config files to be instantiated on emulab"
   ]
  },
  {
   "cell_type": "code",
   "execution_count": null,
   "id": "16ad6345",
   "metadata": {},
   "outputs": [],
   "source": [
    "def FormatGenConfigFiles(frame, num_hosts=1):\n",
    "    \"\"\"Takes two arguments a dataframe of the number of facilities\n",
    "    and the number of config files you'd like to generate (one for each host).\n",
    "    \"\"\"\n",
    "    columns = ['counts','capacity_mw','total_output']\n",
    "    df = frame[columns] # make a copy\n",
    "    # to load balance the trackers we should allocate a roughly even total_output to each tracker\n",
    "    sorted_df = df.sort_values('capacity_mw', ascending=False)\n",
    "#     print(sorted_df)\n",
    "    \n",
    "    capacity_per_host = df['total_output'].sum() / num_hosts\n",
    "    print()\n",
    "    print(\"Config files will include:\")\n",
    "    print(\"    - {} generators sharded across {} hosts\".format(df['counts'].sum(), num_hosts))\n",
    "    print(\"    - Each host will be responsible for ~{:.2f} MW\".format(capacity_per_host))\n",
    "    print(\"    - For a total of {} MW of generation capacity\".format(df['total_output'].sum()))    \n",
    "    print()\n",
    "    \n",
    "    facil_remaining = sorted_df.copy()\n",
    "    print(\"\\nGeneration to allocate\")\n",
    "    print(\"---------\")\n",
    "    print(facil_remaining)\n",
    "    print(\"---------\")\n",
    "#     print(pd.DataFrame(facil_remaining.sum(),columns=['Total']).set_index('Total',inplace=True).T)\n",
    "#     print(\"---------\")\n",
    "\n",
    "    # copy df and reset mutable values to zero \n",
    "    initial_df = sorted_df.copy()\n",
    "    initial_df['counts'] = 0\n",
    "    initial_df['total_output'] = 0\n",
    "    \n",
    "    # create a list containing a dataframe for each host.\n",
    "    host_responsibilities = [initial_df.copy() for i in range(num_hosts)]\n",
    "    \n",
    "    # iterate through the kinds of facilities,\n",
    "    # starting with the ones with the highest output\n",
    "    print()\n",
    "    for kind in facil_remaining.index:\n",
    "#         print(\"There were {} {} generators, \".format(facil_remaining.at[kind,\"counts\"], kind), end='')\n",
    "        while (facil_remaining.at[kind,\"counts\"] > 0):\n",
    "            for i in range(num_hosts):\n",
    "                host_responsibilities[i].at[kind,\"counts\"] += 1\n",
    "#                 print(host_responsibilities[i].at[kind,\"counts\"], end=\" \")\n",
    "#                 print(facil_remaining.at[kind,\"counts\"])\n",
    "                facil_remaining.at[kind,\"counts\"] -= 1\n",
    "                if (facil_remaining.at[kind,\"counts\"] == 0): break\n",
    "#         print(\"now there are {} {} generators\".format(facil_remaining.at[kind,\"counts\"], kind))\n",
    "\n",
    "    for i, host in enumerate(host_responsibilities):\n",
    "        host_responsibilities[i]['total_output'] = host_responsibilities[i]['counts'] * host_responsibilities[i]['capacity_mw']\n",
    "        print(\"\\nHost {}\".format(i+1))\n",
    "        print(\"---------\")\n",
    "        print(host)\n",
    "    \n",
    "    return host_responsibilities\n",
    "    \n",
    "host_configs = FormatGenConfigFiles(gen_to_instantiate, num_hosts=1)\n",
    "host_configs\n",
    "\n",
    "host_facils = 0\n",
    "host_output = 0\n",
    "\n",
    "print(\"---------\")\n",
    "print(\"\\nHost allocation summary\")\n",
    "print(\"---------\")\n",
    "for i, h in enumerate(host_configs):\n",
    "    host_facils += h.counts.sum()\n",
    "    host_output += h.total_output.sum()\n",
    "    print(\"Host {}:\".format(i+1))\n",
    "    print(\"    - Facilities {}\".format(h.counts.sum()))\n",
    "    print(\"    - Capacity   {} MW\".format(h.total_output.sum()))\n",
    "print(\"=========\")\n",
    "print(\"Simulation total:\")\n",
    "print(\"    - Facilities {}\".format(host_facils))\n",
    "print(\"    - Capacity   {} MW\".format(host_output))\n",
    "print(\"---------\")\n",
    "\n",
    "# print()\n",
    "# print(\"resulting facilities: {}\".format(host_facils))\n",
    "# print(\"resulting output:     {} MW\".format(host_output))"
   ]
  },
  {
   "cell_type": "markdown",
   "id": "bf412fd4",
   "metadata": {},
   "source": [
    "Next we need to take this and generate a config file...\n",
    "***\n",
    "### Writing Config Files\n",
    "Let's write each dataframe to a CSV and try loading it from a standalone program."
   ]
  },
  {
   "cell_type": "code",
   "execution_count": null,
   "id": "63032bec",
   "metadata": {},
   "outputs": [],
   "source": [
    "for i, h in enumerate(host_configs):\n",
    "    path = 'simulation_config/2030_energy_mix/host_configs/host_config_{}.csv'.format(i+1)\n",
    "    h.to_csv(path)"
   ]
  },
  {
   "cell_type": "markdown",
   "id": "4c58dda5",
   "metadata": {},
   "source": [
    "### Loading from config & adding address\n",
    "When the generator bootstraps it will need to provide its **IP address** and the **port** it would like to be contacted at.\n",
    "\n",
    "We'll load the `generator`s from config folder."
   ]
  },
  {
   "cell_type": "code",
   "execution_count": null,
   "id": "df021bdb",
   "metadata": {},
   "outputs": [],
   "source": [
    "import os\n",
    "\n",
    "config_path = 'simulation_config/2030_energy_mix/host_configs/'\n",
    "config_files = [f for f in os.listdir(config_path) if os.path.isfile(join(config_path, f))]\n",
    "config_files"
   ]
  },
  {
   "cell_type": "code",
   "execution_count": null,
   "id": "0cc7d654",
   "metadata": {},
   "outputs": [],
   "source": [
    "config_from_disk = []\n",
    "for file in config_files:\n",
    "    full_path = os.path.join(config_path, file)\n",
    "    print(pd.read_csv(os.path.join(config_path, file)).set_index('type'))"
   ]
  },
  {
   "cell_type": "code",
   "execution_count": null,
   "id": "9f1a9606",
   "metadata": {},
   "outputs": [],
   "source": [
    "def MakeGenInstances(ref_df, starting_port=32000, latency_best_case=10, latency_worst_case=100):\n",
    "    \"\"\"takes a data frame of counts and capacities,\n",
    "    returns a dataframe with IP addresses and ports.\n",
    "    \n",
    "    Latency is in ms\n",
    "    \"\"\"\n",
    "    import socket\n",
    "    ip_addr = socket.gethostbyname(socket.gethostname())\n",
    "    \n",
    "    num_rows = ref_df['counts'].sum()\n",
    "    \n",
    "    # intialize a empty dataframe\n",
    "    _df = pd.DataFrame()\n",
    "    gen_types = []\n",
    "    gen_capacity = []\n",
    "    for kind in ref_df.index:\n",
    "        for i in range(int(ref_df.at[kind, 'counts'])):\n",
    "            gen_types.append(kind)\n",
    "            gen_capacity.append(ref_df.at[kind, 'capacity_mw'])\n",
    "    _df['type'] = gen_types\n",
    "    _df['capacity_mw'] = gen_capacity\n",
    "    \n",
    "    # assign IP and ports to each generator\n",
    "    _df['addr'] = [\"{}:{}\".format(ip_addr, starting_port+i) for i in range(num_rows)]\n",
    "    # add a latency from 10 ms to 100 ms (uniformly distributed)\n",
    "    _df['rtt'] = np.random.randint(latency_best_case, latency_worst_case+1, num_rows)\n",
    "    \n",
    "    return _df\n",
    "\n",
    "MakeGenInstances(pd.read_csv(os.path.join(config_path, config_files[0])).set_index('type'),\n",
    "                 starting_port=32000)"
   ]
  },
  {
   "cell_type": "markdown",
   "id": "4feaea05",
   "metadata": {},
   "source": [
    "__12/6/2022 21:22__\n",
    "\n",
    "At this point I'm able to generate all the necessary metadata to instantiate all generators on a host\n",
    "\n",
    "__TODO:__\n",
    "- move to seperate client program. \n",
    "- have that client program launch instances of a generatorRPC clients\n",
    "- have those instances request hashes"
   ]
  },
  {
   "cell_type": "markdown",
   "id": "a99ff0da",
   "metadata": {},
   "source": [
    "Let's templatize the writing of a bashscript. Then modify the access priviledges of the file."
   ]
  },
  {
   "cell_type": "code",
   "execution_count": null,
   "id": "bc35219b",
   "metadata": {},
   "outputs": [],
   "source": [
    "def AppendLine(s, line):\n",
    "    \"\"\"takes a base string, s, and appends line on a newline\"\"\"\n",
    "    return \"{}\\n{}\".format(s,line)"
   ]
  },
  {
   "cell_type": "code",
   "execution_count": null,
   "id": "ad4e5bc3",
   "metadata": {},
   "outputs": [],
   "source": [
    "# for each generator in the trial\n",
    "# we'll instantiate one version of the generator client\n",
    "generator_script = \"#!/usr/bin/env bash\" # this will need to be changed for ubuntu\n",
    "\n",
    "lines = []\n",
    "generator_script = AppendLine(generator_script, \"echo 'hellow world!'\")"
   ]
  },
  {
   "cell_type": "code",
   "execution_count": null,
   "id": "e4ee44a1",
   "metadata": {},
   "outputs": [],
   "source": [
    "gen_launcher_path = 'simulation_config/2030_energy_mix/gen_launcher.sh'\n",
    "with open(gen_launcher_path, 'w') as reader:\n",
    "    reader.write(generator_script)\n",
    "\n",
    "subprocess.run([\"cat\", gen_launcher_path])"
   ]
  },
  {
   "cell_type": "code",
   "execution_count": null,
   "id": "4d0abab2",
   "metadata": {},
   "outputs": [],
   "source": [
    "# change it to an executable\n",
    "subprocess.run([\"chmod\", \"+xu\", gen_launcher_path])"
   ]
  },
  {
   "cell_type": "code",
   "execution_count": null,
   "id": "53243f77",
   "metadata": {},
   "outputs": [],
   "source": [
    "# test it\n",
    "with open('logs/bootstrap_server.log', 'a') as f:\n",
    "    subprocess.run([\"./{}\".format(gen_launcher_path)], stdout=f)"
   ]
  },
  {
   "cell_type": "code",
   "execution_count": null,
   "id": "261d4a68",
   "metadata": {},
   "outputs": [],
   "source": [
    "subprocess.run([\"./{}\".format(gen_launcher_path), \">>\", \"logs/bootstrap_server.log\"])\n"
   ]
  },
  {
   "cell_type": "code",
   "execution_count": null,
   "id": "ab22bac6",
   "metadata": {},
   "outputs": [],
   "source": [
    "import time\n",
    "\n",
    "# bootstrap_server_proc = subprocess.Popen([\"python\",\"bootstrap_server.py\"])\n",
    "# time.sleep(15) # ms\n",
    "bootstrap_server_proc.terminate()"
   ]
  },
  {
   "cell_type": "markdown",
   "id": "ae06dcdb",
   "metadata": {},
   "source": [
    "***"
   ]
  },
  {
   "cell_type": "markdown",
   "id": "bbfa3075",
   "metadata": {},
   "source": [
    "Next we'll instantiate our consumers at `Consumer` to `Generator`, **20,000:1**."
   ]
  },
  {
   "cell_type": "code",
   "execution_count": null,
   "id": "58bb1d21",
   "metadata": {},
   "outputs": [],
   "source": []
  },
  {
   "cell_type": "code",
   "execution_count": null,
   "id": "dcb905ac",
   "metadata": {},
   "outputs": [],
   "source": [
    "num_consumers = round(CTG * num_generators)\n",
    "print(\"Generators: {}\".format(num_generators))\n",
    "print(\"Consumers:  {:,}\".format(num_consumers))"
   ]
  },
  {
   "cell_type": "code",
   "execution_count": null,
   "id": "2bb9a062",
   "metadata": {},
   "outputs": [],
   "source": [
    "def getConsumers(avg_res_consump, _num_consumers, consumers_types=[\"Residential\"]):\n",
    "    \"\"\"returns a dataframe of the instantiation data for the consumers in a given simulation\"\"\"\n",
    "    consumers_to_initialize = pd.DataFrame([[np.round(_num_consumers).astype(int), avg_res_consump]], index=consumers_types, columns=[\"num_consumers\",\"avg_consump\"])\n",
    "    consumers_to_initialize[\"total_consump\"] = consumers_to_initialize[\"num_consumers\"] * consumers_to_initialize[\"avg_consump\"]\n",
    "    return consumers_to_initialize\n",
    "\n",
    "consumers_to_initialize = getConsumers(res_unit_consump, num_consumers)\n",
    "consumers_to_initialize"
   ]
  },
  {
   "cell_type": "code",
   "execution_count": null,
   "id": "a37096dc",
   "metadata": {},
   "outputs": [],
   "source": [
    "print(\"Simulation Parameters: \")\n",
    "print(\"Consumption: {} MW\".format(consumers_to_initialize[\"total_consump\"].loc[\"Residential\"]))\n",
    "print(\"Generation:  {} MW\".format((gen_to_instantiate[\"counts\"] * gen_to_instantiate[\"capacity_mw\"]).sum()))"
   ]
  },
  {
   "cell_type": "markdown",
   "id": "37d09e57",
   "metadata": {},
   "source": [
    "***"
   ]
  },
  {
   "cell_type": "code",
   "execution_count": null,
   "id": "c0901f77",
   "metadata": {},
   "outputs": [],
   "source": [
    "# we'll pull a generator at random from this distribution\n",
    "future_facil_counts = np.round(facil_counts.T * capacity_increase).astype(int).T.counts.values\n",
    "plt.bar(facil_counts.index, future_facil_counts, color=colors.color[facil_counts.index].values)\n",
    "plt.title(\"2030 Generator Counts:\\n{} Facilities\".format(sum(future_facil_counts)))\n",
    "plt.ylabel(\"number of generators\")\n",
    "# plt.ylim(0,1)\n",
    "plt.xticks(rotation=90)\n",
    "plt.show()"
   ]
  },
  {
   "cell_type": "markdown",
   "id": "c22c8246",
   "metadata": {},
   "source": [
    "## Hashing into uniform buckets\n",
    "\n",
    "To evently distribute the labor of matching a `Generators` with a set `C` of consumers, we need to generate hashes uniformly and distributed over the range [0,2<sup>n</sup>). In the case of MurmurHash3, that's a 32 bit range.\n",
    "\n",
    "For reproduceability, the hash should be deterministic, so using a specified seed is important."
   ]
  },
  {
   "cell_type": "code",
   "execution_count": null,
   "id": "90d9f690",
   "metadata": {},
   "outputs": [],
   "source": [
    "import warnings\n",
    "warnings.filterwarnings(action='once')"
   ]
  },
  {
   "cell_type": "code",
   "execution_count": null,
   "id": "cba53817",
   "metadata": {},
   "outputs": [],
   "source": [
    "import mmh3"
   ]
  },
  {
   "cell_type": "code",
   "execution_count": null,
   "id": "98af7b36",
   "metadata": {
    "scrolled": true
   },
   "outputs": [],
   "source": [
    "print(mmh3.hash('foo', 42))\n",
    "print(mmh3.hash('bar', 42))\n",
    "print(mmh3.hash('foo', 42))"
   ]
  },
  {
   "cell_type": "code",
   "execution_count": null,
   "id": "0f006900",
   "metadata": {},
   "outputs": [],
   "source": [
    "128/8"
   ]
  },
  {
   "cell_type": "code",
   "execution_count": null,
   "id": "00c0802d",
   "metadata": {},
   "outputs": [],
   "source": [
    "a = mmh3.hash('foo', 42)\n",
    "a.to_bytes(4, \"big\", signed=True).decode('unicode_escape')"
   ]
  },
  {
   "cell_type": "markdown",
   "id": "33c06e40",
   "metadata": {},
   "source": [
    "***"
   ]
  },
  {
   "cell_type": "markdown",
   "id": "9b0e3bcd",
   "metadata": {},
   "source": [
    "# gRPC"
   ]
  },
  {
   "cell_type": "markdown",
   "id": "7948ebfe",
   "metadata": {},
   "source": [
    "We'll be defining the **services** and **types** used by those services.\n",
    "\n",
    "Let's start by defining the different services each node type will need to support:\n",
    "\n",
    "## Generators"
   ]
  },
  {
   "cell_type": "markdown",
   "id": "9bd7cae0",
   "metadata": {},
   "source": [
    "A `generator` must be able to request being added to the network; declare to the network what its type; genertaion capacity (in MWs) and its safety threshold (% of total capacity), be made aware of its tracker, update its tracker when its capacity has changed; request that the tracker shed a minimum amount of load (by reassigning consumers to other generators); hold the state of  demand on itself (by keeping an associative array of active consumers and their consumption); \"black out\" if demand from the consumers in its *distribution trees* exceeds its current generation capacity; track the time and duration of blackouts.\n",
    "\n",
    "Black outs occur when a `tracker` is too slow to reassign excess demand on a `generator`. During a black out all consumers in the `generator`'s distribution tree are **choked**. A such, a `generator` must store its own copy of its distribution tree, so it can multicast to the `consumer`s that they are being choked."
   ]
  },
  {
   "cell_type": "markdown",
   "id": "e72f65e0",
   "metadata": {},
   "source": [
    "### Services\n",
    "\n",
    "#### `GeneratorJoin`\n",
    "##### Methods:\n",
    "- `GeneratorJoin(PeerCtx)` &rarr; `IdHash`\n",
    "- `ConsumerJoin(PeerCtx)` &rarr; `Guid`\n",
    "\n"
   ]
  },
  {
   "cell_type": "markdown",
   "id": "1a03d338",
   "metadata": {},
   "source": [
    "## Consumers\n",
    "\n",
    "A `consumer` must be able to request a 128-bit ID<sup>1</sup>; maintain the state of its `tracker` and `generator` addresses, and its `current_consumption` and its `last_consumption_signalled`; mutate its `current_consumption` pseudo-randomly; update its generator after each call to `mutate_consumption`; update its `tracker` if and only if the change in consumption is above a given threshold or if it is `deferrable`. When the `consumer` signals that it wants to start `deferrable` consumption, it starts a timeout. At timeout the deferred consumption is added to its `generator`.\n",
    "\n",
    "<sup>1</sup> For interchangability with the devices IPv4 address, we'll use 128-bit random int bit shifted 80 + 16 bits to the right, so we are left with a 32-bit address in the least significant digits. In the future, we may just use the real consumers IPv6 address."
   ]
  },
  {
   "cell_type": "markdown",
   "id": "348e53e4",
   "metadata": {},
   "source": [
    "## Tracker\n",
    "\n",
    "A `tracker` must be able to maintain state about the generators assigned to it, the consumers assigned to it (and their `current_consumption`); track the available capacity of all generators managed by a peer tracker; request to pass consumers from their management to a peer tracker with avaiable capacity."
   ]
  },
  {
   "cell_type": "markdown",
   "id": "b4a73354",
   "metadata": {},
   "source": [
    "## Bootstrapping Server\n",
    "\n",
    "The `bootstrap_server` provides IDs to all generators and consumers that request them."
   ]
  },
  {
   "cell_type": "markdown",
   "id": "0b1f0664",
   "metadata": {},
   "source": [
    "### Services\n",
    "\n",
    "#### `JoinGridService`\n",
    "##### Methods:\n",
    "- `GeneratorJoin(PeerCtx)` &rarr; `IdHash`\n",
    "- `ConsumerJoin(PeerCtx)` &rarr; `Guid`\n",
    "\n"
   ]
  },
  {
   "cell_type": "markdown",
   "id": "3b3e40cb",
   "metadata": {},
   "source": [
    "## Generator Metronome\n",
    "\n",
    "the `generator_metronome` server receives a `start` signal once all the peers have been bootstrapped; then it \n",
    "multicasts updates to rewnewable generators after each timestep (`t`) has been computed.\n"
   ]
  },
  {
   "cell_type": "code",
   "execution_count": null,
   "id": "681f9887",
   "metadata": {},
   "outputs": [],
   "source": []
  },
  {
   "cell_type": "markdown",
   "id": "9339d36f",
   "metadata": {},
   "source": [
    "***"
   ]
  },
  {
   "cell_type": "code",
   "execution_count": null,
   "id": "8146a58b",
   "metadata": {},
   "outputs": [],
   "source": [
    "# plt.pie(np.round(g30[g30.portion > 0].portion*100,1), labels=g30[g30.portion > 0].index,autopct='%.1f%%')\n",
    "# plt.title(\"Electricity generation by source\\nNew York State (2030)\")\n",
    "# plt.show()"
   ]
  },
  {
   "cell_type": "code",
   "execution_count": null,
   "id": "e4c4d6ca",
   "metadata": {
    "scrolled": false
   },
   "outputs": [],
   "source": [
    "# plt.pie(np.round(g22[g22.portion > 0].portion*100,1), labels=g22[g22.portion > 0].index,autopct='%.1f%%')\n",
    "# plt.title(\"Electricity generation by source\\nNew York State (2022)\")\n",
    "# plt.show()"
   ]
  },
  {
   "cell_type": "code",
   "execution_count": null,
   "id": "e624fee6",
   "metadata": {},
   "outputs": [],
   "source": [
    "hydro_fluctuations = (monthly_elec.hydroelectric.max() - monthly_elec.hydroelectric.min()) / monthly_elec.hydroelectric.max()\n",
    "print(\"Hydroelectric generation fluctuates by: {}%\".format(round(hydro_fluctuations*100)))"
   ]
  },
  {
   "cell_type": "code",
   "execution_count": null,
   "id": "175de1f4",
   "metadata": {},
   "outputs": [],
   "source": [
    "# Monthly electric generation Hydro\n",
    "plt.scatter(monthly_elec.index, monthly_elec.hydroelectric)\n",
    "plt.show()"
   ]
  },
  {
   "cell_type": "code",
   "execution_count": null,
   "id": "e66a250d",
   "metadata": {},
   "outputs": [],
   "source": [
    "other_fluctuations = (monthly_elec.other_renewables.max() - monthly_elec.other_renewables.min()) / monthly_elec.other_renewables.max()\n",
    "print(\"Solar and Wind generation fluctuates by: {}%\".format(round(other_fluctuations*100)))"
   ]
  },
  {
   "cell_type": "code",
   "execution_count": null,
   "id": "d219f67d",
   "metadata": {},
   "outputs": [],
   "source": [
    "# Monthly electric generation Solar and Wind\n",
    "plt.scatter(monthly_elec.index, monthly_elec.other_renewables, color=\"gold\")\n",
    "plt.show()"
   ]
  },
  {
   "cell_type": "code",
   "execution_count": null,
   "id": "41a16827",
   "metadata": {},
   "outputs": [],
   "source": []
  }
 ],
 "metadata": {
  "kernelspec": {
   "display_name": "Python 3 (ipykernel)",
   "language": "python",
   "name": "python3"
  },
  "language_info": {
   "codemirror_mode": {
    "name": "ipython",
    "version": 3
   },
   "file_extension": ".py",
   "mimetype": "text/x-python",
   "name": "python",
   "nbconvert_exporter": "python",
   "pygments_lexer": "ipython3",
   "version": "3.9.7"
  }
 },
 "nbformat": 4,
 "nbformat_minor": 5
}
